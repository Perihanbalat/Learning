{
 "cells": [
  {
   "cell_type": "markdown",
   "metadata": {},
   "source": [
    "## The objectives of this notebook is to implement a deep Neural Network model that:\n",
    "    - uses all the data from private and public companies\n",
    "    - predicts the total revenue for a company for a period of time based on the former period\n",
    "## It is divided into three main parts:\n",
    "    - Data agregation where we agregate data of income and balance sheets for private and public companies\n",
    "    - The baseline neural network model which is a neural network with one layer of one neurone\n",
    "    - The clustering and over-sampling of the data in order to improve the baseline model\n",
    "    - The deep neural network model implementation\n",
    "    "
   ]
  },
  {
   "cell_type": "code",
   "execution_count": 1,
   "metadata": {},
   "outputs": [],
   "source": [
    "'''\n",
    "We import the libraries necessary for the task\n",
    "We include some functions written in the src/data\n",
    "\n",
    "\n",
    "'''\n",
    "\n",
    "import pandas as pd\n",
    "import numpy as np\n",
    "import sys\n",
    "import os\n",
    "import seaborn as sns\n",
    "from matplotlib import pyplot as plt\n",
    "from matplotlib import pyplot as plt\n",
    "from sklearn.cluster import KMeans\n",
    "from sklearn.metrics import silhouette_samples, silhouette_score\n",
    "\n",
    "# Import the function\n",
    "sys.path.append(os.path.abspath('../src/data'))\n",
    "from extract_for_model_new import extract_time_series\n",
    "from extract_for_model_new import scale_time_series_all\n",
    "from extract_for_model_choosen_shift import extract_time_series_choosen_shift\n",
    "%matplotlib inline"
   ]
  },
  {
   "cell_type": "markdown",
   "metadata": {},
   "source": [
    "## Get the file and the features for the software private income statements\n",
    "    \n",
    "    This will give a dataframe with all the data for 4 features:\n",
    "        - The Earnings before interest and taxes\n",
    "        - The Operating income\n",
    "        - The total revenue\n",
    "        - The total other operating income\n",
    "    \n",
    "    The total revenue will be shifted for one period\n",
    "  "
   ]
  },
  {
   "cell_type": "code",
   "execution_count": 2,
   "metadata": {
    "scrolled": false
   },
   "outputs": [
    {
     "name": "stdout",
     "output_type": "stream",
     "text": [
      "Size BEFORE dropping NA: (2799, 8)\n",
      "Size AFTER dropping NA: (2505, 8)\n",
      "TEST  set size: (271, 8)\n",
      "TRAIN set size: (2234, 8)\n",
      "TEST is 11% of all available datapoints\n"
     ]
    }
   ],
   "source": [
    "input_path = '/home/reference/data_interim/software_private_annual_revised_income_statements_INTERIM.csv'\n",
    "#features   = [ 'IQ_TOTAL_OTHER_OPER','IQ_NI','IQ_GP',\n",
    "#              'IQ_OPER_INC','IQ_EBITDA','IQ_EARNING_CO','IQ_OTHER_OPER',\n",
    "#              'IQ_INC_TAX','IQ_NET_INTEREST_EXP','IQ_TOTAL_REV']\n",
    "features = [ 'IQ_EBIT',\n",
    "              'IQ_TOTAL_OTHER_OPER',\n",
    "              'IQ_OPER_INC','IQ_TOTAL_REV']\n",
    "features_to_shift = ['IQ_TOTAL_REV']\n",
    "ids        = []\n",
    "#year_min   = 2014\n",
    "steps      = 0\n",
    "unitshift = 2\n",
    "train_df_ps, test_df_ps = extract_time_series_choosen_shift(input_path = input_path,\n",
    "                                   features = features,\n",
    "                                    features_to_shift = features_to_shift,\n",
    "                                      steps = steps,\n",
    "                                 unitshift = 2\n",
    "                                 \n",
    "                                \n",
    "                                )\n",
    "dataset_private_soft = pd.concat([train_df_ps,test_df_ps])\n",
    "\n",
    "\n",
    "#dataset_scale = scale_time_series_all(dataset,features,'standard')"
   ]
  },
  {
   "cell_type": "code",
   "execution_count": 3,
   "metadata": {},
   "outputs": [
    {
     "data": {
      "text/html": [
       "<div>\n",
       "<style scoped>\n",
       "    .dataframe tbody tr th:only-of-type {\n",
       "        vertical-align: middle;\n",
       "    }\n",
       "\n",
       "    .dataframe tbody tr th {\n",
       "        vertical-align: top;\n",
       "    }\n",
       "\n",
       "    .dataframe thead th {\n",
       "        text-align: right;\n",
       "    }\n",
       "</style>\n",
       "<table border=\"1\" class=\"dataframe\">\n",
       "  <thead>\n",
       "    <tr style=\"text-align: right;\">\n",
       "      <th></th>\n",
       "      <th>company</th>\n",
       "      <th>year</th>\n",
       "      <th>quarter</th>\n",
       "      <th>IQ_EBIT</th>\n",
       "      <th>IQ_TOTAL_OTHER_OPER</th>\n",
       "      <th>IQ_OPER_INC</th>\n",
       "      <th>IQ_TOTAL_REV+0</th>\n",
       "      <th>IQ_TOTAL_REV+1</th>\n",
       "    </tr>\n",
       "  </thead>\n",
       "  <tbody>\n",
       "    <tr>\n",
       "      <th>0</th>\n",
       "      <td>IQ10127723</td>\n",
       "      <td>2010.0</td>\n",
       "      <td>Q4</td>\n",
       "      <td>0.124289</td>\n",
       "      <td>0.718861</td>\n",
       "      <td>0.124289</td>\n",
       "      <td>0.853228</td>\n",
       "      <td>1.215607</td>\n",
       "    </tr>\n",
       "    <tr>\n",
       "      <th>1</th>\n",
       "      <td>IQ10127723</td>\n",
       "      <td>2011.0</td>\n",
       "      <td>Q4</td>\n",
       "      <td>0.313345</td>\n",
       "      <td>0.881659</td>\n",
       "      <td>0.313345</td>\n",
       "      <td>1.215607</td>\n",
       "      <td>2.796777</td>\n",
       "    </tr>\n",
       "    <tr>\n",
       "      <th>2</th>\n",
       "      <td>IQ10127723</td>\n",
       "      <td>2015.0</td>\n",
       "      <td>Q4</td>\n",
       "      <td>0.640532</td>\n",
       "      <td>2.020247</td>\n",
       "      <td>0.640532</td>\n",
       "      <td>2.796777</td>\n",
       "      <td>3.040088</td>\n",
       "    </tr>\n",
       "    <tr>\n",
       "      <th>3</th>\n",
       "      <td>IQ10127723</td>\n",
       "      <td>2016.0</td>\n",
       "      <td>Q4</td>\n",
       "      <td>-0.010990</td>\n",
       "      <td>2.903132</td>\n",
       "      <td>-0.010990</td>\n",
       "      <td>3.040088</td>\n",
       "      <td>5.158841</td>\n",
       "    </tr>\n",
       "    <tr>\n",
       "      <th>6</th>\n",
       "      <td>IQ102267046</td>\n",
       "      <td>2013.0</td>\n",
       "      <td>Q4</td>\n",
       "      <td>0.088781</td>\n",
       "      <td>1.544846</td>\n",
       "      <td>0.088781</td>\n",
       "      <td>2.962316</td>\n",
       "      <td>4.305274</td>\n",
       "    </tr>\n",
       "  </tbody>\n",
       "</table>\n",
       "</div>"
      ],
      "text/plain": [
       "       company    year quarter   IQ_EBIT  IQ_TOTAL_OTHER_OPER  IQ_OPER_INC  \\\n",
       "0   IQ10127723  2010.0      Q4  0.124289             0.718861     0.124289   \n",
       "1   IQ10127723  2011.0      Q4  0.313345             0.881659     0.313345   \n",
       "2   IQ10127723  2015.0      Q4  0.640532             2.020247     0.640532   \n",
       "3   IQ10127723  2016.0      Q4 -0.010990             2.903132    -0.010990   \n",
       "6  IQ102267046  2013.0      Q4  0.088781             1.544846     0.088781   \n",
       "\n",
       "   IQ_TOTAL_REV+0  IQ_TOTAL_REV+1  \n",
       "0        0.853228        1.215607  \n",
       "1        1.215607        2.796777  \n",
       "2        2.796777        3.040088  \n",
       "3        3.040088        5.158841  \n",
       "6        2.962316        4.305274  "
      ]
     },
     "execution_count": 3,
     "metadata": {},
     "output_type": "execute_result"
    }
   ],
   "source": [
    "dataset_private_soft.head()"
   ]
  },
  {
   "cell_type": "markdown",
   "metadata": {},
   "source": [
    "## Get the file and balance sheets features for the software private companies\n",
    "    \n",
    "    This will give a dataframe with all the data for 4 features:\n",
    "        - The Total assets of the companies \n",
    "        - The Account receivable\n",
    "        - The Retained earnings\n",
    "        \n",
    "    \n",
    "  "
   ]
  },
  {
   "cell_type": "code",
   "execution_count": 4,
   "metadata": {},
   "outputs": [
    {
     "name": "stdout",
     "output_type": "stream",
     "text": [
      "Size BEFORE dropping NA: (2800, 6)\n",
      "Size AFTER dropping NA: (1508, 6)\n",
      "TEST  set size: (163, 6)\n",
      "TRAIN set size: (1345, 6)\n",
      "TEST is 11% of all available datapoints\n"
     ]
    }
   ],
   "source": [
    "input_path_bal = '/home/reference/data_interim/software_private_annual_revised_balance_sheets_INTERIM.csv'\n",
    "#features   = [ 'IQ_TOTAL_OTHER_OPER','IQ_NI','IQ_GP',\n",
    "#              'IQ_OPER_INC','IQ_EBITDA','IQ_EARNING_CO','IQ_OTHER_OPER',\n",
    "#              'IQ_INC_TAX','IQ_NET_INTEREST_EXP','IQ_TOTAL_REV']\n",
    "features_bal = [ 'IQ_AR','IQ_RE','IQ_TOTAL_ASSETS']\n",
    "ids        = []\n",
    "#year_min   = 2014\n",
    "steps      = 0\n",
    "unitshift = 0\n",
    "train_bal_ps_df, test_bal_ps_df = extract_time_series_choosen_shift(input_path = input_path_bal,\n",
    "                                   features = features_bal,\n",
    "                                    \n",
    "                                      steps = steps,\n",
    "                                 unitshift = 0\n",
    "                                 \n",
    "                                \n",
    "                                )\n",
    "dataset_bal_ps = pd.concat([train_bal_ps_df,test_bal_ps_df])\n",
    "\n",
    "\n",
    "#dataset_scale_bal = scale_time_series_all(dataset_bal,features_bal,'standard')"
   ]
  },
  {
   "cell_type": "code",
   "execution_count": 5,
   "metadata": {},
   "outputs": [
    {
     "data": {
      "text/html": [
       "<div>\n",
       "<style scoped>\n",
       "    .dataframe tbody tr th:only-of-type {\n",
       "        vertical-align: middle;\n",
       "    }\n",
       "\n",
       "    .dataframe tbody tr th {\n",
       "        vertical-align: top;\n",
       "    }\n",
       "\n",
       "    .dataframe thead th {\n",
       "        text-align: right;\n",
       "    }\n",
       "</style>\n",
       "<table border=\"1\" class=\"dataframe\">\n",
       "  <thead>\n",
       "    <tr style=\"text-align: right;\">\n",
       "      <th></th>\n",
       "      <th>company</th>\n",
       "      <th>year</th>\n",
       "      <th>quarter</th>\n",
       "      <th>IQ_AR</th>\n",
       "      <th>IQ_RE</th>\n",
       "      <th>IQ_TOTAL_ASSETS</th>\n",
       "    </tr>\n",
       "  </thead>\n",
       "  <tbody>\n",
       "    <tr>\n",
       "      <th>6</th>\n",
       "      <td>IQ102267046</td>\n",
       "      <td>2013.0</td>\n",
       "      <td>Q4</td>\n",
       "      <td>2.467916</td>\n",
       "      <td>-0.220824</td>\n",
       "      <td>3.479154</td>\n",
       "    </tr>\n",
       "    <tr>\n",
       "      <th>7</th>\n",
       "      <td>IQ102267046</td>\n",
       "      <td>2014.0</td>\n",
       "      <td>Q4</td>\n",
       "      <td>3.671694</td>\n",
       "      <td>0.081069</td>\n",
       "      <td>4.908565</td>\n",
       "    </tr>\n",
       "    <tr>\n",
       "      <th>8</th>\n",
       "      <td>IQ102267046</td>\n",
       "      <td>2015.0</td>\n",
       "      <td>Q4</td>\n",
       "      <td>5.159870</td>\n",
       "      <td>0.107997</td>\n",
       "      <td>6.973966</td>\n",
       "    </tr>\n",
       "    <tr>\n",
       "      <th>9</th>\n",
       "      <td>IQ102267046</td>\n",
       "      <td>2016.0</td>\n",
       "      <td>Q4</td>\n",
       "      <td>9.834407</td>\n",
       "      <td>0.471308</td>\n",
       "      <td>13.360882</td>\n",
       "    </tr>\n",
       "    <tr>\n",
       "      <th>29</th>\n",
       "      <td>IQ105654219</td>\n",
       "      <td>2007.0</td>\n",
       "      <td>Q4</td>\n",
       "      <td>0.736371</td>\n",
       "      <td>-0.161029</td>\n",
       "      <td>1.867177</td>\n",
       "    </tr>\n",
       "  </tbody>\n",
       "</table>\n",
       "</div>"
      ],
      "text/plain": [
       "        company    year quarter     IQ_AR     IQ_RE  IQ_TOTAL_ASSETS\n",
       "6   IQ102267046  2013.0      Q4  2.467916 -0.220824         3.479154\n",
       "7   IQ102267046  2014.0      Q4  3.671694  0.081069         4.908565\n",
       "8   IQ102267046  2015.0      Q4  5.159870  0.107997         6.973966\n",
       "9   IQ102267046  2016.0      Q4  9.834407  0.471308        13.360882\n",
       "29  IQ105654219  2007.0      Q4  0.736371 -0.161029         1.867177"
      ]
     },
     "execution_count": 5,
     "metadata": {},
     "output_type": "execute_result"
    }
   ],
   "source": [
    "dataset_bal_ps.head()"
   ]
  },
  {
   "cell_type": "code",
   "execution_count": 6,
   "metadata": {},
   "outputs": [],
   "source": [
    "## Merge the income and balanced datasets for software private companies based on company and year"
   ]
  },
  {
   "cell_type": "code",
   "execution_count": 7,
   "metadata": {
    "scrolled": true
   },
   "outputs": [],
   "source": [
    "dataset_ps = dataset_private_soft.merge(dataset_bal_ps,on = ['company','year'])"
   ]
  },
  {
   "cell_type": "code",
   "execution_count": 8,
   "metadata": {},
   "outputs": [],
   "source": [
    "dataset_ps = dataset_ps.drop(['quarter_y'],axis=1)\n",
    "dataset_ps = dataset_ps.rename(columns={'quarter_x':'quarter'})"
   ]
  },
  {
   "cell_type": "code",
   "execution_count": 9,
   "metadata": {},
   "outputs": [
    {
     "data": {
      "text/html": [
       "<div>\n",
       "<style scoped>\n",
       "    .dataframe tbody tr th:only-of-type {\n",
       "        vertical-align: middle;\n",
       "    }\n",
       "\n",
       "    .dataframe tbody tr th {\n",
       "        vertical-align: top;\n",
       "    }\n",
       "\n",
       "    .dataframe thead th {\n",
       "        text-align: right;\n",
       "    }\n",
       "</style>\n",
       "<table border=\"1\" class=\"dataframe\">\n",
       "  <thead>\n",
       "    <tr style=\"text-align: right;\">\n",
       "      <th></th>\n",
       "      <th>company</th>\n",
       "      <th>year</th>\n",
       "      <th>quarter</th>\n",
       "      <th>IQ_EBIT</th>\n",
       "      <th>IQ_TOTAL_OTHER_OPER</th>\n",
       "      <th>IQ_OPER_INC</th>\n",
       "      <th>IQ_TOTAL_REV+0</th>\n",
       "      <th>IQ_TOTAL_REV+1</th>\n",
       "      <th>IQ_AR</th>\n",
       "      <th>IQ_RE</th>\n",
       "      <th>IQ_TOTAL_ASSETS</th>\n",
       "    </tr>\n",
       "  </thead>\n",
       "  <tbody>\n",
       "    <tr>\n",
       "      <th>0</th>\n",
       "      <td>IQ102267046</td>\n",
       "      <td>2013.0</td>\n",
       "      <td>Q4</td>\n",
       "      <td>0.088781</td>\n",
       "      <td>1.544846</td>\n",
       "      <td>0.088781</td>\n",
       "      <td>2.962316</td>\n",
       "      <td>4.305274</td>\n",
       "      <td>2.467916</td>\n",
       "      <td>-0.220824</td>\n",
       "      <td>3.479154</td>\n",
       "    </tr>\n",
       "    <tr>\n",
       "      <th>1</th>\n",
       "      <td>IQ102267046</td>\n",
       "      <td>2014.0</td>\n",
       "      <td>Q4</td>\n",
       "      <td>0.161020</td>\n",
       "      <td>2.177063</td>\n",
       "      <td>0.161020</td>\n",
       "      <td>4.305274</td>\n",
       "      <td>6.537584</td>\n",
       "      <td>3.671694</td>\n",
       "      <td>0.081069</td>\n",
       "      <td>4.908565</td>\n",
       "    </tr>\n",
       "    <tr>\n",
       "      <th>2</th>\n",
       "      <td>IQ102267046</td>\n",
       "      <td>2015.0</td>\n",
       "      <td>Q4</td>\n",
       "      <td>0.018564</td>\n",
       "      <td>3.163827</td>\n",
       "      <td>0.018564</td>\n",
       "      <td>6.537584</td>\n",
       "      <td>12.468611</td>\n",
       "      <td>5.159870</td>\n",
       "      <td>0.107997</td>\n",
       "      <td>6.973966</td>\n",
       "    </tr>\n",
       "    <tr>\n",
       "      <th>3</th>\n",
       "      <td>IQ105654219</td>\n",
       "      <td>2007.0</td>\n",
       "      <td>Q4</td>\n",
       "      <td>-0.058002</td>\n",
       "      <td>1.405880</td>\n",
       "      <td>-0.058002</td>\n",
       "      <td>2.912760</td>\n",
       "      <td>4.642862</td>\n",
       "      <td>0.736371</td>\n",
       "      <td>-0.161029</td>\n",
       "      <td>1.867177</td>\n",
       "    </tr>\n",
       "    <tr>\n",
       "      <th>4</th>\n",
       "      <td>IQ105654219</td>\n",
       "      <td>2012.0</td>\n",
       "      <td>Q4</td>\n",
       "      <td>0.417684</td>\n",
       "      <td>1.918909</td>\n",
       "      <td>0.417684</td>\n",
       "      <td>4.642862</td>\n",
       "      <td>4.957326</td>\n",
       "      <td>1.114145</td>\n",
       "      <td>0.935905</td>\n",
       "      <td>3.141921</td>\n",
       "    </tr>\n",
       "  </tbody>\n",
       "</table>\n",
       "</div>"
      ],
      "text/plain": [
       "       company    year quarter   IQ_EBIT  IQ_TOTAL_OTHER_OPER  IQ_OPER_INC  \\\n",
       "0  IQ102267046  2013.0      Q4  0.088781             1.544846     0.088781   \n",
       "1  IQ102267046  2014.0      Q4  0.161020             2.177063     0.161020   \n",
       "2  IQ102267046  2015.0      Q4  0.018564             3.163827     0.018564   \n",
       "3  IQ105654219  2007.0      Q4 -0.058002             1.405880    -0.058002   \n",
       "4  IQ105654219  2012.0      Q4  0.417684             1.918909     0.417684   \n",
       "\n",
       "   IQ_TOTAL_REV+0  IQ_TOTAL_REV+1     IQ_AR     IQ_RE  IQ_TOTAL_ASSETS  \n",
       "0        2.962316        4.305274  2.467916 -0.220824         3.479154  \n",
       "1        4.305274        6.537584  3.671694  0.081069         4.908565  \n",
       "2        6.537584       12.468611  5.159870  0.107997         6.973966  \n",
       "3        2.912760        4.642862  0.736371 -0.161029         1.867177  \n",
       "4        4.642862        4.957326  1.114145  0.935905         3.141921  "
      ]
     },
     "execution_count": 9,
     "metadata": {},
     "output_type": "execute_result"
    }
   ],
   "source": [
    "dataset_ps.head()"
   ]
  },
  {
   "cell_type": "code",
   "execution_count": 10,
   "metadata": {},
   "outputs": [
    {
     "data": {
      "text/html": [
       "<div>\n",
       "<style scoped>\n",
       "    .dataframe tbody tr th:only-of-type {\n",
       "        vertical-align: middle;\n",
       "    }\n",
       "\n",
       "    .dataframe tbody tr th {\n",
       "        vertical-align: top;\n",
       "    }\n",
       "\n",
       "    .dataframe thead th {\n",
       "        text-align: right;\n",
       "    }\n",
       "</style>\n",
       "<table border=\"1\" class=\"dataframe\">\n",
       "  <thead>\n",
       "    <tr style=\"text-align: right;\">\n",
       "      <th></th>\n",
       "      <th>year</th>\n",
       "      <th>IQ_EBIT</th>\n",
       "      <th>IQ_TOTAL_OTHER_OPER</th>\n",
       "      <th>IQ_OPER_INC</th>\n",
       "      <th>IQ_TOTAL_REV+0</th>\n",
       "      <th>IQ_TOTAL_REV+1</th>\n",
       "      <th>IQ_AR</th>\n",
       "      <th>IQ_RE</th>\n",
       "      <th>IQ_TOTAL_ASSETS</th>\n",
       "    </tr>\n",
       "  </thead>\n",
       "  <tbody>\n",
       "    <tr>\n",
       "      <th>count</th>\n",
       "      <td>1348.000000</td>\n",
       "      <td>1348.000000</td>\n",
       "      <td>1348.000000</td>\n",
       "      <td>1348.000000</td>\n",
       "      <td>1348.000000</td>\n",
       "      <td>1348.000000</td>\n",
       "      <td>1348.000000</td>\n",
       "      <td>1348.000000</td>\n",
       "      <td>1348.000000</td>\n",
       "    </tr>\n",
       "    <tr>\n",
       "      <th>mean</th>\n",
       "      <td>2011.305638</td>\n",
       "      <td>1.648386</td>\n",
       "      <td>11.023697</td>\n",
       "      <td>1.648386</td>\n",
       "      <td>32.678310</td>\n",
       "      <td>36.617324</td>\n",
       "      <td>11.592821</td>\n",
       "      <td>0.255308</td>\n",
       "      <td>36.131715</td>\n",
       "    </tr>\n",
       "    <tr>\n",
       "      <th>std</th>\n",
       "      <td>4.388187</td>\n",
       "      <td>10.133301</td>\n",
       "      <td>21.520183</td>\n",
       "      <td>10.133301</td>\n",
       "      <td>96.394940</td>\n",
       "      <td>109.210370</td>\n",
       "      <td>51.658306</td>\n",
       "      <td>33.496027</td>\n",
       "      <td>128.859574</td>\n",
       "    </tr>\n",
       "    <tr>\n",
       "      <th>min</th>\n",
       "      <td>1995.000000</td>\n",
       "      <td>-69.247000</td>\n",
       "      <td>-10.890000</td>\n",
       "      <td>-69.247000</td>\n",
       "      <td>0.011290</td>\n",
       "      <td>0.069882</td>\n",
       "      <td>0.000703</td>\n",
       "      <td>-156.631000</td>\n",
       "      <td>0.028000</td>\n",
       "    </tr>\n",
       "    <tr>\n",
       "      <th>25%</th>\n",
       "      <td>2008.000000</td>\n",
       "      <td>-0.295733</td>\n",
       "      <td>2.672286</td>\n",
       "      <td>-0.295733</td>\n",
       "      <td>3.906900</td>\n",
       "      <td>4.495687</td>\n",
       "      <td>0.831730</td>\n",
       "      <td>-2.502410</td>\n",
       "      <td>3.506687</td>\n",
       "    </tr>\n",
       "    <tr>\n",
       "      <th>50%</th>\n",
       "      <td>2012.000000</td>\n",
       "      <td>0.226677</td>\n",
       "      <td>5.128566</td>\n",
       "      <td>0.226677</td>\n",
       "      <td>7.969803</td>\n",
       "      <td>9.009022</td>\n",
       "      <td>1.907658</td>\n",
       "      <td>0.117501</td>\n",
       "      <td>7.323302</td>\n",
       "    </tr>\n",
       "    <tr>\n",
       "      <th>75%</th>\n",
       "      <td>2015.000000</td>\n",
       "      <td>1.127429</td>\n",
       "      <td>10.973280</td>\n",
       "      <td>1.127429</td>\n",
       "      <td>18.437854</td>\n",
       "      <td>20.747903</td>\n",
       "      <td>4.515668</td>\n",
       "      <td>1.395056</td>\n",
       "      <td>18.051230</td>\n",
       "    </tr>\n",
       "    <tr>\n",
       "      <th>max</th>\n",
       "      <td>2017.000000</td>\n",
       "      <td>113.530655</td>\n",
       "      <td>305.577760</td>\n",
       "      <td>113.530655</td>\n",
       "      <td>1005.543950</td>\n",
       "      <td>1252.778000</td>\n",
       "      <td>622.901200</td>\n",
       "      <td>581.823850</td>\n",
       "      <td>1781.078900</td>\n",
       "    </tr>\n",
       "  </tbody>\n",
       "</table>\n",
       "</div>"
      ],
      "text/plain": [
       "              year      IQ_EBIT  IQ_TOTAL_OTHER_OPER  IQ_OPER_INC  \\\n",
       "count  1348.000000  1348.000000          1348.000000  1348.000000   \n",
       "mean   2011.305638     1.648386            11.023697     1.648386   \n",
       "std       4.388187    10.133301            21.520183    10.133301   \n",
       "min    1995.000000   -69.247000           -10.890000   -69.247000   \n",
       "25%    2008.000000    -0.295733             2.672286    -0.295733   \n",
       "50%    2012.000000     0.226677             5.128566     0.226677   \n",
       "75%    2015.000000     1.127429            10.973280     1.127429   \n",
       "max    2017.000000   113.530655           305.577760   113.530655   \n",
       "\n",
       "       IQ_TOTAL_REV+0  IQ_TOTAL_REV+1        IQ_AR        IQ_RE  \\\n",
       "count     1348.000000     1348.000000  1348.000000  1348.000000   \n",
       "mean        32.678310       36.617324    11.592821     0.255308   \n",
       "std         96.394940      109.210370    51.658306    33.496027   \n",
       "min          0.011290        0.069882     0.000703  -156.631000   \n",
       "25%          3.906900        4.495687     0.831730    -2.502410   \n",
       "50%          7.969803        9.009022     1.907658     0.117501   \n",
       "75%         18.437854       20.747903     4.515668     1.395056   \n",
       "max       1005.543950     1252.778000   622.901200   581.823850   \n",
       "\n",
       "       IQ_TOTAL_ASSETS  \n",
       "count      1348.000000  \n",
       "mean         36.131715  \n",
       "std         128.859574  \n",
       "min           0.028000  \n",
       "25%           3.506687  \n",
       "50%           7.323302  \n",
       "75%          18.051230  \n",
       "max        1781.078900  "
      ]
     },
     "execution_count": 10,
     "metadata": {},
     "output_type": "execute_result"
    }
   ],
   "source": [
    "dataset_ps.describe()"
   ]
  },
  {
   "cell_type": "markdown",
   "metadata": {},
   "source": [
    "## Get the file and the features for the health private income statements\n",
    "    \n",
    "    This will give a dataframe with all the data for 4 features:\n",
    "        - The Earnings before interest and taxes\n",
    "        - The Operating income\n",
    "        - The total revenue\n",
    "        - The total other operating income\n",
    "    \n",
    "    The total revenue will be shifted for one period\n",
    "  "
   ]
  },
  {
   "cell_type": "code",
   "execution_count": 11,
   "metadata": {
    "scrolled": false
   },
   "outputs": [
    {
     "name": "stdout",
     "output_type": "stream",
     "text": [
      "Size BEFORE dropping NA: (2872, 8)\n",
      "Size AFTER dropping NA: (2567, 8)\n",
      "TEST  set size: (278, 8)\n",
      "TRAIN set size: (2289, 8)\n",
      "TEST is 11% of all available datapoints\n"
     ]
    }
   ],
   "source": [
    "input_path = '/home/reference/data_interim/health_private_annual_revised_income_statements_INTERIM.csv'\n",
    "#features   = [ 'IQ_TOTAL_OTHER_OPER','IQ_NI','IQ_GP',\n",
    "#              'IQ_OPER_INC','IQ_EBITDA','IQ_EARNING_CO','IQ_OTHER_OPER',\n",
    "#              'IQ_INC_TAX','IQ_NET_INTEREST_EXP','IQ_TOTAL_REV']\n",
    "features = [ 'IQ_EBIT',\n",
    "              'IQ_TOTAL_OTHER_OPER',\n",
    "              'IQ_OPER_INC','IQ_TOTAL_REV']\n",
    "features_to_shift = ['IQ_TOTAL_REV']\n",
    "ids        = []\n",
    "#year_min   = 2014\n",
    "steps      = 0\n",
    "unitshift = 2\n",
    "train_df_prh, test_df_prh = extract_time_series_choosen_shift(input_path = input_path,\n",
    "                                   features = features,\n",
    "                                    features_to_shift = features_to_shift,\n",
    "                                      steps = steps,\n",
    "                                 unitshift = 2\n",
    "                                 \n",
    "                                \n",
    "                                )\n",
    "dataset_prh = pd.concat([train_df_prh,test_df_prh])\n",
    "\n",
    "\n",
    "#dataset_scale = scale_time_series_all(dataset,features,'standard')"
   ]
  },
  {
   "cell_type": "code",
   "execution_count": 12,
   "metadata": {},
   "outputs": [
    {
     "data": {
      "text/html": [
       "<div>\n",
       "<style scoped>\n",
       "    .dataframe tbody tr th:only-of-type {\n",
       "        vertical-align: middle;\n",
       "    }\n",
       "\n",
       "    .dataframe tbody tr th {\n",
       "        vertical-align: top;\n",
       "    }\n",
       "\n",
       "    .dataframe thead th {\n",
       "        text-align: right;\n",
       "    }\n",
       "</style>\n",
       "<table border=\"1\" class=\"dataframe\">\n",
       "  <thead>\n",
       "    <tr style=\"text-align: right;\">\n",
       "      <th></th>\n",
       "      <th>company</th>\n",
       "      <th>year</th>\n",
       "      <th>quarter</th>\n",
       "      <th>IQ_EBIT</th>\n",
       "      <th>IQ_TOTAL_OTHER_OPER</th>\n",
       "      <th>IQ_OPER_INC</th>\n",
       "      <th>IQ_TOTAL_REV+0</th>\n",
       "      <th>IQ_TOTAL_REV+1</th>\n",
       "    </tr>\n",
       "  </thead>\n",
       "  <tbody>\n",
       "    <tr>\n",
       "      <th>0</th>\n",
       "      <td>IQ1001166</td>\n",
       "      <td>2000.0</td>\n",
       "      <td>Q4</td>\n",
       "      <td>-0.524020</td>\n",
       "      <td>0.590363</td>\n",
       "      <td>-0.524020</td>\n",
       "      <td>0.078805</td>\n",
       "      <td>0.310828</td>\n",
       "    </tr>\n",
       "    <tr>\n",
       "      <th>1</th>\n",
       "      <td>IQ1001166</td>\n",
       "      <td>2001.0</td>\n",
       "      <td>Q4</td>\n",
       "      <td>-3.144316</td>\n",
       "      <td>3.455144</td>\n",
       "      <td>-3.144316</td>\n",
       "      <td>0.310828</td>\n",
       "      <td>1.679933</td>\n",
       "    </tr>\n",
       "    <tr>\n",
       "      <th>2</th>\n",
       "      <td>IQ1001166</td>\n",
       "      <td>2002.0</td>\n",
       "      <td>Q4</td>\n",
       "      <td>-4.693309</td>\n",
       "      <td>6.373243</td>\n",
       "      <td>-4.693309</td>\n",
       "      <td>1.679933</td>\n",
       "      <td>0.618198</td>\n",
       "    </tr>\n",
       "    <tr>\n",
       "      <th>3</th>\n",
       "      <td>IQ1001166</td>\n",
       "      <td>2003.0</td>\n",
       "      <td>Q4</td>\n",
       "      <td>-6.217653</td>\n",
       "      <td>6.835851</td>\n",
       "      <td>-6.217653</td>\n",
       "      <td>0.618198</td>\n",
       "      <td>0.851750</td>\n",
       "    </tr>\n",
       "    <tr>\n",
       "      <th>4</th>\n",
       "      <td>IQ1001166</td>\n",
       "      <td>2004.0</td>\n",
       "      <td>Q4</td>\n",
       "      <td>-5.655608</td>\n",
       "      <td>6.507358</td>\n",
       "      <td>-5.655608</td>\n",
       "      <td>0.851750</td>\n",
       "      <td>0.953738</td>\n",
       "    </tr>\n",
       "  </tbody>\n",
       "</table>\n",
       "</div>"
      ],
      "text/plain": [
       "     company    year quarter   IQ_EBIT  IQ_TOTAL_OTHER_OPER  IQ_OPER_INC  \\\n",
       "0  IQ1001166  2000.0      Q4 -0.524020             0.590363    -0.524020   \n",
       "1  IQ1001166  2001.0      Q4 -3.144316             3.455144    -3.144316   \n",
       "2  IQ1001166  2002.0      Q4 -4.693309             6.373243    -4.693309   \n",
       "3  IQ1001166  2003.0      Q4 -6.217653             6.835851    -6.217653   \n",
       "4  IQ1001166  2004.0      Q4 -5.655608             6.507358    -5.655608   \n",
       "\n",
       "   IQ_TOTAL_REV+0  IQ_TOTAL_REV+1  \n",
       "0        0.078805        0.310828  \n",
       "1        0.310828        1.679933  \n",
       "2        1.679933        0.618198  \n",
       "3        0.618198        0.851750  \n",
       "4        0.851750        0.953738  "
      ]
     },
     "execution_count": 12,
     "metadata": {},
     "output_type": "execute_result"
    }
   ],
   "source": [
    "dataset_prh.head()"
   ]
  },
  {
   "cell_type": "markdown",
   "metadata": {},
   "source": [
    "## Get the file and balance sheets features for the health private companies\n",
    "    \n",
    "    This will give a dataframe with all the data for 3 features:\n",
    "        - The Total assets of the companies \n",
    "        - The Account receivable\n",
    "        - The Retained earnings\n",
    "        \n",
    "    \n",
    "  "
   ]
  },
  {
   "cell_type": "code",
   "execution_count": 13,
   "metadata": {},
   "outputs": [
    {
     "name": "stdout",
     "output_type": "stream",
     "text": [
      "Size BEFORE dropping NA: (2869, 6)\n",
      "Size AFTER dropping NA: (1866, 6)\n",
      "TEST  set size: (198, 6)\n",
      "TRAIN set size: (1668, 6)\n",
      "TEST is 11% of all available datapoints\n"
     ]
    }
   ],
   "source": [
    "input_path_bal = '/home/reference/data_interim/health_private_annual_revised_balance_sheets_INTERIM.csv'\n",
    "#features   = [ 'IQ_TOTAL_OTHER_OPER','IQ_NI','IQ_GP',\n",
    "#              'IQ_OPER_INC','IQ_EBITDA','IQ_EARNING_CO','IQ_OTHER_OPER',\n",
    "#              'IQ_INC_TAX','IQ_NET_INTEREST_EXP','IQ_TOTAL_REV']\n",
    "features_bal = [ 'IQ_AR','IQ_RE','IQ_TOTAL_ASSETS']\n",
    "ids        = []\n",
    "#year_min   = 2014\n",
    "steps      = 0\n",
    "unitshift = 0\n",
    "train_bal_prh_df, test_bal_prh_df = extract_time_series_choosen_shift(input_path = input_path_bal,\n",
    "                                   features = features_bal,\n",
    "                                    \n",
    "                                      steps = steps,\n",
    "                                 unitshift = 0\n",
    "                                 \n",
    "                                \n",
    "                                )\n",
    "dataset_bal_prh = pd.concat([train_bal_prh_df,test_bal_prh_df])\n",
    "\n",
    "\n",
    "#dataset_scale_bal = scale_time_series_all(dataset_bal,features_bal,'standard')"
   ]
  },
  {
   "cell_type": "code",
   "execution_count": 14,
   "metadata": {},
   "outputs": [],
   "source": [
    "# Merge the datasets for private health companies based on company and year"
   ]
  },
  {
   "cell_type": "code",
   "execution_count": 15,
   "metadata": {},
   "outputs": [],
   "source": [
    "dataset_prh = dataset_prh.merge(dataset_bal_prh,on = ['company','year'])"
   ]
  },
  {
   "cell_type": "code",
   "execution_count": 16,
   "metadata": {},
   "outputs": [
    {
     "data": {
      "text/html": [
       "<div>\n",
       "<style scoped>\n",
       "    .dataframe tbody tr th:only-of-type {\n",
       "        vertical-align: middle;\n",
       "    }\n",
       "\n",
       "    .dataframe tbody tr th {\n",
       "        vertical-align: top;\n",
       "    }\n",
       "\n",
       "    .dataframe thead th {\n",
       "        text-align: right;\n",
       "    }\n",
       "</style>\n",
       "<table border=\"1\" class=\"dataframe\">\n",
       "  <thead>\n",
       "    <tr style=\"text-align: right;\">\n",
       "      <th></th>\n",
       "      <th>company</th>\n",
       "      <th>year</th>\n",
       "      <th>quarter_x</th>\n",
       "      <th>IQ_EBIT</th>\n",
       "      <th>IQ_TOTAL_OTHER_OPER</th>\n",
       "      <th>IQ_OPER_INC</th>\n",
       "      <th>IQ_TOTAL_REV+0</th>\n",
       "      <th>IQ_TOTAL_REV+1</th>\n",
       "      <th>quarter_y</th>\n",
       "      <th>IQ_AR</th>\n",
       "      <th>IQ_RE</th>\n",
       "      <th>IQ_TOTAL_ASSETS</th>\n",
       "    </tr>\n",
       "  </thead>\n",
       "  <tbody>\n",
       "    <tr>\n",
       "      <th>0</th>\n",
       "      <td>IQ1001166</td>\n",
       "      <td>2001.0</td>\n",
       "      <td>Q4</td>\n",
       "      <td>-3.144316</td>\n",
       "      <td>3.455144</td>\n",
       "      <td>-3.144316</td>\n",
       "      <td>0.310828</td>\n",
       "      <td>1.679933</td>\n",
       "      <td>Q4</td>\n",
       "      <td>0.390459</td>\n",
       "      <td>-3.507091</td>\n",
       "      <td>12.080082</td>\n",
       "    </tr>\n",
       "    <tr>\n",
       "      <th>1</th>\n",
       "      <td>IQ1001166</td>\n",
       "      <td>2003.0</td>\n",
       "      <td>Q4</td>\n",
       "      <td>-6.217653</td>\n",
       "      <td>6.835851</td>\n",
       "      <td>-6.217653</td>\n",
       "      <td>0.618198</td>\n",
       "      <td>0.851750</td>\n",
       "      <td>Q4</td>\n",
       "      <td>0.032795</td>\n",
       "      <td>-7.022183</td>\n",
       "      <td>14.375587</td>\n",
       "    </tr>\n",
       "    <tr>\n",
       "      <th>2</th>\n",
       "      <td>IQ1001166</td>\n",
       "      <td>2004.0</td>\n",
       "      <td>Q4</td>\n",
       "      <td>-5.655608</td>\n",
       "      <td>6.507358</td>\n",
       "      <td>-5.655608</td>\n",
       "      <td>0.851750</td>\n",
       "      <td>0.953738</td>\n",
       "      <td>Q4</td>\n",
       "      <td>0.016044</td>\n",
       "      <td>-21.522116</td>\n",
       "      <td>8.576273</td>\n",
       "    </tr>\n",
       "    <tr>\n",
       "      <th>3</th>\n",
       "      <td>IQ1001166</td>\n",
       "      <td>2005.0</td>\n",
       "      <td>Q4</td>\n",
       "      <td>-5.098989</td>\n",
       "      <td>6.052727</td>\n",
       "      <td>-5.098989</td>\n",
       "      <td>0.953738</td>\n",
       "      <td>1.248193</td>\n",
       "      <td>Q4</td>\n",
       "      <td>0.010995</td>\n",
       "      <td>-25.190521</td>\n",
       "      <td>4.775652</td>\n",
       "    </tr>\n",
       "    <tr>\n",
       "      <th>4</th>\n",
       "      <td>IQ1001166</td>\n",
       "      <td>2006.0</td>\n",
       "      <td>Q4</td>\n",
       "      <td>-7.037172</td>\n",
       "      <td>8.285365</td>\n",
       "      <td>-7.037172</td>\n",
       "      <td>1.248193</td>\n",
       "      <td>2.101235</td>\n",
       "      <td>Q4</td>\n",
       "      <td>0.218077</td>\n",
       "      <td>-32.030760</td>\n",
       "      <td>5.160438</td>\n",
       "    </tr>\n",
       "  </tbody>\n",
       "</table>\n",
       "</div>"
      ],
      "text/plain": [
       "     company    year quarter_x   IQ_EBIT  IQ_TOTAL_OTHER_OPER  IQ_OPER_INC  \\\n",
       "0  IQ1001166  2001.0        Q4 -3.144316             3.455144    -3.144316   \n",
       "1  IQ1001166  2003.0        Q4 -6.217653             6.835851    -6.217653   \n",
       "2  IQ1001166  2004.0        Q4 -5.655608             6.507358    -5.655608   \n",
       "3  IQ1001166  2005.0        Q4 -5.098989             6.052727    -5.098989   \n",
       "4  IQ1001166  2006.0        Q4 -7.037172             8.285365    -7.037172   \n",
       "\n",
       "   IQ_TOTAL_REV+0  IQ_TOTAL_REV+1 quarter_y     IQ_AR      IQ_RE  \\\n",
       "0        0.310828        1.679933        Q4  0.390459  -3.507091   \n",
       "1        0.618198        0.851750        Q4  0.032795  -7.022183   \n",
       "2        0.851750        0.953738        Q4  0.016044 -21.522116   \n",
       "3        0.953738        1.248193        Q4  0.010995 -25.190521   \n",
       "4        1.248193        2.101235        Q4  0.218077 -32.030760   \n",
       "\n",
       "   IQ_TOTAL_ASSETS  \n",
       "0        12.080082  \n",
       "1        14.375587  \n",
       "2         8.576273  \n",
       "3         4.775652  \n",
       "4         5.160438  "
      ]
     },
     "execution_count": 16,
     "metadata": {},
     "output_type": "execute_result"
    }
   ],
   "source": [
    "dataset_prh.head()"
   ]
  },
  {
   "cell_type": "code",
   "execution_count": 17,
   "metadata": {},
   "outputs": [],
   "source": [
    "dataset_prh = dataset_prh.drop(['quarter_y'],axis=1)\n",
    "dataset_prh = dataset_prh.rename(columns = {'quarter_x':'quarter'})"
   ]
  },
  {
   "cell_type": "code",
   "execution_count": 18,
   "metadata": {},
   "outputs": [
    {
     "data": {
      "text/html": [
       "<div>\n",
       "<style scoped>\n",
       "    .dataframe tbody tr th:only-of-type {\n",
       "        vertical-align: middle;\n",
       "    }\n",
       "\n",
       "    .dataframe tbody tr th {\n",
       "        vertical-align: top;\n",
       "    }\n",
       "\n",
       "    .dataframe thead th {\n",
       "        text-align: right;\n",
       "    }\n",
       "</style>\n",
       "<table border=\"1\" class=\"dataframe\">\n",
       "  <thead>\n",
       "    <tr style=\"text-align: right;\">\n",
       "      <th></th>\n",
       "      <th>company</th>\n",
       "      <th>year</th>\n",
       "      <th>quarter</th>\n",
       "      <th>IQ_EBIT</th>\n",
       "      <th>IQ_TOTAL_OTHER_OPER</th>\n",
       "      <th>IQ_OPER_INC</th>\n",
       "      <th>IQ_TOTAL_REV+0</th>\n",
       "      <th>IQ_TOTAL_REV+1</th>\n",
       "      <th>IQ_AR</th>\n",
       "      <th>IQ_RE</th>\n",
       "      <th>IQ_TOTAL_ASSETS</th>\n",
       "    </tr>\n",
       "  </thead>\n",
       "  <tbody>\n",
       "    <tr>\n",
       "      <th>0</th>\n",
       "      <td>IQ1001166</td>\n",
       "      <td>2001.0</td>\n",
       "      <td>Q4</td>\n",
       "      <td>-3.144316</td>\n",
       "      <td>3.455144</td>\n",
       "      <td>-3.144316</td>\n",
       "      <td>0.310828</td>\n",
       "      <td>1.679933</td>\n",
       "      <td>0.390459</td>\n",
       "      <td>-3.507091</td>\n",
       "      <td>12.080082</td>\n",
       "    </tr>\n",
       "    <tr>\n",
       "      <th>1</th>\n",
       "      <td>IQ1001166</td>\n",
       "      <td>2003.0</td>\n",
       "      <td>Q4</td>\n",
       "      <td>-6.217653</td>\n",
       "      <td>6.835851</td>\n",
       "      <td>-6.217653</td>\n",
       "      <td>0.618198</td>\n",
       "      <td>0.851750</td>\n",
       "      <td>0.032795</td>\n",
       "      <td>-7.022183</td>\n",
       "      <td>14.375587</td>\n",
       "    </tr>\n",
       "    <tr>\n",
       "      <th>2</th>\n",
       "      <td>IQ1001166</td>\n",
       "      <td>2004.0</td>\n",
       "      <td>Q4</td>\n",
       "      <td>-5.655608</td>\n",
       "      <td>6.507358</td>\n",
       "      <td>-5.655608</td>\n",
       "      <td>0.851750</td>\n",
       "      <td>0.953738</td>\n",
       "      <td>0.016044</td>\n",
       "      <td>-21.522116</td>\n",
       "      <td>8.576273</td>\n",
       "    </tr>\n",
       "    <tr>\n",
       "      <th>3</th>\n",
       "      <td>IQ1001166</td>\n",
       "      <td>2005.0</td>\n",
       "      <td>Q4</td>\n",
       "      <td>-5.098989</td>\n",
       "      <td>6.052727</td>\n",
       "      <td>-5.098989</td>\n",
       "      <td>0.953738</td>\n",
       "      <td>1.248193</td>\n",
       "      <td>0.010995</td>\n",
       "      <td>-25.190521</td>\n",
       "      <td>4.775652</td>\n",
       "    </tr>\n",
       "    <tr>\n",
       "      <th>4</th>\n",
       "      <td>IQ1001166</td>\n",
       "      <td>2006.0</td>\n",
       "      <td>Q4</td>\n",
       "      <td>-7.037172</td>\n",
       "      <td>8.285365</td>\n",
       "      <td>-7.037172</td>\n",
       "      <td>1.248193</td>\n",
       "      <td>2.101235</td>\n",
       "      <td>0.218077</td>\n",
       "      <td>-32.030760</td>\n",
       "      <td>5.160438</td>\n",
       "    </tr>\n",
       "  </tbody>\n",
       "</table>\n",
       "</div>"
      ],
      "text/plain": [
       "     company    year quarter   IQ_EBIT  IQ_TOTAL_OTHER_OPER  IQ_OPER_INC  \\\n",
       "0  IQ1001166  2001.0      Q4 -3.144316             3.455144    -3.144316   \n",
       "1  IQ1001166  2003.0      Q4 -6.217653             6.835851    -6.217653   \n",
       "2  IQ1001166  2004.0      Q4 -5.655608             6.507358    -5.655608   \n",
       "3  IQ1001166  2005.0      Q4 -5.098989             6.052727    -5.098989   \n",
       "4  IQ1001166  2006.0      Q4 -7.037172             8.285365    -7.037172   \n",
       "\n",
       "   IQ_TOTAL_REV+0  IQ_TOTAL_REV+1     IQ_AR      IQ_RE  IQ_TOTAL_ASSETS  \n",
       "0        0.310828        1.679933  0.390459  -3.507091        12.080082  \n",
       "1        0.618198        0.851750  0.032795  -7.022183        14.375587  \n",
       "2        0.851750        0.953738  0.016044 -21.522116         8.576273  \n",
       "3        0.953738        1.248193  0.010995 -25.190521         4.775652  \n",
       "4        1.248193        2.101235  0.218077 -32.030760         5.160438  "
      ]
     },
     "execution_count": 18,
     "metadata": {},
     "output_type": "execute_result"
    }
   ],
   "source": [
    "dataset_prh.head()"
   ]
  },
  {
   "cell_type": "code",
   "execution_count": 19,
   "metadata": {},
   "outputs": [],
   "source": [
    "dataset_p = pd.concat([dataset_ps,dataset_prh],axis=0,ignore_index=True)"
   ]
  },
  {
   "cell_type": "code",
   "execution_count": 20,
   "metadata": {},
   "outputs": [
    {
     "data": {
      "text/html": [
       "<div>\n",
       "<style scoped>\n",
       "    .dataframe tbody tr th:only-of-type {\n",
       "        vertical-align: middle;\n",
       "    }\n",
       "\n",
       "    .dataframe tbody tr th {\n",
       "        vertical-align: top;\n",
       "    }\n",
       "\n",
       "    .dataframe thead th {\n",
       "        text-align: right;\n",
       "    }\n",
       "</style>\n",
       "<table border=\"1\" class=\"dataframe\">\n",
       "  <thead>\n",
       "    <tr style=\"text-align: right;\">\n",
       "      <th></th>\n",
       "      <th>company</th>\n",
       "      <th>year</th>\n",
       "      <th>quarter</th>\n",
       "      <th>IQ_EBIT</th>\n",
       "      <th>IQ_TOTAL_OTHER_OPER</th>\n",
       "      <th>IQ_OPER_INC</th>\n",
       "      <th>IQ_TOTAL_REV+0</th>\n",
       "      <th>IQ_TOTAL_REV+1</th>\n",
       "      <th>IQ_AR</th>\n",
       "      <th>IQ_RE</th>\n",
       "      <th>IQ_TOTAL_ASSETS</th>\n",
       "    </tr>\n",
       "  </thead>\n",
       "  <tbody>\n",
       "    <tr>\n",
       "      <th>0</th>\n",
       "      <td>IQ102267046</td>\n",
       "      <td>2013.0</td>\n",
       "      <td>Q4</td>\n",
       "      <td>0.088781</td>\n",
       "      <td>1.544846</td>\n",
       "      <td>0.088781</td>\n",
       "      <td>2.962316</td>\n",
       "      <td>4.305274</td>\n",
       "      <td>2.467916</td>\n",
       "      <td>-0.220824</td>\n",
       "      <td>3.479154</td>\n",
       "    </tr>\n",
       "    <tr>\n",
       "      <th>1</th>\n",
       "      <td>IQ102267046</td>\n",
       "      <td>2014.0</td>\n",
       "      <td>Q4</td>\n",
       "      <td>0.161020</td>\n",
       "      <td>2.177063</td>\n",
       "      <td>0.161020</td>\n",
       "      <td>4.305274</td>\n",
       "      <td>6.537584</td>\n",
       "      <td>3.671694</td>\n",
       "      <td>0.081069</td>\n",
       "      <td>4.908565</td>\n",
       "    </tr>\n",
       "    <tr>\n",
       "      <th>2</th>\n",
       "      <td>IQ102267046</td>\n",
       "      <td>2015.0</td>\n",
       "      <td>Q4</td>\n",
       "      <td>0.018564</td>\n",
       "      <td>3.163827</td>\n",
       "      <td>0.018564</td>\n",
       "      <td>6.537584</td>\n",
       "      <td>12.468611</td>\n",
       "      <td>5.159870</td>\n",
       "      <td>0.107997</td>\n",
       "      <td>6.973966</td>\n",
       "    </tr>\n",
       "    <tr>\n",
       "      <th>3</th>\n",
       "      <td>IQ105654219</td>\n",
       "      <td>2007.0</td>\n",
       "      <td>Q4</td>\n",
       "      <td>-0.058002</td>\n",
       "      <td>1.405880</td>\n",
       "      <td>-0.058002</td>\n",
       "      <td>2.912760</td>\n",
       "      <td>4.642862</td>\n",
       "      <td>0.736371</td>\n",
       "      <td>-0.161029</td>\n",
       "      <td>1.867177</td>\n",
       "    </tr>\n",
       "    <tr>\n",
       "      <th>4</th>\n",
       "      <td>IQ105654219</td>\n",
       "      <td>2012.0</td>\n",
       "      <td>Q4</td>\n",
       "      <td>0.417684</td>\n",
       "      <td>1.918909</td>\n",
       "      <td>0.417684</td>\n",
       "      <td>4.642862</td>\n",
       "      <td>4.957326</td>\n",
       "      <td>1.114145</td>\n",
       "      <td>0.935905</td>\n",
       "      <td>3.141921</td>\n",
       "    </tr>\n",
       "  </tbody>\n",
       "</table>\n",
       "</div>"
      ],
      "text/plain": [
       "       company    year quarter   IQ_EBIT  IQ_TOTAL_OTHER_OPER  IQ_OPER_INC  \\\n",
       "0  IQ102267046  2013.0      Q4  0.088781             1.544846     0.088781   \n",
       "1  IQ102267046  2014.0      Q4  0.161020             2.177063     0.161020   \n",
       "2  IQ102267046  2015.0      Q4  0.018564             3.163827     0.018564   \n",
       "3  IQ105654219  2007.0      Q4 -0.058002             1.405880    -0.058002   \n",
       "4  IQ105654219  2012.0      Q4  0.417684             1.918909     0.417684   \n",
       "\n",
       "   IQ_TOTAL_REV+0  IQ_TOTAL_REV+1     IQ_AR     IQ_RE  IQ_TOTAL_ASSETS  \n",
       "0        2.962316        4.305274  2.467916 -0.220824         3.479154  \n",
       "1        4.305274        6.537584  3.671694  0.081069         4.908565  \n",
       "2        6.537584       12.468611  5.159870  0.107997         6.973966  \n",
       "3        2.912760        4.642862  0.736371 -0.161029         1.867177  \n",
       "4        4.642862        4.957326  1.114145  0.935905         3.141921  "
      ]
     },
     "execution_count": 20,
     "metadata": {},
     "output_type": "execute_result"
    }
   ],
   "source": [
    "dataset_p.head()"
   ]
  },
  {
   "cell_type": "code",
   "execution_count": 21,
   "metadata": {},
   "outputs": [
    {
     "data": {
      "text/html": [
       "<div>\n",
       "<style scoped>\n",
       "    .dataframe tbody tr th:only-of-type {\n",
       "        vertical-align: middle;\n",
       "    }\n",
       "\n",
       "    .dataframe tbody tr th {\n",
       "        vertical-align: top;\n",
       "    }\n",
       "\n",
       "    .dataframe thead th {\n",
       "        text-align: right;\n",
       "    }\n",
       "</style>\n",
       "<table border=\"1\" class=\"dataframe\">\n",
       "  <thead>\n",
       "    <tr style=\"text-align: right;\">\n",
       "      <th></th>\n",
       "      <th>year</th>\n",
       "      <th>IQ_EBIT</th>\n",
       "      <th>IQ_TOTAL_OTHER_OPER</th>\n",
       "      <th>IQ_OPER_INC</th>\n",
       "      <th>IQ_TOTAL_REV+0</th>\n",
       "      <th>IQ_TOTAL_REV+1</th>\n",
       "      <th>IQ_AR</th>\n",
       "      <th>IQ_RE</th>\n",
       "      <th>IQ_TOTAL_ASSETS</th>\n",
       "    </tr>\n",
       "  </thead>\n",
       "  <tbody>\n",
       "    <tr>\n",
       "      <th>count</th>\n",
       "      <td>3012.000000</td>\n",
       "      <td>3012.000000</td>\n",
       "      <td>3012.000000</td>\n",
       "      <td>3012.000000</td>\n",
       "      <td>3012.000000</td>\n",
       "      <td>3012.000000</td>\n",
       "      <td>3012.000000</td>\n",
       "      <td>3012.000000</td>\n",
       "      <td>3012.000000</td>\n",
       "    </tr>\n",
       "    <tr>\n",
       "      <th>mean</th>\n",
       "      <td>2011.354250</td>\n",
       "      <td>6.791917</td>\n",
       "      <td>24.218951</td>\n",
       "      <td>6.791917</td>\n",
       "      <td>65.126741</td>\n",
       "      <td>78.277634</td>\n",
       "      <td>14.142430</td>\n",
       "      <td>2.283245</td>\n",
       "      <td>111.353033</td>\n",
       "    </tr>\n",
       "    <tr>\n",
       "      <th>std</th>\n",
       "      <td>4.395698</td>\n",
       "      <td>88.575264</td>\n",
       "      <td>156.763161</td>\n",
       "      <td>88.575264</td>\n",
       "      <td>456.569126</td>\n",
       "      <td>606.202716</td>\n",
       "      <td>81.507723</td>\n",
       "      <td>196.034359</td>\n",
       "      <td>1395.443544</td>\n",
       "    </tr>\n",
       "    <tr>\n",
       "      <th>min</th>\n",
       "      <td>1989.000000</td>\n",
       "      <td>-69.247000</td>\n",
       "      <td>-10.890000</td>\n",
       "      <td>-69.247000</td>\n",
       "      <td>0.004981</td>\n",
       "      <td>0.011503</td>\n",
       "      <td>0.000277</td>\n",
       "      <td>-1151.897000</td>\n",
       "      <td>0.028000</td>\n",
       "    </tr>\n",
       "    <tr>\n",
       "      <th>25%</th>\n",
       "      <td>2009.000000</td>\n",
       "      <td>-0.245345</td>\n",
       "      <td>2.949947</td>\n",
       "      <td>-0.245345</td>\n",
       "      <td>5.059110</td>\n",
       "      <td>5.811021</td>\n",
       "      <td>0.845760</td>\n",
       "      <td>-2.710970</td>\n",
       "      <td>5.129623</td>\n",
       "    </tr>\n",
       "    <tr>\n",
       "      <th>50%</th>\n",
       "      <td>2012.000000</td>\n",
       "      <td>0.434824</td>\n",
       "      <td>5.882072</td>\n",
       "      <td>0.434824</td>\n",
       "      <td>11.067161</td>\n",
       "      <td>12.364086</td>\n",
       "      <td>2.101464</td>\n",
       "      <td>0.200630</td>\n",
       "      <td>11.467958</td>\n",
       "    </tr>\n",
       "    <tr>\n",
       "      <th>75%</th>\n",
       "      <td>2015.000000</td>\n",
       "      <td>1.977820</td>\n",
       "      <td>13.784563</td>\n",
       "      <td>1.977820</td>\n",
       "      <td>26.148760</td>\n",
       "      <td>28.247320</td>\n",
       "      <td>5.464332</td>\n",
       "      <td>2.350529</td>\n",
       "      <td>37.737479</td>\n",
       "    </tr>\n",
       "    <tr>\n",
       "      <th>max</th>\n",
       "      <td>2017.000000</td>\n",
       "      <td>3081.475300</td>\n",
       "      <td>5210.468000</td>\n",
       "      <td>3081.475300</td>\n",
       "      <td>16088.604000</td>\n",
       "      <td>18481.367000</td>\n",
       "      <td>2303.079000</td>\n",
       "      <td>7339.756000</td>\n",
       "      <td>54293.312000</td>\n",
       "    </tr>\n",
       "  </tbody>\n",
       "</table>\n",
       "</div>"
      ],
      "text/plain": [
       "              year      IQ_EBIT  IQ_TOTAL_OTHER_OPER  IQ_OPER_INC  \\\n",
       "count  3012.000000  3012.000000          3012.000000  3012.000000   \n",
       "mean   2011.354250     6.791917            24.218951     6.791917   \n",
       "std       4.395698    88.575264           156.763161    88.575264   \n",
       "min    1989.000000   -69.247000           -10.890000   -69.247000   \n",
       "25%    2009.000000    -0.245345             2.949947    -0.245345   \n",
       "50%    2012.000000     0.434824             5.882072     0.434824   \n",
       "75%    2015.000000     1.977820            13.784563     1.977820   \n",
       "max    2017.000000  3081.475300          5210.468000  3081.475300   \n",
       "\n",
       "       IQ_TOTAL_REV+0  IQ_TOTAL_REV+1        IQ_AR        IQ_RE  \\\n",
       "count     3012.000000     3012.000000  3012.000000  3012.000000   \n",
       "mean        65.126741       78.277634    14.142430     2.283245   \n",
       "std        456.569126      606.202716    81.507723   196.034359   \n",
       "min          0.004981        0.011503     0.000277 -1151.897000   \n",
       "25%          5.059110        5.811021     0.845760    -2.710970   \n",
       "50%         11.067161       12.364086     2.101464     0.200630   \n",
       "75%         26.148760       28.247320     5.464332     2.350529   \n",
       "max      16088.604000    18481.367000  2303.079000  7339.756000   \n",
       "\n",
       "       IQ_TOTAL_ASSETS  \n",
       "count      3012.000000  \n",
       "mean        111.353033  \n",
       "std        1395.443544  \n",
       "min           0.028000  \n",
       "25%           5.129623  \n",
       "50%          11.467958  \n",
       "75%          37.737479  \n",
       "max       54293.312000  "
      ]
     },
     "execution_count": 21,
     "metadata": {},
     "output_type": "execute_result"
    }
   ],
   "source": [
    "dataset_p.describe()"
   ]
  },
  {
   "cell_type": "markdown",
   "metadata": {},
   "source": [
    "## Repeat the same process  as above for public data "
   ]
  },
  {
   "cell_type": "markdown",
   "metadata": {},
   "source": [
    "## Get the file and the features for the software public income statements\n",
    "    \n",
    "    This will give a dataframe with all the data for 4 features:\n",
    "        - The Earnings before interest and taxes\n",
    "        - The Operating income\n",
    "        - The total revenue\n",
    "        - The total other operating income\n",
    "    \n",
    "    The total revenue will be shifted for one period\n",
    "  "
   ]
  },
  {
   "cell_type": "code",
   "execution_count": 22,
   "metadata": {
    "scrolled": true
   },
   "outputs": [
    {
     "name": "stdout",
     "output_type": "stream",
     "text": [
      "Size BEFORE dropping NA: (4508, 8)\n",
      "Size AFTER dropping NA: (3796, 8)\n",
      "TEST  set size: (560, 8)\n",
      "TRAIN set size: (3236, 8)\n",
      "TEST is 15% of all available datapoints\n"
     ]
    }
   ],
   "source": [
    "input_path = '/home/reference/data_interim/software_public_quarterly_revised_income_statements_INTERIM.csv'\n",
    "#features   = [ 'IQ_TOTAL_OTHER_OPER','IQ_NI','IQ_GP',\n",
    "#              'IQ_OPER_INC','IQ_EBITDA','IQ_EARNING_CO','IQ_OTHER_OPER',\n",
    "#              'IQ_INC_TAX','IQ_NET_INTEREST_EXP','IQ_TOTAL_REV']\n",
    "features = [ 'IQ_EBIT',\n",
    "              'IQ_TOTAL_OTHER_OPER',\n",
    "              'IQ_OPER_INC','IQ_TOTAL_REV']\n",
    "features_to_shift = ['IQ_TOTAL_REV']\n",
    "ids        = []\n",
    "#year_min   = 2014\n",
    "steps      = 0\n",
    "unitshift = 2\n",
    "train_df_pus, test_df_pus = extract_time_series_choosen_shift(input_path = input_path,\n",
    "                                   features = features,\n",
    "                                    features_to_shift = features_to_shift,\n",
    "                                      steps = steps,\n",
    "                                 unitshift = 2\n",
    "                                 \n",
    "                                \n",
    "                                )\n",
    "dataset_public_soft = pd.concat([train_df_pus,test_df_pus])\n",
    "\n",
    "\n",
    "#dataset_scale = scale_time_series_all(dataset,features,'standard')"
   ]
  },
  {
   "cell_type": "code",
   "execution_count": 23,
   "metadata": {},
   "outputs": [
    {
     "data": {
      "text/plain": [
       "array(['Q4', 'Q3', 'Q2', 'Q1'], dtype=object)"
      ]
     },
     "execution_count": 23,
     "metadata": {},
     "output_type": "execute_result"
    }
   ],
   "source": [
    "dataset_public_soft.quarter.unique()"
   ]
  },
  {
   "cell_type": "markdown",
   "metadata": {},
   "source": [
    "## Get the file and the features for the health public income statements\n",
    "    \n",
    "    This will give a dataframe with all the data for 4 features:\n",
    "        - The Earnings before interest and taxes\n",
    "        - The Operating income\n",
    "        - The total revenue\n",
    "        - The total other operating income\n",
    "    \n",
    "    The total revenue will be shifted for one period\n",
    "  "
   ]
  },
  {
   "cell_type": "code",
   "execution_count": 24,
   "metadata": {
    "scrolled": true
   },
   "outputs": [
    {
     "name": "stdout",
     "output_type": "stream",
     "text": [
      "Size BEFORE dropping NA: (3913, 8)\n",
      "Size AFTER dropping NA: (3393, 8)\n",
      "TEST  set size: (449, 8)\n",
      "TRAIN set size: (2944, 8)\n",
      "TEST is 13% of all available datapoints\n"
     ]
    }
   ],
   "source": [
    "input_path = '/home/reference/data_interim/health_public_quarterly_revised_income_statements_INTERIM.csv'\n",
    "#features   = [ 'IQ_TOTAL_OTHER_OPER','IQ_NI','IQ_GP',\n",
    "#              'IQ_OPER_INC','IQ_EBITDA','IQ_EARNING_CO','IQ_OTHER_OPER',\n",
    "#              'IQ_INC_TAX','IQ_NET_INTEREST_EXP','IQ_TOTAL_REV']\n",
    "features = [ 'IQ_EBIT',\n",
    "              'IQ_TOTAL_OTHER_OPER',\n",
    "              'IQ_OPER_INC','IQ_TOTAL_REV']\n",
    "features_to_shift = ['IQ_TOTAL_REV']\n",
    "ids        = []\n",
    "#year_min   = 2014\n",
    "steps      = 0\n",
    "unitshift = 2\n",
    "train_df_puh, test_df_puh = extract_time_series_choosen_shift(input_path = input_path,\n",
    "                                   features = features,\n",
    "                                    features_to_shift = features_to_shift,\n",
    "                                      steps = steps,\n",
    "                                 unitshift = 2\n",
    "                                 \n",
    "                                \n",
    "                                )\n",
    "dataset_public_health = pd.concat([train_df_puh,test_df_puh])\n",
    "\n",
    "\n",
    "#dataset_scale = scale_time_series_all(dataset,features,'standard')"
   ]
  },
  {
   "cell_type": "code",
   "execution_count": 25,
   "metadata": {},
   "outputs": [
    {
     "data": {
      "text/plain": [
       "array(['Q4', 'Q2', 'Q3', 'Q1'], dtype=object)"
      ]
     },
     "execution_count": 25,
     "metadata": {},
     "output_type": "execute_result"
    }
   ],
   "source": [
    "dataset_public_health['quarter'].unique()"
   ]
  },
  {
   "cell_type": "markdown",
   "metadata": {},
   "source": [
    "## Get the file and balance sheets features for the software public companies\n",
    "    \n",
    "    This will give a dataframe with all the data for 3 features:\n",
    "        - The Total assets of the companies \n",
    "        - The Account receivable\n",
    "        - The Retained earnings\n",
    "        \n",
    "    \n",
    "  "
   ]
  },
  {
   "cell_type": "code",
   "execution_count": 26,
   "metadata": {},
   "outputs": [
    {
     "name": "stdout",
     "output_type": "stream",
     "text": [
      "Size BEFORE dropping NA: (4482, 6)\n",
      "Size AFTER dropping NA: (4103, 6)\n",
      "TEST  set size: (560, 6)\n",
      "TRAIN set size: (3543, 6)\n",
      "TEST is 14% of all available datapoints\n"
     ]
    }
   ],
   "source": [
    "input_path_bal = '/home/reference/data_interim/software_public_quarterly_revised_balance_sheets_INTERIM.csv'\n",
    "#features   = [ 'IQ_TOTAL_OTHER_OPER','IQ_NI','IQ_GP',\n",
    "#              'IQ_OPER_INC','IQ_EBITDA','IQ_EARNING_CO','IQ_OTHER_OPER',\n",
    "#              'IQ_INC_TAX','IQ_NET_INTEREST_EXP','IQ_TOTAL_REV']\n",
    "features_bal = [ 'IQ_AR','IQ_RE','IQ_TOTAL_ASSETS']\n",
    "ids        = []\n",
    "#year_min   = 2014\n",
    "steps      = 0\n",
    "unitshift = 0\n",
    "train_bal_pus_df, test_bal_pus_df = extract_time_series_choosen_shift(input_path = input_path_bal,\n",
    "                                   features = features_bal,\n",
    "                                    \n",
    "                                      steps = steps,\n",
    "                                 unitshift = 0\n",
    "                                 \n",
    "                                \n",
    "                                )\n",
    "dataset_bal_pus = pd.concat([train_bal_pus_df,test_bal_pus_df])\n",
    "\n",
    "\n",
    "#dataset_scale_bal = scale_time_series_all(dataset_bal,features_bal,'standard')"
   ]
  },
  {
   "cell_type": "code",
   "execution_count": 27,
   "metadata": {},
   "outputs": [],
   "source": [
    "#dataset_bal_pus = pd.concat([dataset_bal_pus1,dataset_bal_pus2,dataset_bal_pus3],axis = 0)"
   ]
  },
  {
   "cell_type": "code",
   "execution_count": 28,
   "metadata": {},
   "outputs": [
    {
     "data": {
      "text/html": [
       "<div>\n",
       "<style scoped>\n",
       "    .dataframe tbody tr th:only-of-type {\n",
       "        vertical-align: middle;\n",
       "    }\n",
       "\n",
       "    .dataframe tbody tr th {\n",
       "        vertical-align: top;\n",
       "    }\n",
       "\n",
       "    .dataframe thead th {\n",
       "        text-align: right;\n",
       "    }\n",
       "</style>\n",
       "<table border=\"1\" class=\"dataframe\">\n",
       "  <thead>\n",
       "    <tr style=\"text-align: right;\">\n",
       "      <th></th>\n",
       "      <th>company</th>\n",
       "      <th>year</th>\n",
       "      <th>quarter</th>\n",
       "      <th>IQ_AR</th>\n",
       "      <th>IQ_RE</th>\n",
       "      <th>IQ_TOTAL_ASSETS</th>\n",
       "    </tr>\n",
       "  </thead>\n",
       "  <tbody>\n",
       "    <tr>\n",
       "      <th>0</th>\n",
       "      <td>IQ1004737</td>\n",
       "      <td>2008.0</td>\n",
       "      <td>Q4</td>\n",
       "      <td>51.364550</td>\n",
       "      <td>9.630161</td>\n",
       "      <td>142.18341</td>\n",
       "    </tr>\n",
       "    <tr>\n",
       "      <th>1</th>\n",
       "      <td>IQ1004737</td>\n",
       "      <td>2009.0</td>\n",
       "      <td>Q4</td>\n",
       "      <td>54.929703</td>\n",
       "      <td>12.275393</td>\n",
       "      <td>141.91211</td>\n",
       "    </tr>\n",
       "    <tr>\n",
       "      <th>2</th>\n",
       "      <td>IQ1004737</td>\n",
       "      <td>2010.0</td>\n",
       "      <td>Q4</td>\n",
       "      <td>61.973870</td>\n",
       "      <td>14.743946</td>\n",
       "      <td>149.75757</td>\n",
       "    </tr>\n",
       "    <tr>\n",
       "      <th>3</th>\n",
       "      <td>IQ1004737</td>\n",
       "      <td>2011.0</td>\n",
       "      <td>Q4</td>\n",
       "      <td>72.820300</td>\n",
       "      <td>10.702577</td>\n",
       "      <td>165.16977</td>\n",
       "    </tr>\n",
       "    <tr>\n",
       "      <th>4</th>\n",
       "      <td>IQ1004737</td>\n",
       "      <td>2012.0</td>\n",
       "      <td>Q4</td>\n",
       "      <td>63.937496</td>\n",
       "      <td>10.904575</td>\n",
       "      <td>151.79121</td>\n",
       "    </tr>\n",
       "  </tbody>\n",
       "</table>\n",
       "</div>"
      ],
      "text/plain": [
       "     company    year quarter      IQ_AR      IQ_RE  IQ_TOTAL_ASSETS\n",
       "0  IQ1004737  2008.0      Q4  51.364550   9.630161        142.18341\n",
       "1  IQ1004737  2009.0      Q4  54.929703  12.275393        141.91211\n",
       "2  IQ1004737  2010.0      Q4  61.973870  14.743946        149.75757\n",
       "3  IQ1004737  2011.0      Q4  72.820300  10.702577        165.16977\n",
       "4  IQ1004737  2012.0      Q4  63.937496  10.904575        151.79121"
      ]
     },
     "execution_count": 28,
     "metadata": {},
     "output_type": "execute_result"
    }
   ],
   "source": [
    "dataset_bal_pus.head()"
   ]
  },
  {
   "cell_type": "code",
   "execution_count": 29,
   "metadata": {},
   "outputs": [],
   "source": [
    "## Merge the public income and balance sheet data based on company, year and quarter"
   ]
  },
  {
   "cell_type": "code",
   "execution_count": 30,
   "metadata": {},
   "outputs": [],
   "source": [
    "dataset_pus = dataset_public_soft.merge(dataset_bal_pus, on = ['company','year','quarter'])"
   ]
  },
  {
   "cell_type": "code",
   "execution_count": 31,
   "metadata": {
    "scrolled": true
   },
   "outputs": [
    {
     "data": {
      "text/html": [
       "<div>\n",
       "<style scoped>\n",
       "    .dataframe tbody tr th:only-of-type {\n",
       "        vertical-align: middle;\n",
       "    }\n",
       "\n",
       "    .dataframe tbody tr th {\n",
       "        vertical-align: top;\n",
       "    }\n",
       "\n",
       "    .dataframe thead th {\n",
       "        text-align: right;\n",
       "    }\n",
       "</style>\n",
       "<table border=\"1\" class=\"dataframe\">\n",
       "  <thead>\n",
       "    <tr style=\"text-align: right;\">\n",
       "      <th></th>\n",
       "      <th>year</th>\n",
       "      <th>IQ_EBIT</th>\n",
       "      <th>IQ_TOTAL_OTHER_OPER</th>\n",
       "      <th>IQ_OPER_INC</th>\n",
       "      <th>IQ_TOTAL_REV+0</th>\n",
       "      <th>IQ_TOTAL_REV+1</th>\n",
       "      <th>IQ_AR</th>\n",
       "      <th>IQ_RE</th>\n",
       "      <th>IQ_TOTAL_ASSETS</th>\n",
       "    </tr>\n",
       "  </thead>\n",
       "  <tbody>\n",
       "    <tr>\n",
       "      <th>count</th>\n",
       "      <td>3413.000000</td>\n",
       "      <td>3413.000000</td>\n",
       "      <td>3413.000000</td>\n",
       "      <td>3413.000000</td>\n",
       "      <td>3413.000000</td>\n",
       "      <td>3413.000000</td>\n",
       "      <td>3413.000000</td>\n",
       "      <td>3413.000000</td>\n",
       "      <td>3413.000000</td>\n",
       "    </tr>\n",
       "    <tr>\n",
       "      <th>mean</th>\n",
       "      <td>2012.237621</td>\n",
       "      <td>10.217009</td>\n",
       "      <td>17.758383</td>\n",
       "      <td>10.217009</td>\n",
       "      <td>72.095352</td>\n",
       "      <td>78.388366</td>\n",
       "      <td>64.271539</td>\n",
       "      <td>78.586346</td>\n",
       "      <td>296.179196</td>\n",
       "    </tr>\n",
       "    <tr>\n",
       "      <th>std</th>\n",
       "      <td>3.946606</td>\n",
       "      <td>83.493527</td>\n",
       "      <td>117.637969</td>\n",
       "      <td>83.493527</td>\n",
       "      <td>402.370530</td>\n",
       "      <td>438.574018</td>\n",
       "      <td>327.711734</td>\n",
       "      <td>814.499529</td>\n",
       "      <td>1740.763198</td>\n",
       "    </tr>\n",
       "    <tr>\n",
       "      <th>min</th>\n",
       "      <td>1995.000000</td>\n",
       "      <td>-382.351930</td>\n",
       "      <td>-301.157650</td>\n",
       "      <td>-382.351930</td>\n",
       "      <td>-64.661670</td>\n",
       "      <td>-11.126720</td>\n",
       "      <td>0.000000</td>\n",
       "      <td>-690.700000</td>\n",
       "      <td>0.006726</td>\n",
       "    </tr>\n",
       "    <tr>\n",
       "      <th>25%</th>\n",
       "      <td>2010.000000</td>\n",
       "      <td>-0.062956</td>\n",
       "      <td>0.430961</td>\n",
       "      <td>-0.062956</td>\n",
       "      <td>1.335637</td>\n",
       "      <td>1.479961</td>\n",
       "      <td>1.163760</td>\n",
       "      <td>-2.775463</td>\n",
       "      <td>6.144484</td>\n",
       "    </tr>\n",
       "    <tr>\n",
       "      <th>50%</th>\n",
       "      <td>2013.000000</td>\n",
       "      <td>0.296677</td>\n",
       "      <td>1.467443</td>\n",
       "      <td>0.296677</td>\n",
       "      <td>5.105000</td>\n",
       "      <td>5.532261</td>\n",
       "      <td>4.589000</td>\n",
       "      <td>0.809295</td>\n",
       "      <td>20.525528</td>\n",
       "    </tr>\n",
       "    <tr>\n",
       "      <th>75%</th>\n",
       "      <td>2015.000000</td>\n",
       "      <td>1.794069</td>\n",
       "      <td>4.588644</td>\n",
       "      <td>1.794069</td>\n",
       "      <td>21.656979</td>\n",
       "      <td>22.612963</td>\n",
       "      <td>18.196371</td>\n",
       "      <td>8.146409</td>\n",
       "      <td>78.848885</td>\n",
       "    </tr>\n",
       "    <tr>\n",
       "      <th>max</th>\n",
       "      <td>2017.000000</td>\n",
       "      <td>1468.934100</td>\n",
       "      <td>2856.169200</td>\n",
       "      <td>1468.934100</td>\n",
       "      <td>7317.752400</td>\n",
       "      <td>8309.657000</td>\n",
       "      <td>5521.422400</td>\n",
       "      <td>22004.496000</td>\n",
       "      <td>37855.832000</td>\n",
       "    </tr>\n",
       "  </tbody>\n",
       "</table>\n",
       "</div>"
      ],
      "text/plain": [
       "              year      IQ_EBIT  IQ_TOTAL_OTHER_OPER  IQ_OPER_INC  \\\n",
       "count  3413.000000  3413.000000          3413.000000  3413.000000   \n",
       "mean   2012.237621    10.217009            17.758383    10.217009   \n",
       "std       3.946606    83.493527           117.637969    83.493527   \n",
       "min    1995.000000  -382.351930          -301.157650  -382.351930   \n",
       "25%    2010.000000    -0.062956             0.430961    -0.062956   \n",
       "50%    2013.000000     0.296677             1.467443     0.296677   \n",
       "75%    2015.000000     1.794069             4.588644     1.794069   \n",
       "max    2017.000000  1468.934100          2856.169200  1468.934100   \n",
       "\n",
       "       IQ_TOTAL_REV+0  IQ_TOTAL_REV+1        IQ_AR         IQ_RE  \\\n",
       "count     3413.000000     3413.000000  3413.000000   3413.000000   \n",
       "mean        72.095352       78.388366    64.271539     78.586346   \n",
       "std        402.370530      438.574018   327.711734    814.499529   \n",
       "min        -64.661670      -11.126720     0.000000   -690.700000   \n",
       "25%          1.335637        1.479961     1.163760     -2.775463   \n",
       "50%          5.105000        5.532261     4.589000      0.809295   \n",
       "75%         21.656979       22.612963    18.196371      8.146409   \n",
       "max       7317.752400     8309.657000  5521.422400  22004.496000   \n",
       "\n",
       "       IQ_TOTAL_ASSETS  \n",
       "count      3413.000000  \n",
       "mean        296.179196  \n",
       "std        1740.763198  \n",
       "min           0.006726  \n",
       "25%           6.144484  \n",
       "50%          20.525528  \n",
       "75%          78.848885  \n",
       "max       37855.832000  "
      ]
     },
     "execution_count": 31,
     "metadata": {},
     "output_type": "execute_result"
    }
   ],
   "source": [
    "dataset_pus.describe()"
   ]
  },
  {
   "cell_type": "markdown",
   "metadata": {},
   "source": [
    "## Get the file and balance sheets features for the health public companies\n",
    "    \n",
    "    This will give a dataframe with all the data for 3 features:\n",
    "        - The Total assets of the companies \n",
    "        - The Account receivable\n",
    "        - The Retained earnings\n",
    "        \n",
    "    \n",
    "  "
   ]
  },
  {
   "cell_type": "code",
   "execution_count": 32,
   "metadata": {},
   "outputs": [
    {
     "name": "stdout",
     "output_type": "stream",
     "text": [
      "Size BEFORE dropping NA: (3905, 6)\n",
      "Size AFTER dropping NA: (3582, 6)\n",
      "TEST  set size: (441, 6)\n",
      "TRAIN set size: (3141, 6)\n",
      "TEST is 12% of all available datapoints\n"
     ]
    }
   ],
   "source": [
    "input_path_bal = '/home/reference/data_interim/health_public_quarterly_revised_balance_sheets_INTERIM.csv'\n",
    "#features   = [ 'IQ_TOTAL_OTHER_OPER','IQ_NI','IQ_GP',\n",
    "#              'IQ_OPER_INC','IQ_EBITDA','IQ_EARNING_CO','IQ_OTHER_OPER',\n",
    "#              'IQ_INC_TAX','IQ_NET_INTEREST_EXP','IQ_TOTAL_REV']\n",
    "features_bal = [ 'IQ_AR','IQ_RE','IQ_TOTAL_ASSETS']\n",
    "ids        = []\n",
    "#year_min   = 2014\n",
    "steps      = 0\n",
    "unitshift = 0\n",
    "train_bal_puh1_df, test_bal_puh1_df = extract_time_series_choosen_shift(input_path = input_path_bal,\n",
    "                                   features = features_bal,\n",
    "                                    \n",
    "                                      steps = steps,\n",
    "                                 unitshift = 0\n",
    "                                 \n",
    "                                \n",
    "                                )\n",
    "dataset_bal_puh1 = pd.concat([train_bal_puh1_df,test_bal_puh1_df])\n",
    "\n",
    "\n",
    "#dataset_scale_bal = scale_time_series_all(dataset_bal,features_bal,'standard')"
   ]
  },
  {
   "cell_type": "code",
   "execution_count": 33,
   "metadata": {},
   "outputs": [],
   "source": [
    "dataset_puh = dataset_public_health.merge(dataset_bal_puh1, on = ['company','year','quarter'])"
   ]
  },
  {
   "cell_type": "code",
   "execution_count": 34,
   "metadata": {},
   "outputs": [
    {
     "data": {
      "text/plain": [
       "count     3038\n",
       "unique       4\n",
       "top         Q4\n",
       "freq      2998\n",
       "Name: quarter, dtype: object"
      ]
     },
     "execution_count": 34,
     "metadata": {},
     "output_type": "execute_result"
    }
   ],
   "source": [
    "dataset_puh.quarter.describe()"
   ]
  },
  {
   "cell_type": "code",
   "execution_count": 35,
   "metadata": {},
   "outputs": [],
   "source": [
    "dataset_pu = pd.concat([dataset_pus, dataset_puh], axis= 0)"
   ]
  },
  {
   "cell_type": "code",
   "execution_count": 36,
   "metadata": {},
   "outputs": [
    {
     "data": {
      "text/html": [
       "<div>\n",
       "<style scoped>\n",
       "    .dataframe tbody tr th:only-of-type {\n",
       "        vertical-align: middle;\n",
       "    }\n",
       "\n",
       "    .dataframe tbody tr th {\n",
       "        vertical-align: top;\n",
       "    }\n",
       "\n",
       "    .dataframe thead th {\n",
       "        text-align: right;\n",
       "    }\n",
       "</style>\n",
       "<table border=\"1\" class=\"dataframe\">\n",
       "  <thead>\n",
       "    <tr style=\"text-align: right;\">\n",
       "      <th></th>\n",
       "      <th>year</th>\n",
       "      <th>IQ_EBIT</th>\n",
       "      <th>IQ_TOTAL_OTHER_OPER</th>\n",
       "      <th>IQ_OPER_INC</th>\n",
       "      <th>IQ_TOTAL_REV+0</th>\n",
       "      <th>IQ_TOTAL_REV+1</th>\n",
       "      <th>IQ_AR</th>\n",
       "      <th>IQ_RE</th>\n",
       "      <th>IQ_TOTAL_ASSETS</th>\n",
       "    </tr>\n",
       "  </thead>\n",
       "  <tbody>\n",
       "    <tr>\n",
       "      <th>count</th>\n",
       "      <td>6451.000000</td>\n",
       "      <td>6451.000000</td>\n",
       "      <td>6451.000000</td>\n",
       "      <td>6451.000000</td>\n",
       "      <td>6451.000000</td>\n",
       "      <td>6451.000000</td>\n",
       "      <td>6451.000000</td>\n",
       "      <td>6451.000000</td>\n",
       "      <td>6451.000000</td>\n",
       "    </tr>\n",
       "    <tr>\n",
       "      <th>mean</th>\n",
       "      <td>2012.594481</td>\n",
       "      <td>28.564296</td>\n",
       "      <td>60.710916</td>\n",
       "      <td>28.564296</td>\n",
       "      <td>170.796120</td>\n",
       "      <td>180.614976</td>\n",
       "      <td>128.583304</td>\n",
       "      <td>283.777474</td>\n",
       "      <td>1048.524192</td>\n",
       "    </tr>\n",
       "    <tr>\n",
       "      <th>std</th>\n",
       "      <td>3.526493</td>\n",
       "      <td>186.911611</td>\n",
       "      <td>345.372630</td>\n",
       "      <td>186.911611</td>\n",
       "      <td>830.811782</td>\n",
       "      <td>866.517471</td>\n",
       "      <td>605.482713</td>\n",
       "      <td>2421.247662</td>\n",
       "      <td>6011.921586</td>\n",
       "    </tr>\n",
       "    <tr>\n",
       "      <th>min</th>\n",
       "      <td>1995.000000</td>\n",
       "      <td>-382.351930</td>\n",
       "      <td>-301.157650</td>\n",
       "      <td>-382.351930</td>\n",
       "      <td>-64.661670</td>\n",
       "      <td>-11.126720</td>\n",
       "      <td>0.000000</td>\n",
       "      <td>-6920.000000</td>\n",
       "      <td>0.006726</td>\n",
       "    </tr>\n",
       "    <tr>\n",
       "      <th>25%</th>\n",
       "      <td>2010.000000</td>\n",
       "      <td>-0.216345</td>\n",
       "      <td>0.699123</td>\n",
       "      <td>-0.216345</td>\n",
       "      <td>1.440951</td>\n",
       "      <td>1.566924</td>\n",
       "      <td>1.132342</td>\n",
       "      <td>-5.559749</td>\n",
       "      <td>8.702160</td>\n",
       "    </tr>\n",
       "    <tr>\n",
       "      <th>50%</th>\n",
       "      <td>2013.000000</td>\n",
       "      <td>0.300508</td>\n",
       "      <td>2.369944</td>\n",
       "      <td>0.300508</td>\n",
       "      <td>6.100487</td>\n",
       "      <td>6.623017</td>\n",
       "      <td>4.949204</td>\n",
       "      <td>0.736875</td>\n",
       "      <td>32.026924</td>\n",
       "    </tr>\n",
       "    <tr>\n",
       "      <th>75%</th>\n",
       "      <td>2015.000000</td>\n",
       "      <td>3.023458</td>\n",
       "      <td>10.220679</td>\n",
       "      <td>3.023458</td>\n",
       "      <td>32.422404</td>\n",
       "      <td>35.023761</td>\n",
       "      <td>27.830761</td>\n",
       "      <td>16.815114</td>\n",
       "      <td>152.542875</td>\n",
       "    </tr>\n",
       "    <tr>\n",
       "      <th>max</th>\n",
       "      <td>2017.000000</td>\n",
       "      <td>3916.000000</td>\n",
       "      <td>4848.000000</td>\n",
       "      <td>3916.000000</td>\n",
       "      <td>10703.440000</td>\n",
       "      <td>11949.044000</td>\n",
       "      <td>9378.246000</td>\n",
       "      <td>65723.390000</td>\n",
       "      <td>105390.030000</td>\n",
       "    </tr>\n",
       "  </tbody>\n",
       "</table>\n",
       "</div>"
      ],
      "text/plain": [
       "              year      IQ_EBIT  IQ_TOTAL_OTHER_OPER  IQ_OPER_INC  \\\n",
       "count  6451.000000  6451.000000          6451.000000  6451.000000   \n",
       "mean   2012.594481    28.564296            60.710916    28.564296   \n",
       "std       3.526493   186.911611           345.372630   186.911611   \n",
       "min    1995.000000  -382.351930          -301.157650  -382.351930   \n",
       "25%    2010.000000    -0.216345             0.699123    -0.216345   \n",
       "50%    2013.000000     0.300508             2.369944     0.300508   \n",
       "75%    2015.000000     3.023458            10.220679     3.023458   \n",
       "max    2017.000000  3916.000000          4848.000000  3916.000000   \n",
       "\n",
       "       IQ_TOTAL_REV+0  IQ_TOTAL_REV+1        IQ_AR         IQ_RE  \\\n",
       "count     6451.000000     6451.000000  6451.000000   6451.000000   \n",
       "mean       170.796120      180.614976   128.583304    283.777474   \n",
       "std        830.811782      866.517471   605.482713   2421.247662   \n",
       "min        -64.661670      -11.126720     0.000000  -6920.000000   \n",
       "25%          1.440951        1.566924     1.132342     -5.559749   \n",
       "50%          6.100487        6.623017     4.949204      0.736875   \n",
       "75%         32.422404       35.023761    27.830761     16.815114   \n",
       "max      10703.440000    11949.044000  9378.246000  65723.390000   \n",
       "\n",
       "       IQ_TOTAL_ASSETS  \n",
       "count      6451.000000  \n",
       "mean       1048.524192  \n",
       "std        6011.921586  \n",
       "min           0.006726  \n",
       "25%           8.702160  \n",
       "50%          32.026924  \n",
       "75%         152.542875  \n",
       "max      105390.030000  "
      ]
     },
     "execution_count": 36,
     "metadata": {},
     "output_type": "execute_result"
    }
   ],
   "source": [
    "dataset_pu.describe()"
   ]
  },
  {
   "cell_type": "code",
   "execution_count": 37,
   "metadata": {},
   "outputs": [],
   "source": [
    "#Mark rows for private companies with 0 and public companies with one\n",
    "dataset_p.insert(11,'IQ_CATEGORY',np.zeros(dataset_p.shape[0]),True)\n",
    "dataset_pu.insert(11,'IQ_CATEGORY',np.ones(dataset_pu.shape[0]),True)"
   ]
  },
  {
   "cell_type": "code",
   "execution_count": 38,
   "metadata": {},
   "outputs": [
    {
     "data": {
      "text/html": [
       "<div>\n",
       "<style scoped>\n",
       "    .dataframe tbody tr th:only-of-type {\n",
       "        vertical-align: middle;\n",
       "    }\n",
       "\n",
       "    .dataframe tbody tr th {\n",
       "        vertical-align: top;\n",
       "    }\n",
       "\n",
       "    .dataframe thead th {\n",
       "        text-align: right;\n",
       "    }\n",
       "</style>\n",
       "<table border=\"1\" class=\"dataframe\">\n",
       "  <thead>\n",
       "    <tr style=\"text-align: right;\">\n",
       "      <th></th>\n",
       "      <th>company</th>\n",
       "      <th>year</th>\n",
       "      <th>quarter</th>\n",
       "      <th>IQ_EBIT</th>\n",
       "      <th>IQ_TOTAL_OTHER_OPER</th>\n",
       "      <th>IQ_OPER_INC</th>\n",
       "      <th>IQ_TOTAL_REV+0</th>\n",
       "      <th>IQ_TOTAL_REV+1</th>\n",
       "      <th>IQ_AR</th>\n",
       "      <th>IQ_RE</th>\n",
       "      <th>IQ_TOTAL_ASSETS</th>\n",
       "      <th>IQ_CATEGORY</th>\n",
       "    </tr>\n",
       "  </thead>\n",
       "  <tbody>\n",
       "    <tr>\n",
       "      <th>0</th>\n",
       "      <td>IQ1004737</td>\n",
       "      <td>2008.0</td>\n",
       "      <td>Q4</td>\n",
       "      <td>4.715592</td>\n",
       "      <td>0.587953</td>\n",
       "      <td>4.715592</td>\n",
       "      <td>27.367480</td>\n",
       "      <td>24.618883</td>\n",
       "      <td>51.364550</td>\n",
       "      <td>9.630161</td>\n",
       "      <td>142.18341</td>\n",
       "      <td>1.0</td>\n",
       "    </tr>\n",
       "    <tr>\n",
       "      <th>1</th>\n",
       "      <td>IQ1004737</td>\n",
       "      <td>2009.0</td>\n",
       "      <td>Q4</td>\n",
       "      <td>3.819487</td>\n",
       "      <td>2.139208</td>\n",
       "      <td>3.819487</td>\n",
       "      <td>24.618883</td>\n",
       "      <td>23.524069</td>\n",
       "      <td>54.929703</td>\n",
       "      <td>12.275393</td>\n",
       "      <td>141.91211</td>\n",
       "      <td>1.0</td>\n",
       "    </tr>\n",
       "    <tr>\n",
       "      <th>2</th>\n",
       "      <td>IQ1004737</td>\n",
       "      <td>2010.0</td>\n",
       "      <td>Q4</td>\n",
       "      <td>3.458828</td>\n",
       "      <td>2.173012</td>\n",
       "      <td>3.458828</td>\n",
       "      <td>23.524069</td>\n",
       "      <td>30.077684</td>\n",
       "      <td>61.973870</td>\n",
       "      <td>14.743946</td>\n",
       "      <td>149.75757</td>\n",
       "      <td>1.0</td>\n",
       "    </tr>\n",
       "    <tr>\n",
       "      <th>3</th>\n",
       "      <td>IQ1004737</td>\n",
       "      <td>2011.0</td>\n",
       "      <td>Q4</td>\n",
       "      <td>4.357645</td>\n",
       "      <td>3.713942</td>\n",
       "      <td>4.357645</td>\n",
       "      <td>30.077684</td>\n",
       "      <td>32.529490</td>\n",
       "      <td>72.820300</td>\n",
       "      <td>10.702577</td>\n",
       "      <td>165.16977</td>\n",
       "      <td>1.0</td>\n",
       "    </tr>\n",
       "    <tr>\n",
       "      <th>4</th>\n",
       "      <td>IQ1004737</td>\n",
       "      <td>2012.0</td>\n",
       "      <td>Q4</td>\n",
       "      <td>3.101893</td>\n",
       "      <td>4.942206</td>\n",
       "      <td>3.101893</td>\n",
       "      <td>32.529490</td>\n",
       "      <td>30.630005</td>\n",
       "      <td>63.937496</td>\n",
       "      <td>10.904575</td>\n",
       "      <td>151.79121</td>\n",
       "      <td>1.0</td>\n",
       "    </tr>\n",
       "  </tbody>\n",
       "</table>\n",
       "</div>"
      ],
      "text/plain": [
       "     company    year quarter   IQ_EBIT  IQ_TOTAL_OTHER_OPER  IQ_OPER_INC  \\\n",
       "0  IQ1004737  2008.0      Q4  4.715592             0.587953     4.715592   \n",
       "1  IQ1004737  2009.0      Q4  3.819487             2.139208     3.819487   \n",
       "2  IQ1004737  2010.0      Q4  3.458828             2.173012     3.458828   \n",
       "3  IQ1004737  2011.0      Q4  4.357645             3.713942     4.357645   \n",
       "4  IQ1004737  2012.0      Q4  3.101893             4.942206     3.101893   \n",
       "\n",
       "   IQ_TOTAL_REV+0  IQ_TOTAL_REV+1      IQ_AR      IQ_RE  IQ_TOTAL_ASSETS  \\\n",
       "0       27.367480       24.618883  51.364550   9.630161        142.18341   \n",
       "1       24.618883       23.524069  54.929703  12.275393        141.91211   \n",
       "2       23.524069       30.077684  61.973870  14.743946        149.75757   \n",
       "3       30.077684       32.529490  72.820300  10.702577        165.16977   \n",
       "4       32.529490       30.630005  63.937496  10.904575        151.79121   \n",
       "\n",
       "   IQ_CATEGORY  \n",
       "0          1.0  \n",
       "1          1.0  \n",
       "2          1.0  \n",
       "3          1.0  \n",
       "4          1.0  "
      ]
     },
     "execution_count": 38,
     "metadata": {},
     "output_type": "execute_result"
    }
   ],
   "source": [
    "dataset_pu.head()"
   ]
  },
  {
   "cell_type": "markdown",
   "metadata": {},
   "source": [
    "## Merge all the data from public and private"
   ]
  },
  {
   "cell_type": "code",
   "execution_count": 39,
   "metadata": {},
   "outputs": [],
   "source": [
    "\n",
    "dataset_all = pd.concat([dataset_p,dataset_pu], axis = 0)"
   ]
  },
  {
   "cell_type": "code",
   "execution_count": 40,
   "metadata": {},
   "outputs": [
    {
     "data": {
      "text/html": [
       "<div>\n",
       "<style scoped>\n",
       "    .dataframe tbody tr th:only-of-type {\n",
       "        vertical-align: middle;\n",
       "    }\n",
       "\n",
       "    .dataframe tbody tr th {\n",
       "        vertical-align: top;\n",
       "    }\n",
       "\n",
       "    .dataframe thead th {\n",
       "        text-align: right;\n",
       "    }\n",
       "</style>\n",
       "<table border=\"1\" class=\"dataframe\">\n",
       "  <thead>\n",
       "    <tr style=\"text-align: right;\">\n",
       "      <th></th>\n",
       "      <th>year</th>\n",
       "      <th>IQ_EBIT</th>\n",
       "      <th>IQ_TOTAL_OTHER_OPER</th>\n",
       "      <th>IQ_OPER_INC</th>\n",
       "      <th>IQ_TOTAL_REV+0</th>\n",
       "      <th>IQ_TOTAL_REV+1</th>\n",
       "      <th>IQ_AR</th>\n",
       "      <th>IQ_RE</th>\n",
       "      <th>IQ_TOTAL_ASSETS</th>\n",
       "      <th>IQ_CATEGORY</th>\n",
       "    </tr>\n",
       "  </thead>\n",
       "  <tbody>\n",
       "    <tr>\n",
       "      <th>count</th>\n",
       "      <td>9463.000000</td>\n",
       "      <td>9463.000000</td>\n",
       "      <td>9463.000000</td>\n",
       "      <td>9463.000000</td>\n",
       "      <td>9463.000000</td>\n",
       "      <td>9463.000000</td>\n",
       "      <td>9463.000000</td>\n",
       "      <td>9463.000000</td>\n",
       "      <td>9463.000000</td>\n",
       "      <td>9463.000000</td>\n",
       "    </tr>\n",
       "    <tr>\n",
       "      <th>mean</th>\n",
       "      <td>2012.199725</td>\n",
       "      <td>21.634315</td>\n",
       "      <td>49.095804</td>\n",
       "      <td>21.634315</td>\n",
       "      <td>137.162371</td>\n",
       "      <td>148.041788</td>\n",
       "      <td>92.157655</td>\n",
       "      <td>194.180029</td>\n",
       "      <td>750.229832</td>\n",
       "      <td>0.681708</td>\n",
       "    </tr>\n",
       "    <tr>\n",
       "      <th>std</th>\n",
       "      <td>3.867802</td>\n",
       "      <td>162.525140</td>\n",
       "      <td>299.033042</td>\n",
       "      <td>162.525140</td>\n",
       "      <td>734.358299</td>\n",
       "      <td>794.386244</td>\n",
       "      <td>504.840784</td>\n",
       "      <td>2006.414160</td>\n",
       "      <td>5044.614430</td>\n",
       "      <td>0.465838</td>\n",
       "    </tr>\n",
       "    <tr>\n",
       "      <th>min</th>\n",
       "      <td>1989.000000</td>\n",
       "      <td>-382.351930</td>\n",
       "      <td>-301.157650</td>\n",
       "      <td>-382.351930</td>\n",
       "      <td>-64.661670</td>\n",
       "      <td>-11.126720</td>\n",
       "      <td>0.000000</td>\n",
       "      <td>-6920.000000</td>\n",
       "      <td>0.006726</td>\n",
       "      <td>0.000000</td>\n",
       "    </tr>\n",
       "    <tr>\n",
       "      <th>25%</th>\n",
       "      <td>2010.000000</td>\n",
       "      <td>-0.223713</td>\n",
       "      <td>1.128921</td>\n",
       "      <td>-0.223713</td>\n",
       "      <td>2.225366</td>\n",
       "      <td>2.532351</td>\n",
       "      <td>0.986781</td>\n",
       "      <td>-4.513678</td>\n",
       "      <td>6.836584</td>\n",
       "      <td>0.000000</td>\n",
       "    </tr>\n",
       "    <tr>\n",
       "      <th>50%</th>\n",
       "      <td>2013.000000</td>\n",
       "      <td>0.345882</td>\n",
       "      <td>3.524000</td>\n",
       "      <td>0.345882</td>\n",
       "      <td>8.082776</td>\n",
       "      <td>8.914500</td>\n",
       "      <td>3.357951</td>\n",
       "      <td>0.391380</td>\n",
       "      <td>22.646652</td>\n",
       "      <td>1.000000</td>\n",
       "    </tr>\n",
       "    <tr>\n",
       "      <th>75%</th>\n",
       "      <td>2015.000000</td>\n",
       "      <td>2.508452</td>\n",
       "      <td>11.899054</td>\n",
       "      <td>2.508452</td>\n",
       "      <td>29.223067</td>\n",
       "      <td>31.623048</td>\n",
       "      <td>16.231681</td>\n",
       "      <td>8.494703</td>\n",
       "      <td>100.562075</td>\n",
       "      <td>1.000000</td>\n",
       "    </tr>\n",
       "    <tr>\n",
       "      <th>max</th>\n",
       "      <td>2017.000000</td>\n",
       "      <td>3916.000000</td>\n",
       "      <td>5210.468000</td>\n",
       "      <td>3916.000000</td>\n",
       "      <td>16088.604000</td>\n",
       "      <td>18481.367000</td>\n",
       "      <td>9378.246000</td>\n",
       "      <td>65723.390000</td>\n",
       "      <td>105390.030000</td>\n",
       "      <td>1.000000</td>\n",
       "    </tr>\n",
       "  </tbody>\n",
       "</table>\n",
       "</div>"
      ],
      "text/plain": [
       "              year      IQ_EBIT  IQ_TOTAL_OTHER_OPER  IQ_OPER_INC  \\\n",
       "count  9463.000000  9463.000000          9463.000000  9463.000000   \n",
       "mean   2012.199725    21.634315            49.095804    21.634315   \n",
       "std       3.867802   162.525140           299.033042   162.525140   \n",
       "min    1989.000000  -382.351930          -301.157650  -382.351930   \n",
       "25%    2010.000000    -0.223713             1.128921    -0.223713   \n",
       "50%    2013.000000     0.345882             3.524000     0.345882   \n",
       "75%    2015.000000     2.508452            11.899054     2.508452   \n",
       "max    2017.000000  3916.000000          5210.468000  3916.000000   \n",
       "\n",
       "       IQ_TOTAL_REV+0  IQ_TOTAL_REV+1        IQ_AR         IQ_RE  \\\n",
       "count     9463.000000     9463.000000  9463.000000   9463.000000   \n",
       "mean       137.162371      148.041788    92.157655    194.180029   \n",
       "std        734.358299      794.386244   504.840784   2006.414160   \n",
       "min        -64.661670      -11.126720     0.000000  -6920.000000   \n",
       "25%          2.225366        2.532351     0.986781     -4.513678   \n",
       "50%          8.082776        8.914500     3.357951      0.391380   \n",
       "75%         29.223067       31.623048    16.231681      8.494703   \n",
       "max      16088.604000    18481.367000  9378.246000  65723.390000   \n",
       "\n",
       "       IQ_TOTAL_ASSETS  IQ_CATEGORY  \n",
       "count      9463.000000  9463.000000  \n",
       "mean        750.229832     0.681708  \n",
       "std        5044.614430     0.465838  \n",
       "min           0.006726     0.000000  \n",
       "25%           6.836584     0.000000  \n",
       "50%          22.646652     1.000000  \n",
       "75%         100.562075     1.000000  \n",
       "max      105390.030000     1.000000  "
      ]
     },
     "execution_count": 40,
     "metadata": {},
     "output_type": "execute_result"
    }
   ],
   "source": [
    "dataset_all.describe()"
   ]
  },
  {
   "cell_type": "code",
   "execution_count": 41,
   "metadata": {},
   "outputs": [],
   "source": [
    "dataset_all['IQ_CATEGORY'] = pd.Categorical(dataset_all.IQ_CATEGORY)"
   ]
  },
  {
   "cell_type": "code",
   "execution_count": 42,
   "metadata": {},
   "outputs": [],
   "source": [
    "dataset_all = dataset_all.rename(columns={'IQ_TOTAL_REV+0':'IQ_TOTAL_REV','IQ_TOTAL_REV+1':'TARGET'})"
   ]
  },
  {
   "cell_type": "code",
   "execution_count": 43,
   "metadata": {},
   "outputs": [
    {
     "data": {
      "text/html": [
       "<div>\n",
       "<style scoped>\n",
       "    .dataframe tbody tr th:only-of-type {\n",
       "        vertical-align: middle;\n",
       "    }\n",
       "\n",
       "    .dataframe tbody tr th {\n",
       "        vertical-align: top;\n",
       "    }\n",
       "\n",
       "    .dataframe thead th {\n",
       "        text-align: right;\n",
       "    }\n",
       "</style>\n",
       "<table border=\"1\" class=\"dataframe\">\n",
       "  <thead>\n",
       "    <tr style=\"text-align: right;\">\n",
       "      <th></th>\n",
       "      <th>company</th>\n",
       "      <th>year</th>\n",
       "      <th>quarter</th>\n",
       "      <th>IQ_EBIT</th>\n",
       "      <th>IQ_TOTAL_OTHER_OPER</th>\n",
       "      <th>IQ_OPER_INC</th>\n",
       "      <th>IQ_TOTAL_REV</th>\n",
       "      <th>TARGET</th>\n",
       "      <th>IQ_AR</th>\n",
       "      <th>IQ_RE</th>\n",
       "      <th>IQ_TOTAL_ASSETS</th>\n",
       "      <th>IQ_CATEGORY</th>\n",
       "    </tr>\n",
       "  </thead>\n",
       "  <tbody>\n",
       "    <tr>\n",
       "      <th>0</th>\n",
       "      <td>IQ102267046</td>\n",
       "      <td>2013.0</td>\n",
       "      <td>Q4</td>\n",
       "      <td>0.088781</td>\n",
       "      <td>1.544846</td>\n",
       "      <td>0.088781</td>\n",
       "      <td>2.962316</td>\n",
       "      <td>4.305274</td>\n",
       "      <td>2.467916</td>\n",
       "      <td>-0.220824</td>\n",
       "      <td>3.479154</td>\n",
       "      <td>0.0</td>\n",
       "    </tr>\n",
       "    <tr>\n",
       "      <th>1</th>\n",
       "      <td>IQ102267046</td>\n",
       "      <td>2014.0</td>\n",
       "      <td>Q4</td>\n",
       "      <td>0.161020</td>\n",
       "      <td>2.177063</td>\n",
       "      <td>0.161020</td>\n",
       "      <td>4.305274</td>\n",
       "      <td>6.537584</td>\n",
       "      <td>3.671694</td>\n",
       "      <td>0.081069</td>\n",
       "      <td>4.908565</td>\n",
       "      <td>0.0</td>\n",
       "    </tr>\n",
       "    <tr>\n",
       "      <th>2</th>\n",
       "      <td>IQ102267046</td>\n",
       "      <td>2015.0</td>\n",
       "      <td>Q4</td>\n",
       "      <td>0.018564</td>\n",
       "      <td>3.163827</td>\n",
       "      <td>0.018564</td>\n",
       "      <td>6.537584</td>\n",
       "      <td>12.468611</td>\n",
       "      <td>5.159870</td>\n",
       "      <td>0.107997</td>\n",
       "      <td>6.973966</td>\n",
       "      <td>0.0</td>\n",
       "    </tr>\n",
       "    <tr>\n",
       "      <th>3</th>\n",
       "      <td>IQ105654219</td>\n",
       "      <td>2007.0</td>\n",
       "      <td>Q4</td>\n",
       "      <td>-0.058002</td>\n",
       "      <td>1.405880</td>\n",
       "      <td>-0.058002</td>\n",
       "      <td>2.912760</td>\n",
       "      <td>4.642862</td>\n",
       "      <td>0.736371</td>\n",
       "      <td>-0.161029</td>\n",
       "      <td>1.867177</td>\n",
       "      <td>0.0</td>\n",
       "    </tr>\n",
       "    <tr>\n",
       "      <th>4</th>\n",
       "      <td>IQ105654219</td>\n",
       "      <td>2012.0</td>\n",
       "      <td>Q4</td>\n",
       "      <td>0.417684</td>\n",
       "      <td>1.918909</td>\n",
       "      <td>0.417684</td>\n",
       "      <td>4.642862</td>\n",
       "      <td>4.957326</td>\n",
       "      <td>1.114145</td>\n",
       "      <td>0.935905</td>\n",
       "      <td>3.141921</td>\n",
       "      <td>0.0</td>\n",
       "    </tr>\n",
       "  </tbody>\n",
       "</table>\n",
       "</div>"
      ],
      "text/plain": [
       "       company    year quarter   IQ_EBIT  IQ_TOTAL_OTHER_OPER  IQ_OPER_INC  \\\n",
       "0  IQ102267046  2013.0      Q4  0.088781             1.544846     0.088781   \n",
       "1  IQ102267046  2014.0      Q4  0.161020             2.177063     0.161020   \n",
       "2  IQ102267046  2015.0      Q4  0.018564             3.163827     0.018564   \n",
       "3  IQ105654219  2007.0      Q4 -0.058002             1.405880    -0.058002   \n",
       "4  IQ105654219  2012.0      Q4  0.417684             1.918909     0.417684   \n",
       "\n",
       "   IQ_TOTAL_REV     TARGET     IQ_AR     IQ_RE  IQ_TOTAL_ASSETS IQ_CATEGORY  \n",
       "0      2.962316   4.305274  2.467916 -0.220824         3.479154         0.0  \n",
       "1      4.305274   6.537584  3.671694  0.081069         4.908565         0.0  \n",
       "2      6.537584  12.468611  5.159870  0.107997         6.973966         0.0  \n",
       "3      2.912760   4.642862  0.736371 -0.161029         1.867177         0.0  \n",
       "4      4.642862   4.957326  1.114145  0.935905         3.141921         0.0  "
      ]
     },
     "execution_count": 43,
     "metadata": {},
     "output_type": "execute_result"
    }
   ],
   "source": [
    "dataset_all.head()"
   ]
  },
  {
   "cell_type": "code",
   "execution_count": 44,
   "metadata": {},
   "outputs": [],
   "source": [
    "# Generate a dataset based on the merged data\n",
    "dataset_all.to_csv(r'private_public_file.csv')"
   ]
  },
  {
   "cell_type": "code",
   "execution_count": 45,
   "metadata": {
    "scrolled": true
   },
   "outputs": [
    {
     "data": {
      "text/html": [
       "<div>\n",
       "<style scoped>\n",
       "    .dataframe tbody tr th:only-of-type {\n",
       "        vertical-align: middle;\n",
       "    }\n",
       "\n",
       "    .dataframe tbody tr th {\n",
       "        vertical-align: top;\n",
       "    }\n",
       "\n",
       "    .dataframe thead th {\n",
       "        text-align: right;\n",
       "    }\n",
       "</style>\n",
       "<table border=\"1\" class=\"dataframe\">\n",
       "  <thead>\n",
       "    <tr style=\"text-align: right;\">\n",
       "      <th></th>\n",
       "      <th>company</th>\n",
       "      <th>year</th>\n",
       "      <th>quarter</th>\n",
       "      <th>IQ_EBIT</th>\n",
       "      <th>IQ_TOTAL_OTHER_OPER</th>\n",
       "      <th>IQ_OPER_INC</th>\n",
       "      <th>IQ_TOTAL_REV</th>\n",
       "      <th>TARGET</th>\n",
       "      <th>IQ_AR</th>\n",
       "      <th>IQ_RE</th>\n",
       "      <th>IQ_TOTAL_ASSETS</th>\n",
       "      <th>IQ_CATEGORY</th>\n",
       "    </tr>\n",
       "  </thead>\n",
       "  <tbody>\n",
       "    <tr>\n",
       "      <th>0</th>\n",
       "      <td>IQ102267046</td>\n",
       "      <td>2013.0</td>\n",
       "      <td>Q4</td>\n",
       "      <td>0.088781</td>\n",
       "      <td>1.544846</td>\n",
       "      <td>0.088781</td>\n",
       "      <td>2.962316</td>\n",
       "      <td>4.305274</td>\n",
       "      <td>2.467916</td>\n",
       "      <td>-0.220824</td>\n",
       "      <td>3.479154</td>\n",
       "      <td>0.0</td>\n",
       "    </tr>\n",
       "    <tr>\n",
       "      <th>1</th>\n",
       "      <td>IQ102267046</td>\n",
       "      <td>2014.0</td>\n",
       "      <td>Q4</td>\n",
       "      <td>0.161020</td>\n",
       "      <td>2.177063</td>\n",
       "      <td>0.161020</td>\n",
       "      <td>4.305274</td>\n",
       "      <td>6.537584</td>\n",
       "      <td>3.671694</td>\n",
       "      <td>0.081069</td>\n",
       "      <td>4.908565</td>\n",
       "      <td>0.0</td>\n",
       "    </tr>\n",
       "    <tr>\n",
       "      <th>2</th>\n",
       "      <td>IQ102267046</td>\n",
       "      <td>2015.0</td>\n",
       "      <td>Q4</td>\n",
       "      <td>0.018564</td>\n",
       "      <td>3.163827</td>\n",
       "      <td>0.018564</td>\n",
       "      <td>6.537584</td>\n",
       "      <td>12.468611</td>\n",
       "      <td>5.159870</td>\n",
       "      <td>0.107997</td>\n",
       "      <td>6.973966</td>\n",
       "      <td>0.0</td>\n",
       "    </tr>\n",
       "    <tr>\n",
       "      <th>3</th>\n",
       "      <td>IQ105654219</td>\n",
       "      <td>2007.0</td>\n",
       "      <td>Q4</td>\n",
       "      <td>-0.058002</td>\n",
       "      <td>1.405880</td>\n",
       "      <td>-0.058002</td>\n",
       "      <td>2.912760</td>\n",
       "      <td>4.642862</td>\n",
       "      <td>0.736371</td>\n",
       "      <td>-0.161029</td>\n",
       "      <td>1.867177</td>\n",
       "      <td>0.0</td>\n",
       "    </tr>\n",
       "    <tr>\n",
       "      <th>4</th>\n",
       "      <td>IQ105654219</td>\n",
       "      <td>2012.0</td>\n",
       "      <td>Q4</td>\n",
       "      <td>0.417684</td>\n",
       "      <td>1.918909</td>\n",
       "      <td>0.417684</td>\n",
       "      <td>4.642862</td>\n",
       "      <td>4.957326</td>\n",
       "      <td>1.114145</td>\n",
       "      <td>0.935905</td>\n",
       "      <td>3.141921</td>\n",
       "      <td>0.0</td>\n",
       "    </tr>\n",
       "  </tbody>\n",
       "</table>\n",
       "</div>"
      ],
      "text/plain": [
       "       company    year quarter   IQ_EBIT  IQ_TOTAL_OTHER_OPER  IQ_OPER_INC  \\\n",
       "0  IQ102267046  2013.0      Q4  0.088781             1.544846     0.088781   \n",
       "1  IQ102267046  2014.0      Q4  0.161020             2.177063     0.161020   \n",
       "2  IQ102267046  2015.0      Q4  0.018564             3.163827     0.018564   \n",
       "3  IQ105654219  2007.0      Q4 -0.058002             1.405880    -0.058002   \n",
       "4  IQ105654219  2012.0      Q4  0.417684             1.918909     0.417684   \n",
       "\n",
       "   IQ_TOTAL_REV     TARGET     IQ_AR     IQ_RE  IQ_TOTAL_ASSETS IQ_CATEGORY  \n",
       "0      2.962316   4.305274  2.467916 -0.220824         3.479154         0.0  \n",
       "1      4.305274   6.537584  3.671694  0.081069         4.908565         0.0  \n",
       "2      6.537584  12.468611  5.159870  0.107997         6.973966         0.0  \n",
       "3      2.912760   4.642862  0.736371 -0.161029         1.867177         0.0  \n",
       "4      4.642862   4.957326  1.114145  0.935905         3.141921         0.0  "
      ]
     },
     "execution_count": 45,
     "metadata": {},
     "output_type": "execute_result"
    }
   ],
   "source": [
    "dataset_all.head()"
   ]
  },
  {
   "cell_type": "code",
   "execution_count": 46,
   "metadata": {
    "scrolled": true
   },
   "outputs": [
    {
     "data": {
      "text/plain": [
       "<matplotlib.axes._subplots.AxesSubplot at 0x7f0e28c696a0>"
      ]
     },
     "execution_count": 46,
     "metadata": {},
     "output_type": "execute_result"
    },
    {
     "data": {
      "image/png": "[encoded data removed]",
      "text/plain": [
       "<Figure size 432x288 with 1 Axes>"
      ]
     },
     "metadata": {
      "needs_background": "light"
     },
     "output_type": "display_data"
    }
   ],
   "source": [
    "sns.scatterplot(x = dataset_all['IQ_TOTAL_REV'],y = dataset_all['IQ_AR'],hue = 'IQ_CATEGORY', data = dataset_all)"
   ]
  },
  {
   "cell_type": "code",
   "execution_count": 47,
   "metadata": {},
   "outputs": [],
   "source": [
    "from sklearn.model_selection import train_test_split\n",
    "from sklearn.model_selection import cross_val_score\n",
    "from sklearn import preprocessing\n",
    "from sklearn import metrics\n",
    "X = pd.get_dummies(dataset_all[[\"IQ_CATEGORY\"]],sparse = False)\n",
    "\n",
    "dataset_all.insert(12,\"IQ_PRIV\",X['IQ_CATEGORY_0.0'],True)\n",
    "dataset_all.insert(13,\"IQ_PUB\",X['IQ_CATEGORY_1.0'],True)\n",
    "#dataset.rename(columns={\"0.0\":\"IQ_PRIVATE\",\"1.0\":\"IQ_PUBLIC\"})"
   ]
  },
  {
   "cell_type": "code",
   "execution_count": 48,
   "metadata": {
    "scrolled": true
   },
   "outputs": [
    {
     "data": {
      "text/html": [
       "<div>\n",
       "<style scoped>\n",
       "    .dataframe tbody tr th:only-of-type {\n",
       "        vertical-align: middle;\n",
       "    }\n",
       "\n",
       "    .dataframe tbody tr th {\n",
       "        vertical-align: top;\n",
       "    }\n",
       "\n",
       "    .dataframe thead th {\n",
       "        text-align: right;\n",
       "    }\n",
       "</style>\n",
       "<table border=\"1\" class=\"dataframe\">\n",
       "  <thead>\n",
       "    <tr style=\"text-align: right;\">\n",
       "      <th></th>\n",
       "      <th>year</th>\n",
       "      <th>IQ_EBIT</th>\n",
       "      <th>IQ_TOTAL_OTHER_OPER</th>\n",
       "      <th>IQ_OPER_INC</th>\n",
       "      <th>IQ_TOTAL_REV</th>\n",
       "      <th>TARGET</th>\n",
       "      <th>IQ_AR</th>\n",
       "      <th>IQ_RE</th>\n",
       "      <th>IQ_TOTAL_ASSETS</th>\n",
       "      <th>IQ_PRIV</th>\n",
       "      <th>IQ_PUB</th>\n",
       "    </tr>\n",
       "  </thead>\n",
       "  <tbody>\n",
       "    <tr>\n",
       "      <th>count</th>\n",
       "      <td>9463.000000</td>\n",
       "      <td>9463.000000</td>\n",
       "      <td>9463.000000</td>\n",
       "      <td>9463.000000</td>\n",
       "      <td>9463.000000</td>\n",
       "      <td>9463.000000</td>\n",
       "      <td>9463.000000</td>\n",
       "      <td>9463.000000</td>\n",
       "      <td>9463.000000</td>\n",
       "      <td>9463.000000</td>\n",
       "      <td>9463.000000</td>\n",
       "    </tr>\n",
       "    <tr>\n",
       "      <th>mean</th>\n",
       "      <td>2012.199725</td>\n",
       "      <td>21.634315</td>\n",
       "      <td>49.095804</td>\n",
       "      <td>21.634315</td>\n",
       "      <td>137.162371</td>\n",
       "      <td>148.041788</td>\n",
       "      <td>92.157655</td>\n",
       "      <td>194.180029</td>\n",
       "      <td>750.229832</td>\n",
       "      <td>0.318292</td>\n",
       "      <td>0.681708</td>\n",
       "    </tr>\n",
       "    <tr>\n",
       "      <th>std</th>\n",
       "      <td>3.867802</td>\n",
       "      <td>162.525140</td>\n",
       "      <td>299.033042</td>\n",
       "      <td>162.525140</td>\n",
       "      <td>734.358299</td>\n",
       "      <td>794.386244</td>\n",
       "      <td>504.840784</td>\n",
       "      <td>2006.414160</td>\n",
       "      <td>5044.614430</td>\n",
       "      <td>0.465838</td>\n",
       "      <td>0.465838</td>\n",
       "    </tr>\n",
       "    <tr>\n",
       "      <th>min</th>\n",
       "      <td>1989.000000</td>\n",
       "      <td>-382.351930</td>\n",
       "      <td>-301.157650</td>\n",
       "      <td>-382.351930</td>\n",
       "      <td>-64.661670</td>\n",
       "      <td>-11.126720</td>\n",
       "      <td>0.000000</td>\n",
       "      <td>-6920.000000</td>\n",
       "      <td>0.006726</td>\n",
       "      <td>0.000000</td>\n",
       "      <td>0.000000</td>\n",
       "    </tr>\n",
       "    <tr>\n",
       "      <th>25%</th>\n",
       "      <td>2010.000000</td>\n",
       "      <td>-0.223713</td>\n",
       "      <td>1.128921</td>\n",
       "      <td>-0.223713</td>\n",
       "      <td>2.225366</td>\n",
       "      <td>2.532351</td>\n",
       "      <td>0.986781</td>\n",
       "      <td>-4.513678</td>\n",
       "      <td>6.836584</td>\n",
       "      <td>0.000000</td>\n",
       "      <td>0.000000</td>\n",
       "    </tr>\n",
       "    <tr>\n",
       "      <th>50%</th>\n",
       "      <td>2013.000000</td>\n",
       "      <td>0.345882</td>\n",
       "      <td>3.524000</td>\n",
       "      <td>0.345882</td>\n",
       "      <td>8.082776</td>\n",
       "      <td>8.914500</td>\n",
       "      <td>3.357951</td>\n",
       "      <td>0.391380</td>\n",
       "      <td>22.646652</td>\n",
       "      <td>0.000000</td>\n",
       "      <td>1.000000</td>\n",
       "    </tr>\n",
       "    <tr>\n",
       "      <th>75%</th>\n",
       "      <td>2015.000000</td>\n",
       "      <td>2.508452</td>\n",
       "      <td>11.899054</td>\n",
       "      <td>2.508452</td>\n",
       "      <td>29.223067</td>\n",
       "      <td>31.623048</td>\n",
       "      <td>16.231681</td>\n",
       "      <td>8.494703</td>\n",
       "      <td>100.562075</td>\n",
       "      <td>1.000000</td>\n",
       "      <td>1.000000</td>\n",
       "    </tr>\n",
       "    <tr>\n",
       "      <th>max</th>\n",
       "      <td>2017.000000</td>\n",
       "      <td>3916.000000</td>\n",
       "      <td>5210.468000</td>\n",
       "      <td>3916.000000</td>\n",
       "      <td>16088.604000</td>\n",
       "      <td>18481.367000</td>\n",
       "      <td>9378.246000</td>\n",
       "      <td>65723.390000</td>\n",
       "      <td>105390.030000</td>\n",
       "      <td>1.000000</td>\n",
       "      <td>1.000000</td>\n",
       "    </tr>\n",
       "  </tbody>\n",
       "</table>\n",
       "</div>"
      ],
      "text/plain": [
       "              year      IQ_EBIT  IQ_TOTAL_OTHER_OPER  IQ_OPER_INC  \\\n",
       "count  9463.000000  9463.000000          9463.000000  9463.000000   \n",
       "mean   2012.199725    21.634315            49.095804    21.634315   \n",
       "std       3.867802   162.525140           299.033042   162.525140   \n",
       "min    1989.000000  -382.351930          -301.157650  -382.351930   \n",
       "25%    2010.000000    -0.223713             1.128921    -0.223713   \n",
       "50%    2013.000000     0.345882             3.524000     0.345882   \n",
       "75%    2015.000000     2.508452            11.899054     2.508452   \n",
       "max    2017.000000  3916.000000          5210.468000  3916.000000   \n",
       "\n",
       "       IQ_TOTAL_REV        TARGET        IQ_AR         IQ_RE  IQ_TOTAL_ASSETS  \\\n",
       "count   9463.000000   9463.000000  9463.000000   9463.000000      9463.000000   \n",
       "mean     137.162371    148.041788    92.157655    194.180029       750.229832   \n",
       "std      734.358299    794.386244   504.840784   2006.414160      5044.614430   \n",
       "min      -64.661670    -11.126720     0.000000  -6920.000000         0.006726   \n",
       "25%        2.225366      2.532351     0.986781     -4.513678         6.836584   \n",
       "50%        8.082776      8.914500     3.357951      0.391380        22.646652   \n",
       "75%       29.223067     31.623048    16.231681      8.494703       100.562075   \n",
       "max    16088.604000  18481.367000  9378.246000  65723.390000    105390.030000   \n",
       "\n",
       "           IQ_PRIV       IQ_PUB  \n",
       "count  9463.000000  9463.000000  \n",
       "mean      0.318292     0.681708  \n",
       "std       0.465838     0.465838  \n",
       "min       0.000000     0.000000  \n",
       "25%       0.000000     0.000000  \n",
       "50%       0.000000     1.000000  \n",
       "75%       1.000000     1.000000  \n",
       "max       1.000000     1.000000  "
      ]
     },
     "execution_count": 48,
     "metadata": {},
     "output_type": "execute_result"
    }
   ],
   "source": [
    "dataset_all.describe()"
   ]
  },
  {
   "cell_type": "code",
   "execution_count": 49,
   "metadata": {},
   "outputs": [],
   "source": [
    "dataset_all = dataset_all.drop(['IQ_CATEGORY'], axis = 1)"
   ]
  },
  {
   "cell_type": "code",
   "execution_count": 50,
   "metadata": {
    "scrolled": false
   },
   "outputs": [
    {
     "data": {
      "text/html": [
       "<div>\n",
       "<style scoped>\n",
       "    .dataframe tbody tr th:only-of-type {\n",
       "        vertical-align: middle;\n",
       "    }\n",
       "\n",
       "    .dataframe tbody tr th {\n",
       "        vertical-align: top;\n",
       "    }\n",
       "\n",
       "    .dataframe thead th {\n",
       "        text-align: right;\n",
       "    }\n",
       "</style>\n",
       "<table border=\"1\" class=\"dataframe\">\n",
       "  <thead>\n",
       "    <tr style=\"text-align: right;\">\n",
       "      <th></th>\n",
       "      <th>company</th>\n",
       "      <th>year</th>\n",
       "      <th>quarter</th>\n",
       "      <th>IQ_EBIT</th>\n",
       "      <th>IQ_TOTAL_OTHER_OPER</th>\n",
       "      <th>IQ_OPER_INC</th>\n",
       "      <th>IQ_TOTAL_REV</th>\n",
       "      <th>TARGET</th>\n",
       "      <th>IQ_AR</th>\n",
       "      <th>IQ_RE</th>\n",
       "      <th>IQ_TOTAL_ASSETS</th>\n",
       "      <th>IQ_PRIV</th>\n",
       "      <th>IQ_PUB</th>\n",
       "    </tr>\n",
       "  </thead>\n",
       "  <tbody>\n",
       "    <tr>\n",
       "      <th>0</th>\n",
       "      <td>IQ102267046</td>\n",
       "      <td>2013.0</td>\n",
       "      <td>Q4</td>\n",
       "      <td>0.088781</td>\n",
       "      <td>1.544846</td>\n",
       "      <td>0.088781</td>\n",
       "      <td>2.962316</td>\n",
       "      <td>4.305274</td>\n",
       "      <td>2.467916</td>\n",
       "      <td>-0.220824</td>\n",
       "      <td>3.479154</td>\n",
       "      <td>1</td>\n",
       "      <td>0</td>\n",
       "    </tr>\n",
       "    <tr>\n",
       "      <th>1</th>\n",
       "      <td>IQ102267046</td>\n",
       "      <td>2014.0</td>\n",
       "      <td>Q4</td>\n",
       "      <td>0.161020</td>\n",
       "      <td>2.177063</td>\n",
       "      <td>0.161020</td>\n",
       "      <td>4.305274</td>\n",
       "      <td>6.537584</td>\n",
       "      <td>3.671694</td>\n",
       "      <td>0.081069</td>\n",
       "      <td>4.908565</td>\n",
       "      <td>1</td>\n",
       "      <td>0</td>\n",
       "    </tr>\n",
       "    <tr>\n",
       "      <th>2</th>\n",
       "      <td>IQ102267046</td>\n",
       "      <td>2015.0</td>\n",
       "      <td>Q4</td>\n",
       "      <td>0.018564</td>\n",
       "      <td>3.163827</td>\n",
       "      <td>0.018564</td>\n",
       "      <td>6.537584</td>\n",
       "      <td>12.468611</td>\n",
       "      <td>5.159870</td>\n",
       "      <td>0.107997</td>\n",
       "      <td>6.973966</td>\n",
       "      <td>1</td>\n",
       "      <td>0</td>\n",
       "    </tr>\n",
       "    <tr>\n",
       "      <th>3</th>\n",
       "      <td>IQ105654219</td>\n",
       "      <td>2007.0</td>\n",
       "      <td>Q4</td>\n",
       "      <td>-0.058002</td>\n",
       "      <td>1.405880</td>\n",
       "      <td>-0.058002</td>\n",
       "      <td>2.912760</td>\n",
       "      <td>4.642862</td>\n",
       "      <td>0.736371</td>\n",
       "      <td>-0.161029</td>\n",
       "      <td>1.867177</td>\n",
       "      <td>1</td>\n",
       "      <td>0</td>\n",
       "    </tr>\n",
       "    <tr>\n",
       "      <th>4</th>\n",
       "      <td>IQ105654219</td>\n",
       "      <td>2012.0</td>\n",
       "      <td>Q4</td>\n",
       "      <td>0.417684</td>\n",
       "      <td>1.918909</td>\n",
       "      <td>0.417684</td>\n",
       "      <td>4.642862</td>\n",
       "      <td>4.957326</td>\n",
       "      <td>1.114145</td>\n",
       "      <td>0.935905</td>\n",
       "      <td>3.141921</td>\n",
       "      <td>1</td>\n",
       "      <td>0</td>\n",
       "    </tr>\n",
       "  </tbody>\n",
       "</table>\n",
       "</div>"
      ],
      "text/plain": [
       "       company    year quarter   IQ_EBIT  IQ_TOTAL_OTHER_OPER  IQ_OPER_INC  \\\n",
       "0  IQ102267046  2013.0      Q4  0.088781             1.544846     0.088781   \n",
       "1  IQ102267046  2014.0      Q4  0.161020             2.177063     0.161020   \n",
       "2  IQ102267046  2015.0      Q4  0.018564             3.163827     0.018564   \n",
       "3  IQ105654219  2007.0      Q4 -0.058002             1.405880    -0.058002   \n",
       "4  IQ105654219  2012.0      Q4  0.417684             1.918909     0.417684   \n",
       "\n",
       "   IQ_TOTAL_REV     TARGET     IQ_AR     IQ_RE  IQ_TOTAL_ASSETS  IQ_PRIV  \\\n",
       "0      2.962316   4.305274  2.467916 -0.220824         3.479154        1   \n",
       "1      4.305274   6.537584  3.671694  0.081069         4.908565        1   \n",
       "2      6.537584  12.468611  5.159870  0.107997         6.973966        1   \n",
       "3      2.912760   4.642862  0.736371 -0.161029         1.867177        1   \n",
       "4      4.642862   4.957326  1.114145  0.935905         3.141921        1   \n",
       "\n",
       "   IQ_PUB  \n",
       "0       0  \n",
       "1       0  \n",
       "2       0  \n",
       "3       0  \n",
       "4       0  "
      ]
     },
     "execution_count": 50,
     "metadata": {},
     "output_type": "execute_result"
    }
   ],
   "source": [
    "dataset_all.head()"
   ]
  },
  {
   "cell_type": "markdown",
   "metadata": {},
   "source": [
    "## Create a csv file for all the data"
   ]
  },
  {
   "cell_type": "code",
   "execution_count": 51,
   "metadata": {},
   "outputs": [],
   "source": [
    "dataset_all.to_csv(r'pivate_public_file.csv')"
   ]
  },
  {
   "cell_type": "markdown",
   "metadata": {},
   "source": [
    "## Split the data into training and test sets\n",
    "    - Create the standard scaler for the training part\n",
    "    - Create the standard scaler for the target part\n",
    "    - Scale the training data and apply it to the test data\n",
    "    - Train the target data and apply it to test target"
   ]
  },
  {
   "cell_type": "code",
   "execution_count": 52,
   "metadata": {},
   "outputs": [],
   "source": [
    "from sklearn.preprocessing import StandardScaler\n",
    "scaler_X = StandardScaler()\n",
    "scaler_y = StandardScaler()\n",
    "\n",
    "\n",
    "X_train,X_test = train_test_split(dataset_all,random_state=0)\n",
    "#plt.rcParams[\"figure.figsize\"]=40,40"
   ]
  },
  {
   "cell_type": "code",
   "execution_count": 53,
   "metadata": {},
   "outputs": [
    {
     "name": "stderr",
     "output_type": "stream",
     "text": [
      "/home/mbousso/anaconda3/lib/python3.7/site-packages/pandas/core/frame.py:3940: SettingWithCopyWarning: \n",
      "A value is trying to be set on a copy of a slice from a DataFrame\n",
      "\n",
      "See the caveats in the documentation: http://pandas.pydata.org/pandas-docs/stable/indexing.html#indexing-view-versus-copy\n",
      "  errors=errors)\n"
     ]
    }
   ],
   "source": [
    "# Drop the scaling of Target\n",
    "y_train = X_train['TARGET']\n",
    "y_test = X_test['TARGET']\n",
    "X_train.drop('TARGET',axis=1,inplace = True)\n",
    "X_test.drop('TARGET',axis=1, inplace = True)"
   ]
  },
  {
   "cell_type": "code",
   "execution_count": 54,
   "metadata": {},
   "outputs": [],
   "source": [
    "#Drop Target and scale the train and test set\n",
    "\n",
    "X_train_scale = scaler_X.fit_transform(X_train.loc[:,\"IQ_EBIT\":\"IQ_TOTAL_ASSETS\"])\n",
    "X_test_scale = scaler_X.transform(X_test.loc[:,\"IQ_EBIT\":\"IQ_TOTAL_ASSETS\"])\n",
    "\n",
    "\n",
    "# Create a new dataframe based on this scale train data and scale test data\n",
    "\n",
    "X_train_scale = pd.DataFrame(X_train_scale)\n",
    "X_train_scale.columns = X_train.columns[3:10]\n",
    "X_test_scale = pd.DataFrame(X_test_scale)\n",
    "X_test_scale.columns = X_test.columns[3:10]\n",
    "\n",
    "# Insert the company, the year and the quarter to this new dataframes\n",
    "X_train_scale.insert(0,'company',X_train['company'].values,True)\n",
    "X_train_scale.insert(1,'year',X_train['year'].values,False)\n",
    "X_train_scale.insert(2,'quarter',X_train['quarter'].values,False)\n",
    "\n",
    "\n",
    "X_train_scale.insert(10,'IQ_PRIV',X_train['IQ_PRIV'].values,False)\n",
    "X_train_scale.insert(11,'IQ_PUB',X_train['IQ_PUB'].values,False)\n",
    "\n",
    "X_test_scale.insert(0,'company',X_test['company'].values,False)\n",
    "X_test_scale.insert(1,'year',X_test['year'].values,False)\n",
    "X_test_scale.insert(2,'quarter',X_test['quarter'].values,False)\n",
    "\n",
    "X_test_scale.insert(10,'IQ_PRIV',X_test['IQ_PRIV'].values,False)\n",
    "X_test_scale.insert(11,'IQ_PUB',X_test['IQ_PUB'].values,False)\n"
   ]
  },
  {
   "cell_type": "code",
   "execution_count": 55,
   "metadata": {},
   "outputs": [],
   "source": [
    "#Scale the target train and test variable\n",
    "\n",
    "y_train = y_train.values.reshape(len(y_train),1)\n",
    "y_test = y_test.values.reshape(len(y_test),1)\n",
    "y_train_scale = scaler_y.fit_transform(y_train)\n",
    "y_test_scale = scaler_y.transform(y_test)\n",
    "\n",
    "# Create a new dataframe based on this scale train data and scale test data\n",
    "\n",
    "y_train_scale = pd.DataFrame(y_train_scale)\n",
    "y_train_scale.columns = {'TARGET'}\n",
    "y_test_scale = pd.DataFrame(y_test_scale)\n",
    "y_test_scale.columns = {'TARGET'}\n",
    "\n",
    "y_train = pd.DataFrame(y_train)\n",
    "y_train.columns = {'TARGET'}\n",
    "\n",
    "y_test = pd.DataFrame(y_test)\n",
    "y_test.columns = {'TARGET'}"
   ]
  },
  {
   "cell_type": "code",
   "execution_count": 56,
   "metadata": {},
   "outputs": [
    {
     "data": {
      "text/html": [
       "<div>\n",
       "<style scoped>\n",
       "    .dataframe tbody tr th:only-of-type {\n",
       "        vertical-align: middle;\n",
       "    }\n",
       "\n",
       "    .dataframe tbody tr th {\n",
       "        vertical-align: top;\n",
       "    }\n",
       "\n",
       "    .dataframe thead th {\n",
       "        text-align: right;\n",
       "    }\n",
       "</style>\n",
       "<table border=\"1\" class=\"dataframe\">\n",
       "  <thead>\n",
       "    <tr style=\"text-align: right;\">\n",
       "      <th></th>\n",
       "      <th>company</th>\n",
       "      <th>year</th>\n",
       "      <th>quarter</th>\n",
       "      <th>IQ_EBIT</th>\n",
       "      <th>IQ_TOTAL_OTHER_OPER</th>\n",
       "      <th>IQ_OPER_INC</th>\n",
       "      <th>IQ_TOTAL_REV</th>\n",
       "      <th>IQ_AR</th>\n",
       "      <th>IQ_RE</th>\n",
       "      <th>IQ_TOTAL_ASSETS</th>\n",
       "      <th>IQ_PRIV</th>\n",
       "      <th>IQ_PUB</th>\n",
       "    </tr>\n",
       "  </thead>\n",
       "  <tbody>\n",
       "    <tr>\n",
       "      <th>0</th>\n",
       "      <td>IQ9273142</td>\n",
       "      <td>2011.0</td>\n",
       "      <td>Q4</td>\n",
       "      <td>-0.131722</td>\n",
       "      <td>-0.167487</td>\n",
       "      <td>-0.131722</td>\n",
       "      <td>-0.178980</td>\n",
       "      <td>-0.176578</td>\n",
       "      <td>-0.100692</td>\n",
       "      <td>-0.151470</td>\n",
       "      <td>0</td>\n",
       "      <td>1</td>\n",
       "    </tr>\n",
       "    <tr>\n",
       "      <th>1</th>\n",
       "      <td>IQ1004737</td>\n",
       "      <td>2013.0</td>\n",
       "      <td>Q4</td>\n",
       "      <td>-0.116749</td>\n",
       "      <td>-0.152239</td>\n",
       "      <td>-0.116749</td>\n",
       "      <td>-0.149563</td>\n",
       "      <td>-0.072222</td>\n",
       "      <td>-0.097301</td>\n",
       "      <td>-0.122299</td>\n",
       "      <td>0</td>\n",
       "      <td>1</td>\n",
       "    </tr>\n",
       "    <tr>\n",
       "      <th>2</th>\n",
       "      <td>IQ2220050</td>\n",
       "      <td>2016.0</td>\n",
       "      <td>Q4</td>\n",
       "      <td>-0.135682</td>\n",
       "      <td>-0.157108</td>\n",
       "      <td>-0.135682</td>\n",
       "      <td>-0.186244</td>\n",
       "      <td>-0.187313</td>\n",
       "      <td>-0.102613</td>\n",
       "      <td>-0.153781</td>\n",
       "      <td>1</td>\n",
       "      <td>0</td>\n",
       "    </tr>\n",
       "    <tr>\n",
       "      <th>3</th>\n",
       "      <td>IQ117542163</td>\n",
       "      <td>2015.0</td>\n",
       "      <td>Q4</td>\n",
       "      <td>-0.132076</td>\n",
       "      <td>-0.167722</td>\n",
       "      <td>-0.132076</td>\n",
       "      <td>-0.189803</td>\n",
       "      <td>-0.187834</td>\n",
       "      <td>-0.103767</td>\n",
       "      <td>-0.153675</td>\n",
       "      <td>0</td>\n",
       "      <td>1</td>\n",
       "    </tr>\n",
       "    <tr>\n",
       "      <th>4</th>\n",
       "      <td>IQ83524843</td>\n",
       "      <td>2015.0</td>\n",
       "      <td>Q4</td>\n",
       "      <td>-0.134141</td>\n",
       "      <td>-0.167843</td>\n",
       "      <td>-0.134141</td>\n",
       "      <td>-0.189350</td>\n",
       "      <td>-0.186632</td>\n",
       "      <td>-0.103125</td>\n",
       "      <td>-0.153330</td>\n",
       "      <td>0</td>\n",
       "      <td>1</td>\n",
       "    </tr>\n",
       "  </tbody>\n",
       "</table>\n",
       "</div>"
      ],
      "text/plain": [
       "       company    year quarter   IQ_EBIT  IQ_TOTAL_OTHER_OPER  IQ_OPER_INC  \\\n",
       "0    IQ9273142  2011.0      Q4 -0.131722            -0.167487    -0.131722   \n",
       "1    IQ1004737  2013.0      Q4 -0.116749            -0.152239    -0.116749   \n",
       "2    IQ2220050  2016.0      Q4 -0.135682            -0.157108    -0.135682   \n",
       "3  IQ117542163  2015.0      Q4 -0.132076            -0.167722    -0.132076   \n",
       "4   IQ83524843  2015.0      Q4 -0.134141            -0.167843    -0.134141   \n",
       "\n",
       "   IQ_TOTAL_REV     IQ_AR     IQ_RE  IQ_TOTAL_ASSETS  IQ_PRIV  IQ_PUB  \n",
       "0     -0.178980 -0.176578 -0.100692        -0.151470        0       1  \n",
       "1     -0.149563 -0.072222 -0.097301        -0.122299        0       1  \n",
       "2     -0.186244 -0.187313 -0.102613        -0.153781        1       0  \n",
       "3     -0.189803 -0.187834 -0.103767        -0.153675        0       1  \n",
       "4     -0.189350 -0.186632 -0.103125        -0.153330        0       1  "
      ]
     },
     "execution_count": 56,
     "metadata": {},
     "output_type": "execute_result"
    }
   ],
   "source": [
    "\n",
    "X_train_scale.head()"
   ]
  },
  {
   "cell_type": "code",
   "execution_count": 57,
   "metadata": {},
   "outputs": [
    {
     "data": {
      "text/plain": [
       "array([[-0.13172206, -0.1674869 , -0.13172206, ..., -0.15147009,\n",
       "         0.        ,  1.        ],\n",
       "       [-0.11674881, -0.15223906, -0.11674881, ..., -0.12229935,\n",
       "         0.        ,  1.        ],\n",
       "       [-0.13568224, -0.15710825, -0.13568224, ..., -0.15378136,\n",
       "         1.        ,  0.        ],\n",
       "       ...,\n",
       "       [-0.12812175, -0.16839134, -0.12812175, ..., -0.15348356,\n",
       "         0.        ,  1.        ],\n",
       "       [-0.13469479, -0.15911   , -0.13469479, ..., -0.13651349,\n",
       "         0.        ,  1.        ],\n",
       "       [-0.14877486, -0.1382656 , -0.14877486, ..., -0.14678786,\n",
       "         1.        ,  0.        ]])"
      ]
     },
     "execution_count": 57,
     "metadata": {},
     "output_type": "execute_result"
    }
   ],
   "source": [
    "X_train_scale.loc[:,'IQ_EBIT':'IQ_PUB'].values"
   ]
  },
  {
   "cell_type": "code",
   "execution_count": 58,
   "metadata": {},
   "outputs": [
    {
     "data": {
      "text/plain": [
       "<matplotlib.axes._subplots.AxesSubplot at 0x7f0e287c97b8>"
      ]
     },
     "execution_count": 58,
     "metadata": {},
     "output_type": "execute_result"
    },
    {
     "data": {
      "image/png": "[encoded data removed]",
      "text/plain": [
       "<Figure size 432x288 with 1 Axes>"
      ]
     },
     "metadata": {
      "needs_background": "light"
     },
     "output_type": "display_data"
    }
   ],
   "source": [
    "sns.scatterplot(x = 'IQ_EBIT', y = 'IQ_RE',hue = 'IQ_PRIV',data = X_train_scale)"
   ]
  },
  {
   "cell_type": "code",
   "execution_count": 59,
   "metadata": {},
   "outputs": [
    {
     "name": "stdout",
     "output_type": "stream",
     "text": [
      "Requirement already satisfied: tf-nightly-2.0_preview in /home/mbousso/anaconda3/lib/python3.7/site-packages (2.0.0.dev20191002)\n",
      "Requirement already satisfied: wheel>=0.26; python_version >= \"3\" in /home/mbousso/anaconda3/lib/python3.7/site-packages (from tf-nightly-2.0_preview) (0.33.4)\n",
      "Requirement already satisfied: termcolor>=1.1.0 in /home/mbousso/anaconda3/lib/python3.7/site-packages (from tf-nightly-2.0_preview) (1.1.0)\n",
      "Requirement already satisfied: numpy<2.0,>=1.16.0 in /home/mbousso/anaconda3/lib/python3.7/site-packages (from tf-nightly-2.0_preview) (1.16.4)\n",
      "Requirement already satisfied: astor>=0.6.0 in /home/mbousso/anaconda3/lib/python3.7/site-packages (from tf-nightly-2.0_preview) (0.8.0)\n",
      "Requirement already satisfied: keras-applications>=1.0.8 in /home/mbousso/anaconda3/lib/python3.7/site-packages (from tf-nightly-2.0_preview) (1.0.8)\n",
      "Requirement already satisfied: absl-py>=0.7.0 in /home/mbousso/anaconda3/lib/python3.7/site-packages (from tf-nightly-2.0_preview) (0.8.1)\n",
      "Requirement already satisfied: opt-einsum>=2.3.2 in /home/mbousso/anaconda3/lib/python3.7/site-packages (from tf-nightly-2.0_preview) (3.1.0)\n",
      "Requirement already satisfied: tb-nightly<2.2.0a0,>=2.1.0a0 in /home/mbousso/anaconda3/lib/python3.7/site-packages (from tf-nightly-2.0_preview) (2.1.0a20191029)\n",
      "Requirement already satisfied: keras-preprocessing>=1.0.5 in /home/mbousso/anaconda3/lib/python3.7/site-packages (from tf-nightly-2.0_preview) (1.1.0)\n",
      "Requirement already satisfied: gast==0.2.2 in /home/mbousso/anaconda3/lib/python3.7/site-packages (from tf-nightly-2.0_preview) (0.2.2)\n",
      "Requirement already satisfied: tensorflow-estimator-2.0-preview in /home/mbousso/anaconda3/lib/python3.7/site-packages (from tf-nightly-2.0_preview) (2.0.0)\n",
      "Requirement already satisfied: google-pasta>=0.1.6 in /home/mbousso/anaconda3/lib/python3.7/site-packages (from tf-nightly-2.0_preview) (0.1.7)\n",
      "Requirement already satisfied: six>=1.10.0 in /home/mbousso/anaconda3/lib/python3.7/site-packages (from tf-nightly-2.0_preview) (1.12.0)\n",
      "Requirement already satisfied: protobuf>=3.6.1 in /home/mbousso/anaconda3/lib/python3.7/site-packages (from tf-nightly-2.0_preview) (3.10.0)\n",
      "Requirement already satisfied: wrapt>=1.11.1 in /home/mbousso/anaconda3/lib/python3.7/site-packages (from tf-nightly-2.0_preview) (1.11.2)\n",
      "Requirement already satisfied: grpcio>=1.8.6 in /home/mbousso/anaconda3/lib/python3.7/site-packages (from tf-nightly-2.0_preview) (1.24.3)\n",
      "Requirement already satisfied: h5py in /home/mbousso/anaconda3/lib/python3.7/site-packages (from keras-applications>=1.0.8->tf-nightly-2.0_preview) (2.9.0)\n",
      "Requirement already satisfied: setuptools>=41.0.0 in /home/mbousso/anaconda3/lib/python3.7/site-packages (from tb-nightly<2.2.0a0,>=2.1.0a0->tf-nightly-2.0_preview) (41.0.1)\n",
      "Requirement already satisfied: werkzeug>=0.11.15 in /home/mbousso/anaconda3/lib/python3.7/site-packages (from tb-nightly<2.2.0a0,>=2.1.0a0->tf-nightly-2.0_preview) (0.15.4)\n",
      "Requirement already satisfied: google-auth-oauthlib<0.5,>=0.4.1 in /home/mbousso/anaconda3/lib/python3.7/site-packages (from tb-nightly<2.2.0a0,>=2.1.0a0->tf-nightly-2.0_preview) (0.4.1)\n",
      "Requirement already satisfied: markdown>=2.6.8 in /home/mbousso/anaconda3/lib/python3.7/site-packages (from tb-nightly<2.2.0a0,>=2.1.0a0->tf-nightly-2.0_preview) (3.1.1)\n",
      "Requirement already satisfied: google-auth<2,>=1.6.3 in /home/mbousso/anaconda3/lib/python3.7/site-packages (from tb-nightly<2.2.0a0,>=2.1.0a0->tf-nightly-2.0_preview) (1.6.3)\n",
      "Requirement already satisfied: requests-oauthlib>=0.7.0 in /home/mbousso/anaconda3/lib/python3.7/site-packages (from google-auth-oauthlib<0.5,>=0.4.1->tb-nightly<2.2.0a0,>=2.1.0a0->tf-nightly-2.0_preview) (1.2.0)\n",
      "Requirement already satisfied: rsa>=3.1.4 in /home/mbousso/anaconda3/lib/python3.7/site-packages (from google-auth<2,>=1.6.3->tb-nightly<2.2.0a0,>=2.1.0a0->tf-nightly-2.0_preview) (4.0)\n",
      "Requirement already satisfied: cachetools>=2.0.0 in /home/mbousso/anaconda3/lib/python3.7/site-packages (from google-auth<2,>=1.6.3->tb-nightly<2.2.0a0,>=2.1.0a0->tf-nightly-2.0_preview) (3.1.1)\n",
      "Requirement already satisfied: pyasn1-modules>=0.2.1 in /home/mbousso/anaconda3/lib/python3.7/site-packages (from google-auth<2,>=1.6.3->tb-nightly<2.2.0a0,>=2.1.0a0->tf-nightly-2.0_preview) (0.2.7)\n",
      "Requirement already satisfied: requests>=2.0.0 in /home/mbousso/anaconda3/lib/python3.7/site-packages (from requests-oauthlib>=0.7.0->google-auth-oauthlib<0.5,>=0.4.1->tb-nightly<2.2.0a0,>=2.1.0a0->tf-nightly-2.0_preview) (2.22.0)\n",
      "Requirement already satisfied: oauthlib>=3.0.0 in /home/mbousso/anaconda3/lib/python3.7/site-packages (from requests-oauthlib>=0.7.0->google-auth-oauthlib<0.5,>=0.4.1->tb-nightly<2.2.0a0,>=2.1.0a0->tf-nightly-2.0_preview) (3.1.0)\n",
      "Requirement already satisfied: pyasn1>=0.1.3 in /home/mbousso/anaconda3/lib/python3.7/site-packages (from rsa>=3.1.4->google-auth<2,>=1.6.3->tb-nightly<2.2.0a0,>=2.1.0a0->tf-nightly-2.0_preview) (0.4.7)\n",
      "Requirement already satisfied: chardet<3.1.0,>=3.0.2 in /home/mbousso/anaconda3/lib/python3.7/site-packages (from requests>=2.0.0->requests-oauthlib>=0.7.0->google-auth-oauthlib<0.5,>=0.4.1->tb-nightly<2.2.0a0,>=2.1.0a0->tf-nightly-2.0_preview) (3.0.4)\n",
      "Requirement already satisfied: certifi>=2017.4.17 in /home/mbousso/anaconda3/lib/python3.7/site-packages (from requests>=2.0.0->requests-oauthlib>=0.7.0->google-auth-oauthlib<0.5,>=0.4.1->tb-nightly<2.2.0a0,>=2.1.0a0->tf-nightly-2.0_preview) (2019.9.11)\n",
      "Requirement already satisfied: idna<2.9,>=2.5 in /home/mbousso/anaconda3/lib/python3.7/site-packages (from requests>=2.0.0->requests-oauthlib>=0.7.0->google-auth-oauthlib<0.5,>=0.4.1->tb-nightly<2.2.0a0,>=2.1.0a0->tf-nightly-2.0_preview) (2.8)\n",
      "Requirement already satisfied: urllib3!=1.25.0,!=1.25.1,<1.26,>=1.21.1 in /home/mbousso/anaconda3/lib/python3.7/site-packages (from requests>=2.0.0->requests-oauthlib>=0.7.0->google-auth-oauthlib<0.5,>=0.4.1->tb-nightly<2.2.0a0,>=2.1.0a0->tf-nightly-2.0_preview) (1.24.2)\n"
     ]
    }
   ],
   "source": [
    "# Install tensorflow 2.0\n",
    "!pip install tf-nightly-2.0_preview"
   ]
  },
  {
   "cell_type": "code",
   "execution_count": 74,
   "metadata": {},
   "outputs": [],
   "source": [
    "import tensorflow as tf\n",
    "from tensorflow.keras.models import Sequential\n",
    "from tensorflow.keras.layers import Dense\n",
    "from tensorflow.keras.optimizers import SGD\n",
    "from tensorflow.python.data import Dataset\n",
    "import datetime"
   ]
  },
  {
   "cell_type": "code",
   "execution_count": 75,
   "metadata": {},
   "outputs": [],
   "source": [
    "%reload_ext tensorboard"
   ]
  },
  {
   "cell_type": "code",
   "execution_count": 76,
   "metadata": {},
   "outputs": [
    {
     "name": "stdout",
     "output_type": "stream",
     "text": [
      "2.0.0\n"
     ]
    }
   ],
   "source": [
    "print(tf.__version__)"
   ]
  },
  {
   "cell_type": "code",
   "execution_count": 77,
   "metadata": {},
   "outputs": [],
   "source": [
    "!rm -rf ./logs/"
   ]
  },
  {
   "cell_type": "markdown",
   "metadata": {},
   "source": [
    "## Create a tensorflow Dataset for the tensorflow pipeline we will build"
   ]
  },
  {
   "cell_type": "code",
   "execution_count": 78,
   "metadata": {},
   "outputs": [],
   "source": [
    "\n",
    "dataset = Dataset.from_tensor_slices((X_train_scale.loc[:,'IQ_EBIT':'IQ_PUB'].values,y_train_scale.values))\n"
   ]
  },
  {
   "cell_type": "code",
   "execution_count": 79,
   "metadata": {},
   "outputs": [],
   "source": [
    "dataset = dataset.map(lambda window1, window2: ( window1,window2))\n",
    "#for (window ,window2 )in dataset:\n",
    "#    print(window.numpy(), window2.numpy())\n",
    "dataset = dataset.shuffle(buffer_size = 10)\n",
    "#Batching the data with size 80\n",
    "dataset = dataset.batch(80).prefetch(1)\n",
    "#for x,y in dataset:\n",
    "#   print(x.numpy(),y.numpy())\n",
    "\n",
    "\n",
    "\n"
   ]
  },
  {
   "cell_type": "markdown",
   "metadata": {},
   "source": [
    "## Creation of the baseline model\n",
    "    - A one layer with one node neural net"
   ]
  },
  {
   "cell_type": "code",
   "execution_count": 104,
   "metadata": {},
   "outputs": [],
   "source": [
    "#Linear regression with Tensorflow\n",
    "l0 = Dense(1,input_shape=[9]) \n",
    "model = Sequential([l0])"
   ]
  },
  {
   "cell_type": "markdown",
   "metadata": {},
   "source": [
    "## Searching for the best learning rate for the model"
   ]
  },
  {
   "cell_type": "code",
   "execution_count": 105,
   "metadata": {},
   "outputs": [],
   "source": [
    "#Compilation of the model\n",
    "listelr = [0.0031,0.00315,0.00319, 0.00312, 0.00313]\n",
    "#listelr = [0.0001, 0.00012,0.000122,0.000125]\n",
    "dictLoss = {}\n",
    "for ls in listelr:\n",
    "    model.compile(loss=\"mae\",optimizer = SGD(lr= ls, momentum= 0.9),metrics = ['mse'])\n",
    "    history = model.fit(dataset , epochs = 20,verbose = 0)\n",
    "    dictLoss[ls]=history.history['loss']\n"
   ]
  },
  {
   "cell_type": "markdown",
   "metadata": {},
   "source": [
    "## We got 0.0031  as the best learning rate and lanuch the model with it"
   ]
  },
  {
   "cell_type": "code",
   "execution_count": 117,
   "metadata": {},
   "outputs": [],
   "source": [
    "#log_dir=\"logs/fit/\" + datetime.datetime.now().strftime(\"%Y%m%d-%H%M%S\")\n",
    "#tensorboard_callback = tf.keras.callbacks.TensorBoard(log_dir=log_dir, histogram_freq=1)\n",
    "\n",
    "model.compile(loss=\"mae\",optimizer = SGD(lr= 0.0031, momentum= 0.9),metrics = ['mse']) # callbacks = [tensorboard_callback])\n",
    "history = model.fit(dataset , epochs = 20,verbose = 0)"
   ]
  },
  {
   "cell_type": "code",
   "execution_count": 118,
   "metadata": {},
   "outputs": [
    {
     "name": "stdout",
     "output_type": "stream",
     "text": [
      "Model: \"sequential_2\"\n",
      "_________________________________________________________________\n",
      "Layer (type)                 Output Shape              Param #   \n",
      "=================================================================\n",
      "dense_2 (Dense)              (None, 1)                 10        \n",
      "=================================================================\n",
      "Total params: 10\n",
      "Trainable params: 10\n",
      "Non-trainable params: 0\n",
      "_________________________________________________________________\n"
     ]
    }
   ],
   "source": [
    "model.summary()"
   ]
  },
  {
   "cell_type": "code",
   "execution_count": 119,
   "metadata": {},
   "outputs": [],
   "source": [
    "#import pkg_resources\n",
    "\n",
    "#for entry_point in pkg_resources.iter_entry_points('tensorboard_plugins'):\n",
    "#   print(entry_point.dist)"
   ]
  },
  {
   "cell_type": "code",
   "execution_count": 121,
   "metadata": {},
   "outputs": [],
   "source": [
    "#!pip install tb-nightly"
   ]
  },
  {
   "cell_type": "code",
   "execution_count": 115,
   "metadata": {},
   "outputs": [],
   "source": [
    "#%tensorboard --logdir logs/fit"
   ]
  },
  {
   "cell_type": "code",
   "execution_count": 102,
   "metadata": {},
   "outputs": [],
   "source": [
    "## Calculate the weights of the features and the bias"
   ]
  },
  {
   "cell_type": "code",
   "execution_count": 114,
   "metadata": {},
   "outputs": [
    {
     "name": "stdout",
     "output_type": "stream",
     "text": [
      "layer weight {} [array([[-0.20248996],\n",
      "       [ 0.0105119 ],\n",
      "       [ 0.21698426],\n",
      "       [ 0.94576484],\n",
      "       [ 0.01067984],\n",
      "       [-0.00971705],\n",
      "       [-0.00296278],\n",
      "       [-0.08933883],\n",
      "       [-0.09186403]], dtype=float32), array([0.08485112], dtype=float32)]\n"
     ]
    }
   ],
   "source": [
    "print(\"layer weight {}\", format(l0.get_weights()))"
   ]
  },
  {
   "cell_type": "markdown",
   "metadata": {},
   "source": [
    "## Forecast and rescaling of the data"
   ]
  },
  {
   "cell_type": "code",
   "execution_count": null,
   "metadata": {},
   "outputs": [],
   "source": [
    "# Invert transform the forecast and test values\n",
    "forecast = model.predict(X_test_scale.loc[:,'IQ_EBIT':'IQ_PUB'].values)  #.flatten()\n",
    "forecast = scaler_y.inverse_transform(forecast)\n",
    "y_test_invert = scaler_y.inverse_transform(y_test_scale.values).flatten()\n",
    "#print(history.history.keys())"
   ]
  },
  {
   "cell_type": "code",
   "execution_count": null,
   "metadata": {},
   "outputs": [],
   "source": [
    "\n",
    "forecast = forecast.flatten()\n",
    "\n",
    "\n",
    "print(forecast)\n",
    "print(y_test_invert)"
   ]
  },
  {
   "cell_type": "markdown",
   "metadata": {},
   "source": [
    "## Plot of the forecast and the true revenue using a window T"
   ]
  },
  {
   "cell_type": "code",
   "execution_count": null,
   "metadata": {},
   "outputs": [],
   "source": [
    "T = round(len(forecast)/10)\n",
    "x = [i for i in range(T)]\n",
    "sns.set_context(\"notebook\")\n",
    "sns.set_style(\"darkgrid\")\n",
    "plt.figure(figsize=(15,10))\n",
    "sns.lineplot(x,forecast[0:T])\n",
    "sns.lineplot(x,y_test_invert[0:T].flatten())"
   ]
  },
  {
   "cell_type": "markdown",
   "metadata": {},
   "source": [
    "## Plot of all forecast and true revenue data"
   ]
  },
  {
   "cell_type": "code",
   "execution_count": null,
   "metadata": {},
   "outputs": [],
   "source": [
    "#T = round(len(forecast)/3)\n",
    "x = [i for i in range(len(forecast))]\n",
    "sns.set_context(\"notebook\")\n",
    "sns.set_style(\"darkgrid\")\n",
    "plt.figure(figsize=(10,10))\n",
    "sns.lineplot(x,forecast)\n",
    "sns.lineplot(x,y_test_invert)"
   ]
  },
  {
   "cell_type": "markdown",
   "metadata": {},
   "source": [
    "## Calculate the metrics for evalautaion of the model"
   ]
  },
  {
   "cell_type": "code",
   "execution_count": null,
   "metadata": {},
   "outputs": [],
   "source": [
    "train_mae = model.evaluate(X_train_scale.loc[:,\"IQ_EBIT\":\"IQ_PUB\"].values,y_train_scale.values,verbose = 0)"
   ]
  },
  {
   "cell_type": "code",
   "execution_count": null,
   "metadata": {},
   "outputs": [],
   "source": [
    "test_mae = model.evaluate(X_test_scale.loc[:,\"IQ_EBIT\":\"IQ_PUB\"].values,y_test_scale.values,verbose = 0)"
   ]
  },
  {
   "cell_type": "code",
   "execution_count": null,
   "metadata": {},
   "outputs": [],
   "source": [
    "print(\"training MAE\", train_mae)\n",
    "print(\"testing MAE\", test_mae)"
   ]
  },
  {
   "cell_type": "markdown",
   "metadata": {},
   "source": [
    "## Evaluate the performance of the training model by plotting the loss curve"
   ]
  },
  {
   "cell_type": "code",
   "execution_count": null,
   "metadata": {},
   "outputs": [],
   "source": [
    "from matplotlib import pyplot\n",
    "#Plot the loss during Training and Test\n",
    "pyplot.title(\"Training  performances\")\n",
    "pyplot.plot(history.history['loss'], label =\"Training\")\n",
    "#pyplot.plot(history.history['val_loss'], label =\"Testing\")\n",
    "pyplot.legend()\n",
    "pyplot.show()"
   ]
  },
  {
   "cell_type": "markdown",
   "metadata": {},
   "source": [
    "## Calculate three metrics on the non scaled data:\n",
    "    - The Mean Absolute Error\n",
    "    - The Mean Absolute Percentage Error\n",
    "    - The Mean Squared Error\n",
    "    - The r2 score"
   ]
  },
  {
   "cell_type": "code",
   "execution_count": null,
   "metadata": {},
   "outputs": [],
   "source": [
    "tf.keras.metrics.mean_absolute_error(forecast,y_test_invert).numpy()"
   ]
  },
  {
   "cell_type": "code",
   "execution_count": null,
   "metadata": {},
   "outputs": [],
   "source": [
    "tf.keras.metrics.mean_absolute_percentage_error(forecast,y_test_invert).numpy()"
   ]
  },
  {
   "cell_type": "code",
   "execution_count": null,
   "metadata": {},
   "outputs": [],
   "source": [
    "tf.keras.losses.mse(forecast,y_test_invert).numpy()"
   ]
  },
  {
   "cell_type": "code",
   "execution_count": null,
   "metadata": {},
   "outputs": [],
   "source": [
    "from sklearn.metrics import r2_score\n",
    "print(r2_score(forecast,y_test_invert))"
   ]
  },
  {
   "cell_type": "markdown",
   "metadata": {},
   "source": [
    "## Two Utility functions that help building the errors between the forecast and real revenus"
   ]
  },
  {
   "cell_type": "code",
   "execution_count": null,
   "metadata": {},
   "outputs": [],
   "source": [
    "def df_forecast(df,features_to_drop,features_to_add1,features_to_add2,df_to_add1, df_to_add2):\n",
    "    df.drop(features_to_drop,axis = 1, inplace = True)\n",
    "    df[features_to_add1] = df_to_add1\n",
    "    df[features_to_add2] = df_to_add2\n",
    "    return df\n"
   ]
  },
  {
   "cell_type": "code",
   "execution_count": null,
   "metadata": {},
   "outputs": [],
   "source": [
    "def error_data(df,errors,true_values,forecast):\n",
    "    df[errors] = np.abs(np.abs(df.loc[:,true_values]) - np.abs(df.loc[:,forecast]))\n",
    "    return df\n"
   ]
  },
  {
   "cell_type": "markdown",
   "metadata": {},
   "source": [
    "## Build a new Dataframe that contains:\n",
    "    - The companies column\n",
    "    - The year column\n",
    "    - Two columns indicating if the company is public or private\n",
    "    - The true revenue\n",
    "    - The forecast revenue\n",
    "    - The absulte error between the absolute values of the forecast and the true revenus"
   ]
  },
  {
   "cell_type": "code",
   "execution_count": null,
   "metadata": {},
   "outputs": [],
   "source": [
    "df_X_test_copy = X_test_scale.copy(deep = True)"
   ]
  },
  {
   "cell_type": "code",
   "execution_count": null,
   "metadata": {},
   "outputs": [],
   "source": [
    "df_X_test_copy = df_forecast(df_X_test_copy,features + features_bal,'IQ_TOTAL_REV_NEXT','FORECAST',y_test_invert, forecast)"
   ]
  },
  {
   "cell_type": "code",
   "execution_count": null,
   "metadata": {},
   "outputs": [],
   "source": [
    "df_X_test_copy = error_data(df_X_test_copy,'ERRORS','IQ_TOTAL_REV_NEXT','FORECAST')"
   ]
  },
  {
   "cell_type": "code",
   "execution_count": null,
   "metadata": {},
   "outputs": [],
   "source": [
    "df_X_test_copy.head()"
   ]
  },
  {
   "cell_type": "code",
   "execution_count": null,
   "metadata": {},
   "outputs": [],
   "source": [
    "df_X_test_copy.describe()"
   ]
  },
  {
   "cell_type": "markdown",
   "metadata": {},
   "source": [
    "## The Errors distribution and the plot of the forecast and true revenue in a limited range of data"
   ]
  },
  {
   "cell_type": "code",
   "execution_count": null,
   "metadata": {},
   "outputs": [],
   "source": [
    "plt.figure(figsize=(10,5))\n",
    "sns.distplot(df_X_test_copy['ERRORS'])"
   ]
  },
  {
   "cell_type": "code",
   "execution_count": null,
   "metadata": {},
   "outputs": [],
   "source": [
    "plt.figure(figsize=(10,5))\n",
    "#idx = df_X_test_copy.index.get_loc(42)\n",
    "sns.lineplot(x = range(20,100), y = 'FORECAST', data = df_X_test_copy[20:100],label ='FORECAST')\n",
    "sns.lineplot(x = range(20,100), y = 'IQ_TOTAL_REV_NEXT', data = df_X_test_copy[20:100],label =' TRUE REVENUS')"
   ]
  },
  {
   "cell_type": "code",
   "execution_count": null,
   "metadata": {},
   "outputs": [],
   "source": [
    "# Strong correlation between the revenue and the forecast\n",
    "sns.regplot(x = 'IQ_TOTAL_REV_NEXT', y = 'FORECAST', data = df_X_test_copy)"
   ]
  },
  {
   "cell_type": "code",
   "execution_count": null,
   "metadata": {},
   "outputs": [],
   "source": [
    "# Let's add new layers so to have a DNN model with three layers"
   ]
  },
  {
   "cell_type": "code",
   "execution_count": null,
   "metadata": {},
   "outputs": [],
   "source": [
    "dnn_model = tf.keras.models.Sequential([\n",
    "    tf.keras.layers.Dense(30, input_shape=[9], activation = 'relu'),\n",
    "    \n",
    "    tf.keras.layers.Dense(10, activation = 'relu'),\n",
    "    \n",
    "    tf.keras.layers.Dense(10, activation = 'relu'),\n",
    "    \n",
    "    tf.keras.layers.Dense(1)\n",
    "    \n",
    "])"
   ]
  },
  {
   "cell_type": "code",
   "execution_count": null,
   "metadata": {},
   "outputs": [],
   "source": [
    "#Compilation of the \n",
    "lr_schedule = tf.keras.callbacks.LearningRateScheduler(lambda epoch: 1e-3 * 10 ** (epoch / 30))\n",
    "optimizer = SGD(lr=1e-3,momentum = 0.9)\n",
    "dnn_model.compile(loss=\"mae\",optimizer = optimizer)\n",
    "history = dnn_model.fit(dataset,epochs = 16, callbacks = [lr_schedule])\n"
   ]
  },
  {
   "cell_type": "code",
   "execution_count": null,
   "metadata": {},
   "outputs": [],
   "source": [
    "lrs = 1e-6*(10**(np.arange(16)/16))\n",
    "plt.semilogx(lrs,history.history[\"loss\"])\n",
    "plt.axis([1e-6,1,0,200])"
   ]
  },
  {
   "cell_type": "code",
   "execution_count": null,
   "metadata": {},
   "outputs": [],
   "source": [
    "#Compilation of the model\n",
    "dnn_model.compile(loss=\"mae\",optimizer = SGD(lr=0.00001,momentum = 0.9))\n",
    "history = dnn_model.fit(dataset,epochs = 30)"
   ]
  },
  {
   "cell_type": "code",
   "execution_count": null,
   "metadata": {},
   "outputs": [],
   "source": [
    "#print(\"layer weight {}\", format(dnn_model.get_weights()))\n",
    "loss = history.history['loss']\n",
    "epochs = range(len(loss))\n",
    "sns.lineplot(epochs, loss,label = 'Training Loss')"
   ]
  },
  {
   "cell_type": "code",
   "execution_count": null,
   "metadata": {},
   "outputs": [],
   "source": [
    "loss = history.history['loss']\n",
    "epochs =[i for i in range(30)]\n",
    "sns.lineplot(epochs, loss[0:200],label = 'Training Loss')"
   ]
  },
  {
   "cell_type": "code",
   "execution_count": null,
   "metadata": {},
   "outputs": [],
   "source": [
    "forecast = dnn_model.predict(X_test_scale.loc[:,'IQ_EBIT':'IQ_PUB'].values)\n",
    "forecast = scaler_y.inverse_transform(forecast)\n",
    "forecast  = forecast.flatten()"
   ]
  },
  {
   "cell_type": "code",
   "execution_count": null,
   "metadata": {},
   "outputs": [],
   "source": [
    "T = round(len(forecast)/3)\n",
    "x = [i for i in range(T)]\n",
    "sns.set_context(\"notebook\")\n",
    "sns.set_style(\"darkgrid\")\n",
    "plt.figure(figsize=(20,10))\n",
    "sns.lineplot(x,forecast[0:T])\n",
    "sns.lineplot(x,y_test_invert[0:T])"
   ]
  },
  {
   "cell_type": "code",
   "execution_count": null,
   "metadata": {},
   "outputs": [],
   "source": [
    "x = [i for i in range(len(forecast))]\n",
    "sns.set_context(\"notebook\")\n",
    "sns.set_style(\"darkgrid\")\n",
    "plt.figure(figsize=(20,10))\n",
    "sns.lineplot(x,forecast)\n",
    "sns.lineplot(x,y_test_invert)"
   ]
  },
  {
   "cell_type": "code",
   "execution_count": null,
   "metadata": {},
   "outputs": [],
   "source": [
    "tf.keras.metrics.mean_absolute_error(forecast,y_test_invert).numpy()"
   ]
  },
  {
   "cell_type": "code",
   "execution_count": null,
   "metadata": {},
   "outputs": [],
   "source": [
    "tf.keras.metrics.mean_absolute_percentage_error(forecast,y_test_invert).numpy()"
   ]
  },
  {
   "cell_type": "code",
   "execution_count": null,
   "metadata": {},
   "outputs": [],
   "source": [
    "mse = tf.keras.losses.mse(forecast,y_test_invert).numpy()\n",
    "mse"
   ]
  },
  {
   "cell_type": "code",
   "execution_count": null,
   "metadata": {},
   "outputs": [],
   "source": [
    "RMSE  = np.sqrt(mse)\n",
    "RMSE"
   ]
  },
  {
   "cell_type": "code",
   "execution_count": null,
   "metadata": {},
   "outputs": [],
   "source": [
    "def forecast_company(df,df1,company_id,year,quarter):\n",
    "    idx =  df.loc[(df['company']== company_id)&(df['year']== year)&(df['quarter']== quarter)].index.tolist()[0]\n",
    "    print(idx)\n",
    "    return df1[idx],df1.index.get_loc(idx)\n",
    "    "
   ]
  },
  {
   "cell_type": "code",
   "execution_count": null,
   "metadata": {},
   "outputs": [],
   "source": [
    "X_test_scale.head()"
   ]
  },
  {
   "cell_type": "code",
   "execution_count": null,
   "metadata": {},
   "outputs": [],
   "source": [
    "df_X_test_copy = X_test_scale.copy(deep = True)"
   ]
  },
  {
   "cell_type": "code",
   "execution_count": null,
   "metadata": {},
   "outputs": [],
   "source": [
    "df_X_test_copy = df_forecast(df_X_test_copy,features + features_bal,'IQ_TOTAL_REV_NEXT','FORECAST',y_test_invert, forecast)"
   ]
  },
  {
   "cell_type": "code",
   "execution_count": null,
   "metadata": {},
   "outputs": [],
   "source": [
    "df_X_test_copy = error_data(df_X_test_copy, 'ERRORS','IQ_TOTAL_REV_NEXT','FORECAST')"
   ]
  },
  {
   "cell_type": "code",
   "execution_count": null,
   "metadata": {},
   "outputs": [],
   "source": [
    "df_X_test_copy.head()"
   ]
  },
  {
   "cell_type": "code",
   "execution_count": null,
   "metadata": {},
   "outputs": [],
   "source": [
    "plt.figure(figsize=(10,10))\n",
    "#idx = df_X_test_copy.index.get_loc(42)\n",
    "sns.lineplot(x = range(20,100), y = 'FORECAST', data = df_X_test_copy[20:100],label ='FORECAST')\n",
    "sns.lineplot(x = range(20,100), y = 'IQ_TOTAL_REV_NEXT', data = df_X_test_copy[20:100],label =' TRUE REVENUS')"
   ]
  },
  {
   "cell_type": "code",
   "execution_count": null,
   "metadata": {},
   "outputs": [],
   "source": [
    "# Strong correlation between the revenue and the forecast\n",
    "sns.regplot(x = 'IQ_TOTAL_REV_NEXT', y = 'FORECAST', data = df_X_test_copy)"
   ]
  },
  {
   "cell_type": "code",
   "execution_count": null,
   "metadata": {},
   "outputs": [],
   "source": [
    "sns.distplot(df_X_test_copy['ERRORS'])"
   ]
  },
  {
   "cell_type": "code",
   "execution_count": null,
   "metadata": {},
   "outputs": [],
   "source": [
    "#Compilation of the \n",
    "lr_schedule = tf.keras.callbacks.LearningRateScheduler(lambda epoch: 1e-3 * 10 ** (epoch / 30))\n",
    "optimizer = SGD(lr=1e-3,momentum = 0.9)\n",
    "dnn_model.compile(loss=tf.keras.losses.Huber(),optimizer = optimizer)\n",
    "history = dnn_model.fit(dataset,epochs = 30, callbacks = [lr_schedule])\n"
   ]
  },
  {
   "cell_type": "code",
   "execution_count": null,
   "metadata": {},
   "outputs": [],
   "source": []
  },
  {
   "cell_type": "code",
   "execution_count": null,
   "metadata": {},
   "outputs": [],
   "source": [
    "lrs = 1e-3*(10**(np.arange(30)/30))\n",
    "plt.semilogx(lrs,history.history[\"loss\"])\n",
    "plt.axis([1e-3,1,0,5])"
   ]
  },
  {
   "cell_type": "code",
   "execution_count": null,
   "metadata": {},
   "outputs": [],
   "source": [
    "#Compilation of the model\n",
    "dnn_model.compile(loss=tf.keras.losses.Huber(),optimizer = SGD(lr=0.001,momentum = 0.9))\n",
    "history = dnn_model.fit(dataset,epochs = 3)"
   ]
  },
  {
   "cell_type": "code",
   "execution_count": null,
   "metadata": {},
   "outputs": [],
   "source": [
    "#print(\"layer weight {}\", format(dnn_model.get_weights()))\n",
    "loss = history.history['loss']\n",
    "epochs = range(len(loss))\n",
    "sns.lineplot(epochs, loss,label = 'Training Loss')"
   ]
  },
  {
   "cell_type": "code",
   "execution_count": null,
   "metadata": {},
   "outputs": [],
   "source": [
    "forecast_huber = dnn_model.predict(X_test_scale.loc[:,'IQ_EBIT':'IQ_PUB'].values).flatten()\n",
    "forecast_huber = scaler_y.inverse_transform(forecast_huber)"
   ]
  },
  {
   "cell_type": "code",
   "execution_count": null,
   "metadata": {},
   "outputs": [],
   "source": [
    "T = round(len(forecast)/3)\n",
    "x = [i for i in range(T)]\n",
    "sns.set_context(\"notebook\")\n",
    "sns.set_style(\"darkgrid\")\n",
    "plt.figure(figsize=(20,10))\n",
    "sns.lineplot(x,forecast_huber[0:T])\n",
    "sns.lineplot(x,y_test_invert[0:T])"
   ]
  },
  {
   "cell_type": "code",
   "execution_count": null,
   "metadata": {},
   "outputs": [],
   "source": [
    "df_X_test_copy = X_test_scale.copy(deep = True)"
   ]
  },
  {
   "cell_type": "code",
   "execution_count": null,
   "metadata": {},
   "outputs": [],
   "source": [
    "df_X_test_copy = df_forecast(df_X_test_copy,features + features_bal,'IQ_TOTAL_REV_NEXT','FORECAST',y_test_invert, forecast_huber)"
   ]
  },
  {
   "cell_type": "code",
   "execution_count": null,
   "metadata": {},
   "outputs": [],
   "source": [
    "plt.figure(figsize=(10,10))\n",
    "#idx = df_X_test_copy.index.get_loc(42)\n",
    "sns.lineplot(x = range(20,100), y = 'FORECAST', data = df_X_test_copy[20:100],label ='FORECAST')\n",
    "sns.lineplot(x = range(20,100), y = 'IQ_TOTAL_REV_NEXT', data = df_X_test_copy[20:100],label =' TRUE REVENUS')"
   ]
  },
  {
   "cell_type": "code",
   "execution_count": null,
   "metadata": {},
   "outputs": [],
   "source": [
    "print(tf.keras.metrics.mean_absolute_error(forecast_huber,y_test_invert).numpy())\n",
    "print(tf.keras.metrics.mean_absolute_percentage_error(forecast_huber,y_test_invert).numpy())\n",
    "print(tf.keras.losses.mse(forecast_huber,y_test_invert).numpy())"
   ]
  },
  {
   "cell_type": "code",
   "execution_count": null,
   "metadata": {},
   "outputs": [],
   "source": [
    "df_X_test_copy"
   ]
  },
  {
   "cell_type": "code",
   "execution_count": null,
   "metadata": {},
   "outputs": [],
   "source": []
  },
  {
   "cell_type": "code",
   "execution_count": null,
   "metadata": {},
   "outputs": [],
   "source": []
  }
 ],
 "metadata": {
  "kernelspec": {
   "display_name": "Python 3",
   "language": "python",
   "name": "python3"
  },
  "language_info": {
   "codemirror_mode": {
    "name": "ipython",
    "version": 3
   },
   "file_extension": ".py",
   "mimetype": "text/x-python",
   "name": "python",
   "nbconvert_exporter": "python",
   "pygments_lexer": "ipython3",
   "version": "3.7.3"
  }
 },
 "nbformat": 4,
 "nbformat_minor": 2
}
