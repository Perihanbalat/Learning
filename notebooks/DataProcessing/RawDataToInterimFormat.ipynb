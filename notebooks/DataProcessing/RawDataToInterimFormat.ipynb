{
 "cells": [
  {
   "cell_type": "markdown",
   "metadata": {},
   "source": [
    "### Notebook to process the raw data to INTERIM format"
   ]
  },
  {
   "cell_type": "code",
   "execution_count": 3,
   "metadata": {},
   "outputs": [],
   "source": [
    "import sys\n",
    "import os\n",
    "#\n",
    "sys.path.append(os.path.abspath('../../src/data'))\n",
    "from data_process_raw import data_process_raw"
   ]
  },
  {
   "cell_type": "code",
   "execution_count": 4,
   "metadata": {
    "scrolled": true
   },
   "outputs": [
    {
     "name": "stdout",
     "output_type": "stream",
     "text": [
      "Saving dataframe: /home/reference/data_interim_test/software_public_quarterly_revised_balance_sheets_INTERIM.csv\n",
      "Saving dataframe: /home/reference/data_interim_test/software_public_quarterly_revised_income_statements_INTERIM.csv\n"
     ]
    }
   ],
   "source": [
    "# Change output folder and raw files w\n",
    "#\n",
    "out_folder = '/home/reference/data_interim_test/'\n",
    "inputs     =  ['/home/reference/data/software_public_quarterly_revised_balance_sheets.zip',\n",
    "               '/home/reference/data/software_public_quarterly_revised_income_statements.zip']\n",
    "for input_file in inputs:\n",
    "    data_process_raw(inp_file   = input_file,\\\n",
    "                     out_folder = out_folder)"
   ]
  }
 ],
 "metadata": {
  "kernelspec": {
   "display_name": "Python 3",
   "language": "python",
   "name": "python3"
  },
  "language_info": {
   "codemirror_mode": {
    "name": "ipython",
    "version": 3
   },
   "file_extension": ".py",
   "mimetype": "text/x-python",
   "name": "python",
   "nbconvert_exporter": "python",
   "pygments_lexer": "ipython3",
   "version": "3.7.3"
  }
 },
 "nbformat": 4,
 "nbformat_minor": 2
}
