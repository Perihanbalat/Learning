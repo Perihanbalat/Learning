{
 "cells": [
  {
   "cell_type": "markdown",
   "metadata": {},
   "source": [
    "# Exploring errors obtained with different modelling approaches in segments of the data\n",
    "\n",
    "## For public healthcare dataset\n",
    "\n",
    "Abbreviations used throught these notebook:\n",
    " - OLS Oridnary Least-Squares regression\n",
    " - VAR Vector Auto Regression\n",
    " - ANN Arificial Neural Network"
   ]
  },
  {
   "cell_type": "code",
   "execution_count": 1,
   "metadata": {},
   "outputs": [],
   "source": [
    "import pandas as pd\n",
    "import numpy as np\n",
    "import matplotlib.pyplot as plt\n",
    "\n",
    "from sklearn.metrics import mean_squared_error as mse\n",
    "from sklearn.metrics import mean_absolute_error as mae"
   ]
  },
  {
   "cell_type": "code",
   "execution_count": 2,
   "metadata": {},
   "outputs": [],
   "source": [
    "# Some file paths\n",
    "folder_with_results = 'model_compare'\n",
    "\n",
    "OLS_res_path = folder_with_results+'/res_OLS.csv'\n",
    "VAR_res_path = folder_with_results+'/res_VAR.csv'\n",
    "ANN_res_path = folder_with_results+'/res_ANN.csv'"
   ]
  },
  {
   "cell_type": "code",
   "execution_count": 5,
   "metadata": {},
   "outputs": [],
   "source": [
    "def plot_predict_vs_target(target,predicted,title):\n",
    "    \"\"\"Prints the actual versus predicted values\"\"\"\n",
    "    plt.figure(figsize=(5, 5))\n",
    "    plt.scatter(target,predicted, alpha=0.5)\n",
    "    \n",
    "    lims = [\n",
    "    np.min([np.min(predicted), np.min(target)]),  # min of both axes\n",
    "    np.max([np.max(predicted), np.max(target)]),  # max of both axes\n",
    "    ]\n",
    "    \n",
    "    plt.plot(lims, lims, 'k-', alpha=0.50, zorder=0)\n",
    "    #plt.xlim(lims)\n",
    "    #plt.ylim(lims)\n",
    "    \n",
    "    plt.xlabel('Target')\n",
    "    plt.ylabel('Predicted')\n",
    "    plt.title(title)\n",
    "    plt.grid()\n",
    "    plt.show()"
   ]
  },
  {
   "cell_type": "code",
   "execution_count": 6,
   "metadata": {},
   "outputs": [],
   "source": [
    "def add_to_summary(segment_summary,res,masks,loc_target,loc_res,feature_target,model):\n",
    "    for idx,mask in enumerate(masks):\n",
    "        segment     = idx+1\n",
    "        #\n",
    "        target_mean = np.mean(res[mask])\n",
    "        target_std  = np.std(res[mask])\n",
    "        #\n",
    "        MAE = mae(res[mask].iloc[:,loc_target],res[mask].iloc[:,loc_res]) \n",
    "        MSE = mse(res[mask].iloc[:,loc_target],res[mask].iloc[:,loc_res])\n",
    "        #\n",
    "        q25 = res[mask][feature_target].quantile(0.25)\n",
    "        q50 = res[mask][feature_target].quantile(0.50)\n",
    "        q75 = res[mask][feature_target].quantile(0.75)\n",
    "        #\n",
    "        q25_mask = res[mask][feature_target] < q25\n",
    "        q50_mask = (res[mask][feature_target] >= q25) & (res[mask][feature_target] < q50)\n",
    "        q75_mask = res[mask][feature_target] < q75\n",
    "        #\n",
    "        res_25 = res[mask][q25_mask]\n",
    "        res_50 = res[mask][q50_mask]\n",
    "        res_75 = res[mask][q75_mask]\n",
    "        #\n",
    "        MAE_25 = mae(res_25.iloc[:,loc_target],res_25.iloc[:,loc_res])\n",
    "        MAE_50 = mae(res_50.iloc[:,loc_target],res_50.iloc[:,loc_res])\n",
    "        MAE_75 = mae(res_75.iloc[:,loc_target],res_75.iloc[:,loc_res]) \n",
    "        row = pd.Series([model,segment,target_mean[1],target_std[1],MAE,MSE,MAE_25,MAE_50,MAE_75],index=columns)\n",
    "        segment_summary = segment_summary.append(row,ignore_index=True)\n",
    "    return segment_summary   "
   ]
  },
  {
   "cell_type": "markdown",
   "metadata": {},
   "source": [
    "### Segmenting OLS predictions\n",
    "The Ordinary least-squares regresssions results will be inspected."
   ]
  },
  {
   "cell_type": "code",
   "execution_count": 7,
   "metadata": {},
   "outputs": [],
   "source": [
    "res_OLS = pd.read_csv(OLS_res_path)"
   ]
  },
  {
   "cell_type": "code",
   "execution_count": 8,
   "metadata": {},
   "outputs": [
    {
     "name": "stdout",
     "output_type": "stream",
     "text": [
      "Entire set of predictions:\n"
     ]
    },
    {
     "data": {
      "image/png": "[encoded data removed]",
      "text/plain": [
       "<Figure size 360x360 with 1 Axes>"
      ]
     },
     "metadata": {
      "needs_background": "light"
     },
     "output_type": "display_data"
    },
    {
     "data": {
      "text/html": [
       "<div>\n",
       "<style scoped>\n",
       "    .dataframe tbody tr th:only-of-type {\n",
       "        vertical-align: middle;\n",
       "    }\n",
       "\n",
       "    .dataframe tbody tr th {\n",
       "        vertical-align: top;\n",
       "    }\n",
       "\n",
       "    .dataframe thead th {\n",
       "        text-align: right;\n",
       "    }\n",
       "</style>\n",
       "<table border=\"1\" class=\"dataframe\">\n",
       "  <thead>\n",
       "    <tr style=\"text-align: right;\">\n",
       "      <th></th>\n",
       "      <th>IQ_TOTAL_REV_target</th>\n",
       "      <th>IQ_TOTAL_REV_OLS</th>\n",
       "    </tr>\n",
       "  </thead>\n",
       "  <tbody>\n",
       "    <tr>\n",
       "      <th>count</th>\n",
       "      <td>421.000000</td>\n",
       "      <td>421.000000</td>\n",
       "    </tr>\n",
       "    <tr>\n",
       "      <th>mean</th>\n",
       "      <td>238.191060</td>\n",
       "      <td>241.858747</td>\n",
       "    </tr>\n",
       "    <tr>\n",
       "      <th>std</th>\n",
       "      <td>1058.882502</td>\n",
       "      <td>1067.334558</td>\n",
       "    </tr>\n",
       "    <tr>\n",
       "      <th>min</th>\n",
       "      <td>-0.170399</td>\n",
       "      <td>3.292668</td>\n",
       "    </tr>\n",
       "    <tr>\n",
       "      <th>25%</th>\n",
       "      <td>1.245157</td>\n",
       "      <td>4.648973</td>\n",
       "    </tr>\n",
       "    <tr>\n",
       "      <th>50%</th>\n",
       "      <td>6.283508</td>\n",
       "      <td>9.968627</td>\n",
       "    </tr>\n",
       "    <tr>\n",
       "      <th>75%</th>\n",
       "      <td>55.955925</td>\n",
       "      <td>55.983880</td>\n",
       "    </tr>\n",
       "    <tr>\n",
       "      <th>max</th>\n",
       "      <td>11949.044000</td>\n",
       "      <td>12133.755023</td>\n",
       "    </tr>\n",
       "  </tbody>\n",
       "</table>\n",
       "</div>"
      ],
      "text/plain": [
       "       IQ_TOTAL_REV_target  IQ_TOTAL_REV_OLS\n",
       "count           421.000000        421.000000\n",
       "mean            238.191060        241.858747\n",
       "std            1058.882502       1067.334558\n",
       "min              -0.170399          3.292668\n",
       "25%               1.245157          4.648973\n",
       "50%               6.283508          9.968627\n",
       "75%              55.955925         55.983880\n",
       "max           11949.044000      12133.755023"
      ]
     },
     "execution_count": 8,
     "metadata": {},
     "output_type": "execute_result"
    }
   ],
   "source": [
    "print(\"Entire set of predictions:\")\n",
    "\n",
    "x1 = res_OLS['IQ_TOTAL_REV_target']\n",
    "x2 = res_OLS['IQ_TOTAL_REV_OLS']\n",
    "title ='OLS prediction versus target'\n",
    "plot_predict_vs_target(x1,x2,title)\n",
    "\n",
    "\n",
    "res_OLS.describe()"
   ]
  },
  {
   "cell_type": "code",
   "execution_count": 9,
   "metadata": {},
   "outputs": [],
   "source": [
    "mask1 = res_OLS['IQ_TOTAL_REV_target'] < 5\n",
    "mask2 = (res_OLS['IQ_TOTAL_REV_target'] >= 5 ) & (res_OLS['IQ_TOTAL_REV_target'] < 10 )\n",
    "mask3 = (res_OLS['IQ_TOTAL_REV_target'] >= 10 ) & (res_OLS['IQ_TOTAL_REV_target'] < 100 )\n",
    "mask4 = (res_OLS['IQ_TOTAL_REV_target'] >= 100)"
   ]
  },
  {
   "cell_type": "markdown",
   "metadata": {},
   "source": [
    "### Segment 1:  Revenue  < 5 "
   ]
  },
  {
   "cell_type": "code",
   "execution_count": 10,
   "metadata": {},
   "outputs": [
    {
     "data": {
      "image/png": "[encoded data removed]",
      "text/plain": [
       "<Figure size 360x360 with 1 Axes>"
      ]
     },
     "metadata": {
      "needs_background": "light"
     },
     "output_type": "display_data"
    },
    {
     "data": {
      "text/html": [
       "<div>\n",
       "<style scoped>\n",
       "    .dataframe tbody tr th:only-of-type {\n",
       "        vertical-align: middle;\n",
       "    }\n",
       "\n",
       "    .dataframe tbody tr th {\n",
       "        vertical-align: top;\n",
       "    }\n",
       "\n",
       "    .dataframe thead th {\n",
       "        text-align: right;\n",
       "    }\n",
       "</style>\n",
       "<table border=\"1\" class=\"dataframe\">\n",
       "  <thead>\n",
       "    <tr style=\"text-align: right;\">\n",
       "      <th></th>\n",
       "      <th>IQ_TOTAL_REV_target</th>\n",
       "      <th>IQ_TOTAL_REV_OLS</th>\n",
       "    </tr>\n",
       "  </thead>\n",
       "  <tbody>\n",
       "    <tr>\n",
       "      <th>count</th>\n",
       "      <td>197.000000</td>\n",
       "      <td>197.000000</td>\n",
       "    </tr>\n",
       "    <tr>\n",
       "      <th>mean</th>\n",
       "      <td>1.514263</td>\n",
       "      <td>5.059745</td>\n",
       "    </tr>\n",
       "    <tr>\n",
       "      <th>std</th>\n",
       "      <td>1.289439</td>\n",
       "      <td>2.030540</td>\n",
       "    </tr>\n",
       "    <tr>\n",
       "      <th>min</th>\n",
       "      <td>-0.170399</td>\n",
       "      <td>3.292668</td>\n",
       "    </tr>\n",
       "    <tr>\n",
       "      <th>25%</th>\n",
       "      <td>0.482370</td>\n",
       "      <td>3.829510</td>\n",
       "    </tr>\n",
       "    <tr>\n",
       "      <th>50%</th>\n",
       "      <td>1.089387</td>\n",
       "      <td>4.531528</td>\n",
       "    </tr>\n",
       "    <tr>\n",
       "      <th>75%</th>\n",
       "      <td>2.182333</td>\n",
       "      <td>5.670351</td>\n",
       "    </tr>\n",
       "    <tr>\n",
       "      <th>max</th>\n",
       "      <td>4.978735</td>\n",
       "      <td>23.009233</td>\n",
       "    </tr>\n",
       "  </tbody>\n",
       "</table>\n",
       "</div>"
      ],
      "text/plain": [
       "       IQ_TOTAL_REV_target  IQ_TOTAL_REV_OLS\n",
       "count           197.000000        197.000000\n",
       "mean              1.514263          5.059745\n",
       "std               1.289439          2.030540\n",
       "min              -0.170399          3.292668\n",
       "25%               0.482370          3.829510\n",
       "50%               1.089387          4.531528\n",
       "75%               2.182333          5.670351\n",
       "max               4.978735         23.009233"
      ]
     },
     "execution_count": 10,
     "metadata": {},
     "output_type": "execute_result"
    }
   ],
   "source": [
    "x1 = res_OLS[mask1]['IQ_TOTAL_REV_target']\n",
    "x2 = res_OLS[mask1]['IQ_TOTAL_REV_OLS']\n",
    "title ='OLS prediction versus target'\n",
    "plot_predict_vs_target(x1,x2,title)\n",
    "\n",
    "res_OLS[mask1].describe()"
   ]
  },
  {
   "cell_type": "markdown",
   "metadata": {},
   "source": [
    "### Segment 2: 5 < Revenue  < 10"
   ]
  },
  {
   "cell_type": "code",
   "execution_count": 13,
   "metadata": {},
   "outputs": [
    {
     "data": {
      "image/png": "[encoded data removed]",
      "text/plain": [
       "<Figure size 360x360 with 1 Axes>"
      ]
     },
     "metadata": {
      "needs_background": "light"
     },
     "output_type": "display_data"
    },
    {
     "data": {
      "text/html": [
       "<div>\n",
       "<style scoped>\n",
       "    .dataframe tbody tr th:only-of-type {\n",
       "        vertical-align: middle;\n",
       "    }\n",
       "\n",
       "    .dataframe tbody tr th {\n",
       "        vertical-align: top;\n",
       "    }\n",
       "\n",
       "    .dataframe thead th {\n",
       "        text-align: right;\n",
       "    }\n",
       "</style>\n",
       "<table border=\"1\" class=\"dataframe\">\n",
       "  <thead>\n",
       "    <tr style=\"text-align: right;\">\n",
       "      <th></th>\n",
       "      <th>IQ_TOTAL_REV_target</th>\n",
       "      <th>IQ_TOTAL_REV_OLS</th>\n",
       "    </tr>\n",
       "  </thead>\n",
       "  <tbody>\n",
       "    <tr>\n",
       "      <th>count</th>\n",
       "      <td>39.000000</td>\n",
       "      <td>39.000000</td>\n",
       "    </tr>\n",
       "    <tr>\n",
       "      <th>mean</th>\n",
       "      <td>7.102534</td>\n",
       "      <td>10.567211</td>\n",
       "    </tr>\n",
       "    <tr>\n",
       "      <th>std</th>\n",
       "      <td>1.302231</td>\n",
       "      <td>1.985027</td>\n",
       "    </tr>\n",
       "    <tr>\n",
       "      <th>min</th>\n",
       "      <td>5.363500</td>\n",
       "      <td>7.193667</td>\n",
       "    </tr>\n",
       "    <tr>\n",
       "      <th>25%</th>\n",
       "      <td>5.969821</td>\n",
       "      <td>9.450881</td>\n",
       "    </tr>\n",
       "    <tr>\n",
       "      <th>50%</th>\n",
       "      <td>6.779742</td>\n",
       "      <td>10.222664</td>\n",
       "    </tr>\n",
       "    <tr>\n",
       "      <th>75%</th>\n",
       "      <td>8.022334</td>\n",
       "      <td>11.603604</td>\n",
       "    </tr>\n",
       "    <tr>\n",
       "      <th>max</th>\n",
       "      <td>9.943946</td>\n",
       "      <td>15.674583</td>\n",
       "    </tr>\n",
       "  </tbody>\n",
       "</table>\n",
       "</div>"
      ],
      "text/plain": [
       "       IQ_TOTAL_REV_target  IQ_TOTAL_REV_OLS\n",
       "count            39.000000         39.000000\n",
       "mean              7.102534         10.567211\n",
       "std               1.302231          1.985027\n",
       "min               5.363500          7.193667\n",
       "25%               5.969821          9.450881\n",
       "50%               6.779742         10.222664\n",
       "75%               8.022334         11.603604\n",
       "max               9.943946         15.674583"
      ]
     },
     "execution_count": 13,
     "metadata": {},
     "output_type": "execute_result"
    }
   ],
   "source": [
    "x1 = res_OLS[mask2]['IQ_TOTAL_REV_target']\n",
    "x2 = res_OLS[mask2]['IQ_TOTAL_REV_OLS']\n",
    "title ='OLS prediction versus target'\n",
    "plot_predict_vs_target(x1,x2,title)\n",
    "\n",
    "res_OLS[mask2].describe()"
   ]
  },
  {
   "cell_type": "markdown",
   "metadata": {},
   "source": [
    "### Segment 3:  10 < Revenue  < 100"
   ]
  },
  {
   "cell_type": "code",
   "execution_count": 14,
   "metadata": {},
   "outputs": [
    {
     "data": {
      "image/png": "[encoded data removed]",
      "text/plain": [
       "<Figure size 360x360 with 1 Axes>"
      ]
     },
     "metadata": {
      "needs_background": "light"
     },
     "output_type": "display_data"
    },
    {
     "data": {
      "text/html": [
       "<div>\n",
       "<style scoped>\n",
       "    .dataframe tbody tr th:only-of-type {\n",
       "        vertical-align: middle;\n",
       "    }\n",
       "\n",
       "    .dataframe tbody tr th {\n",
       "        vertical-align: top;\n",
       "    }\n",
       "\n",
       "    .dataframe thead th {\n",
       "        text-align: right;\n",
       "    }\n",
       "</style>\n",
       "<table border=\"1\" class=\"dataframe\">\n",
       "  <thead>\n",
       "    <tr style=\"text-align: right;\">\n",
       "      <th></th>\n",
       "      <th>IQ_TOTAL_REV_target</th>\n",
       "      <th>IQ_TOTAL_REV_OLS</th>\n",
       "    </tr>\n",
       "  </thead>\n",
       "  <tbody>\n",
       "    <tr>\n",
       "      <th>count</th>\n",
       "      <td>105.000000</td>\n",
       "      <td>105.000000</td>\n",
       "    </tr>\n",
       "    <tr>\n",
       "      <th>mean</th>\n",
       "      <td>38.321513</td>\n",
       "      <td>42.141538</td>\n",
       "    </tr>\n",
       "    <tr>\n",
       "      <th>std</th>\n",
       "      <td>25.054410</td>\n",
       "      <td>29.663497</td>\n",
       "    </tr>\n",
       "    <tr>\n",
       "      <th>min</th>\n",
       "      <td>10.188500</td>\n",
       "      <td>7.383969</td>\n",
       "    </tr>\n",
       "    <tr>\n",
       "      <th>25%</th>\n",
       "      <td>17.206806</td>\n",
       "      <td>20.410211</td>\n",
       "    </tr>\n",
       "    <tr>\n",
       "      <th>50%</th>\n",
       "      <td>30.736500</td>\n",
       "      <td>33.326678</td>\n",
       "    </tr>\n",
       "    <tr>\n",
       "      <th>75%</th>\n",
       "      <td>54.595078</td>\n",
       "      <td>54.123050</td>\n",
       "    </tr>\n",
       "    <tr>\n",
       "      <th>max</th>\n",
       "      <td>98.627070</td>\n",
       "      <td>200.375380</td>\n",
       "    </tr>\n",
       "  </tbody>\n",
       "</table>\n",
       "</div>"
      ],
      "text/plain": [
       "       IQ_TOTAL_REV_target  IQ_TOTAL_REV_OLS\n",
       "count           105.000000        105.000000\n",
       "mean             38.321513         42.141538\n",
       "std              25.054410         29.663497\n",
       "min              10.188500          7.383969\n",
       "25%              17.206806         20.410211\n",
       "50%              30.736500         33.326678\n",
       "75%              54.595078         54.123050\n",
       "max              98.627070        200.375380"
      ]
     },
     "execution_count": 14,
     "metadata": {},
     "output_type": "execute_result"
    }
   ],
   "source": [
    "x1 = res_OLS[mask3]['IQ_TOTAL_REV_target']\n",
    "x2 = res_OLS[mask3]['IQ_TOTAL_REV_OLS']\n",
    "title ='OLS prediction versus target'\n",
    "plot_predict_vs_target(x1,x2,title)\n",
    "\n",
    "res_OLS[mask3].describe()"
   ]
  },
  {
   "cell_type": "markdown",
   "metadata": {},
   "source": [
    "### Segment 4: Revenue  > 100"
   ]
  },
  {
   "cell_type": "code",
   "execution_count": 15,
   "metadata": {},
   "outputs": [
    {
     "data": {
      "image/png": "[encoded data removed]",
      "text/plain": [
       "<Figure size 360x360 with 1 Axes>"
      ]
     },
     "metadata": {
      "needs_background": "light"
     },
     "output_type": "display_data"
    },
    {
     "data": {
      "text/html": [
       "<div>\n",
       "<style scoped>\n",
       "    .dataframe tbody tr th:only-of-type {\n",
       "        vertical-align: middle;\n",
       "    }\n",
       "\n",
       "    .dataframe tbody tr th {\n",
       "        vertical-align: top;\n",
       "    }\n",
       "\n",
       "    .dataframe thead th {\n",
       "        text-align: right;\n",
       "    }\n",
       "</style>\n",
       "<table border=\"1\" class=\"dataframe\">\n",
       "  <thead>\n",
       "    <tr style=\"text-align: right;\">\n",
       "      <th></th>\n",
       "      <th>IQ_TOTAL_REV_target</th>\n",
       "      <th>IQ_TOTAL_REV_OLS</th>\n",
       "    </tr>\n",
       "  </thead>\n",
       "  <tbody>\n",
       "    <tr>\n",
       "      <th>count</th>\n",
       "      <td>80.000000</td>\n",
       "      <td>80.000000</td>\n",
       "    </tr>\n",
       "    <tr>\n",
       "      <th>mean</th>\n",
       "      <td>1195.992109</td>\n",
       "      <td>1199.859748</td>\n",
       "    </tr>\n",
       "    <tr>\n",
       "      <th>std</th>\n",
       "      <td>2193.629649</td>\n",
       "      <td>2215.110773</td>\n",
       "    </tr>\n",
       "    <tr>\n",
       "      <th>min</th>\n",
       "      <td>105.641460</td>\n",
       "      <td>75.135404</td>\n",
       "    </tr>\n",
       "    <tr>\n",
       "      <th>25%</th>\n",
       "      <td>182.778375</td>\n",
       "      <td>204.190121</td>\n",
       "    </tr>\n",
       "    <tr>\n",
       "      <th>50%</th>\n",
       "      <td>310.062750</td>\n",
       "      <td>319.535290</td>\n",
       "    </tr>\n",
       "    <tr>\n",
       "      <th>75%</th>\n",
       "      <td>721.363400</td>\n",
       "      <td>657.761712</td>\n",
       "    </tr>\n",
       "    <tr>\n",
       "      <th>max</th>\n",
       "      <td>11949.044000</td>\n",
       "      <td>12133.755023</td>\n",
       "    </tr>\n",
       "  </tbody>\n",
       "</table>\n",
       "</div>"
      ],
      "text/plain": [
       "       IQ_TOTAL_REV_target  IQ_TOTAL_REV_OLS\n",
       "count            80.000000         80.000000\n",
       "mean           1195.992109       1199.859748\n",
       "std            2193.629649       2215.110773\n",
       "min             105.641460         75.135404\n",
       "25%             182.778375        204.190121\n",
       "50%             310.062750        319.535290\n",
       "75%             721.363400        657.761712\n",
       "max           11949.044000      12133.755023"
      ]
     },
     "execution_count": 15,
     "metadata": {},
     "output_type": "execute_result"
    }
   ],
   "source": [
    "x1 = res_OLS[mask4]['IQ_TOTAL_REV_target']\n",
    "x2 = res_OLS[mask4]['IQ_TOTAL_REV_OLS']\n",
    "title ='OLS prediction versus target'\n",
    "plot_predict_vs_target(x1,x2,title)\n",
    "\n",
    "res_OLS[mask4].describe()"
   ]
  },
  {
   "cell_type": "markdown",
   "metadata": {},
   "source": [
    "The OLS model is fitted mostly to the entries with high revenue. This is expected as larger values will have stronger impact on the least-squares loss functions."
   ]
  },
  {
   "cell_type": "code",
   "execution_count": 16,
   "metadata": {},
   "outputs": [],
   "source": [
    "columns = ['Model','Segment','Target_Mean','Target_Std','MAE','MSE','MAE_25','MAE_50','MAE_75']\n",
    "segment_summary = pd.DataFrame(columns=columns)"
   ]
  },
  {
   "cell_type": "code",
   "execution_count": 20,
   "metadata": {},
   "outputs": [],
   "source": [
    "res        = res_OLS\n",
    "masks      = [mask1,mask2,mask3,mask4]\n",
    "loc_target = 2\n",
    "loc_res    = 3\n",
    "model      = 'OLS'\n",
    "columns    = ['Model','Segment','Target_Mean','Target_Std','MAE','MSE','MAE_25','MAE_50','MAE_75']\n",
    "feature_target  = 'IQ_TOTAL_REV_target'\n",
    "segment_summary = pd.DataFrame(columns=columns)\n",
    "\n",
    "segment_summary = add_to_summary(segment_summary,res,masks,loc_target,loc_res,feature_target,model)"
   ]
  },
  {
   "cell_type": "code",
   "execution_count": 21,
   "metadata": {},
   "outputs": [
    {
     "data": {
      "text/html": [
       "<div>\n",
       "<style scoped>\n",
       "    .dataframe tbody tr th:only-of-type {\n",
       "        vertical-align: middle;\n",
       "    }\n",
       "\n",
       "    .dataframe tbody tr th {\n",
       "        vertical-align: top;\n",
       "    }\n",
       "\n",
       "    .dataframe thead th {\n",
       "        text-align: right;\n",
       "    }\n",
       "</style>\n",
       "<table border=\"1\" class=\"dataframe\">\n",
       "  <thead>\n",
       "    <tr style=\"text-align: right;\">\n",
       "      <th></th>\n",
       "      <th>Model</th>\n",
       "      <th>Segment</th>\n",
       "      <th>Target_Mean</th>\n",
       "      <th>Target_Std</th>\n",
       "      <th>MAE</th>\n",
       "      <th>MSE</th>\n",
       "      <th>MAE_25</th>\n",
       "      <th>MAE_50</th>\n",
       "      <th>MAE_75</th>\n",
       "    </tr>\n",
       "  </thead>\n",
       "  <tbody>\n",
       "    <tr>\n",
       "      <th>0</th>\n",
       "      <td>OLS</td>\n",
       "      <td>1</td>\n",
       "      <td>5.059745</td>\n",
       "      <td>2.025380</td>\n",
       "      <td>3.545482</td>\n",
       "      <td>15.455050</td>\n",
       "      <td>3.606545</td>\n",
       "      <td>3.739035</td>\n",
       "      <td>3.623962</td>\n",
       "    </tr>\n",
       "    <tr>\n",
       "      <th>1</th>\n",
       "      <td>OLS</td>\n",
       "      <td>2</td>\n",
       "      <td>10.567211</td>\n",
       "      <td>1.959413</td>\n",
       "      <td>3.478314</td>\n",
       "      <td>13.956624</td>\n",
       "      <td>3.399631</td>\n",
       "      <td>3.323840</td>\n",
       "      <td>3.475098</td>\n",
       "    </tr>\n",
       "    <tr>\n",
       "      <th>2</th>\n",
       "      <td>OLS</td>\n",
       "      <td>3</td>\n",
       "      <td>42.141538</td>\n",
       "      <td>29.521905</td>\n",
       "      <td>6.026492</td>\n",
       "      <td>148.636787</td>\n",
       "      <td>3.846132</td>\n",
       "      <td>4.636195</td>\n",
       "      <td>4.488516</td>\n",
       "    </tr>\n",
       "    <tr>\n",
       "      <th>3</th>\n",
       "      <td>OLS</td>\n",
       "      <td>4</td>\n",
       "      <td>1199.859748</td>\n",
       "      <td>2201.222794</td>\n",
       "      <td>72.663423</td>\n",
       "      <td>25731.901592</td>\n",
       "      <td>22.659710</td>\n",
       "      <td>16.790111</td>\n",
       "      <td>21.964588</td>\n",
       "    </tr>\n",
       "  </tbody>\n",
       "</table>\n",
       "</div>"
      ],
      "text/plain": [
       "  Model Segment  Target_Mean   Target_Std        MAE           MSE     MAE_25  \\\n",
       "0   OLS       1     5.059745     2.025380   3.545482     15.455050   3.606545   \n",
       "1   OLS       2    10.567211     1.959413   3.478314     13.956624   3.399631   \n",
       "2   OLS       3    42.141538    29.521905   6.026492    148.636787   3.846132   \n",
       "3   OLS       4  1199.859748  2201.222794  72.663423  25731.901592  22.659710   \n",
       "\n",
       "      MAE_50     MAE_75  \n",
       "0   3.739035   3.623962  \n",
       "1   3.323840   3.475098  \n",
       "2   4.636195   4.488516  \n",
       "3  16.790111  21.964588  "
      ]
     },
     "execution_count": 21,
     "metadata": {},
     "output_type": "execute_result"
    }
   ],
   "source": [
    "segment_summary"
   ]
  },
  {
   "cell_type": "markdown",
   "metadata": {},
   "source": [
    "IQ_TOTAL_REV for healthcare pricate data (for comparison):\n",
    "count      745.000000\n",
    "mean       102.703220\n",
    "std        608.802864\n",
    "min          0.836000\n",
    "25%          9.365349\n",
    "50%         18.654000\n",
    "75%         36.879013\n",
    "max      11216.570000"
   ]
  },
  {
   "cell_type": "markdown",
   "metadata": {},
   "source": [
    "### Segmenting VAR predictions\n",
    "The VAR results will be inspected.\n"
   ]
  },
  {
   "cell_type": "code",
   "execution_count": 22,
   "metadata": {},
   "outputs": [],
   "source": [
    "res_VAR = pd.read_csv(VAR_res_path)"
   ]
  },
  {
   "cell_type": "code",
   "execution_count": 23,
   "metadata": {},
   "outputs": [
    {
     "name": "stdout",
     "output_type": "stream",
     "text": [
      "Entire set of predictions:\n"
     ]
    },
    {
     "data": {
      "image/png": "[encoded data removed]",
      "text/plain": [
       "<Figure size 360x360 with 1 Axes>"
      ]
     },
     "metadata": {
      "needs_background": "light"
     },
     "output_type": "display_data"
    },
    {
     "data": {
      "text/html": [
       "<div>\n",
       "<style scoped>\n",
       "    .dataframe tbody tr th:only-of-type {\n",
       "        vertical-align: middle;\n",
       "    }\n",
       "\n",
       "    .dataframe tbody tr th {\n",
       "        vertical-align: top;\n",
       "    }\n",
       "\n",
       "    .dataframe thead th {\n",
       "        text-align: right;\n",
       "    }\n",
       "</style>\n",
       "<table border=\"1\" class=\"dataframe\">\n",
       "  <thead>\n",
       "    <tr style=\"text-align: right;\">\n",
       "      <th></th>\n",
       "      <th>IQ_TOTAL_REV_VAR_targ</th>\n",
       "      <th>IQ_TOTAL_REV_VAR_norm</th>\n",
       "    </tr>\n",
       "  </thead>\n",
       "  <tbody>\n",
       "    <tr>\n",
       "      <th>count</th>\n",
       "      <td>147.000000</td>\n",
       "      <td>147.000000</td>\n",
       "    </tr>\n",
       "    <tr>\n",
       "      <th>mean</th>\n",
       "      <td>365.911864</td>\n",
       "      <td>342.271741</td>\n",
       "    </tr>\n",
       "    <tr>\n",
       "      <th>std</th>\n",
       "      <td>1405.828530</td>\n",
       "      <td>1330.214666</td>\n",
       "    </tr>\n",
       "    <tr>\n",
       "      <th>min</th>\n",
       "      <td>0.005083</td>\n",
       "      <td>-13.061582</td>\n",
       "    </tr>\n",
       "    <tr>\n",
       "      <th>25%</th>\n",
       "      <td>1.996186</td>\n",
       "      <td>2.024935</td>\n",
       "    </tr>\n",
       "    <tr>\n",
       "      <th>50%</th>\n",
       "      <td>8.864817</td>\n",
       "      <td>8.594043</td>\n",
       "    </tr>\n",
       "    <tr>\n",
       "      <th>75%</th>\n",
       "      <td>102.875645</td>\n",
       "      <td>100.460580</td>\n",
       "    </tr>\n",
       "    <tr>\n",
       "      <th>max</th>\n",
       "      <td>11949.044000</td>\n",
       "      <td>11381.244060</td>\n",
       "    </tr>\n",
       "  </tbody>\n",
       "</table>\n",
       "</div>"
      ],
      "text/plain": [
       "       IQ_TOTAL_REV_VAR_targ  IQ_TOTAL_REV_VAR_norm\n",
       "count             147.000000             147.000000\n",
       "mean              365.911864             342.271741\n",
       "std              1405.828530            1330.214666\n",
       "min                 0.005083             -13.061582\n",
       "25%                 1.996186               2.024935\n",
       "50%                 8.864817               8.594043\n",
       "75%               102.875645             100.460580\n",
       "max             11949.044000           11381.244060"
      ]
     },
     "execution_count": 23,
     "metadata": {},
     "output_type": "execute_result"
    }
   ],
   "source": [
    "print(\"Entire set of predictions:\")\n",
    "\n",
    "x1 = res_VAR['IQ_TOTAL_REV_VAR_targ']\n",
    "x2 = res_VAR['IQ_TOTAL_REV_VAR_norm']\n",
    "title ='OLS prediction versus target'\n",
    "plot_predict_vs_target(x1,x2,title)\n",
    "\n",
    "\n",
    "res_VAR.describe()"
   ]
  },
  {
   "cell_type": "code",
   "execution_count": 24,
   "metadata": {},
   "outputs": [],
   "source": [
    "mask1 = res_VAR['IQ_TOTAL_REV_VAR_targ'] < 5\n",
    "mask2 = (res_VAR['IQ_TOTAL_REV_VAR_targ'] >= 5 ) & (res_VAR['IQ_TOTAL_REV_VAR_targ'] < 10 )\n",
    "mask3 = (res_VAR['IQ_TOTAL_REV_VAR_targ'] >= 10 ) & (res_VAR['IQ_TOTAL_REV_VAR_targ'] < 100 )\n",
    "mask4 = (res_VAR['IQ_TOTAL_REV_VAR_targ'] >= 100)"
   ]
  },
  {
   "cell_type": "markdown",
   "metadata": {},
   "source": [
    "### Segment 1:  Revenue  < 5 "
   ]
  },
  {
   "cell_type": "code",
   "execution_count": 25,
   "metadata": {},
   "outputs": [
    {
     "data": {
      "image/png": "[encoded data removed]",
      "text/plain": [
       "<Figure size 360x360 with 1 Axes>"
      ]
     },
     "metadata": {
      "needs_background": "light"
     },
     "output_type": "display_data"
    },
    {
     "data": {
      "text/html": [
       "<div>\n",
       "<style scoped>\n",
       "    .dataframe tbody tr th:only-of-type {\n",
       "        vertical-align: middle;\n",
       "    }\n",
       "\n",
       "    .dataframe tbody tr th {\n",
       "        vertical-align: top;\n",
       "    }\n",
       "\n",
       "    .dataframe thead th {\n",
       "        text-align: right;\n",
       "    }\n",
       "</style>\n",
       "<table border=\"1\" class=\"dataframe\">\n",
       "  <thead>\n",
       "    <tr style=\"text-align: right;\">\n",
       "      <th></th>\n",
       "      <th>IQ_TOTAL_REV_VAR_targ</th>\n",
       "      <th>IQ_TOTAL_REV_VAR_norm</th>\n",
       "    </tr>\n",
       "  </thead>\n",
       "  <tbody>\n",
       "    <tr>\n",
       "      <th>count</th>\n",
       "      <td>59.000000</td>\n",
       "      <td>59.000000</td>\n",
       "    </tr>\n",
       "    <tr>\n",
       "      <th>mean</th>\n",
       "      <td>1.875536</td>\n",
       "      <td>1.705682</td>\n",
       "    </tr>\n",
       "    <tr>\n",
       "      <th>std</th>\n",
       "      <td>1.237419</td>\n",
       "      <td>3.056403</td>\n",
       "    </tr>\n",
       "    <tr>\n",
       "      <th>min</th>\n",
       "      <td>0.005083</td>\n",
       "      <td>-13.061582</td>\n",
       "    </tr>\n",
       "    <tr>\n",
       "      <th>25%</th>\n",
       "      <td>0.923235</td>\n",
       "      <td>0.536752</td>\n",
       "    </tr>\n",
       "    <tr>\n",
       "      <th>50%</th>\n",
       "      <td>1.650425</td>\n",
       "      <td>1.415190</td>\n",
       "    </tr>\n",
       "    <tr>\n",
       "      <th>75%</th>\n",
       "      <td>2.360176</td>\n",
       "      <td>3.322591</td>\n",
       "    </tr>\n",
       "    <tr>\n",
       "      <th>max</th>\n",
       "      <td>4.946654</td>\n",
       "      <td>8.788992</td>\n",
       "    </tr>\n",
       "  </tbody>\n",
       "</table>\n",
       "</div>"
      ],
      "text/plain": [
       "       IQ_TOTAL_REV_VAR_targ  IQ_TOTAL_REV_VAR_norm\n",
       "count              59.000000              59.000000\n",
       "mean                1.875536               1.705682\n",
       "std                 1.237419               3.056403\n",
       "min                 0.005083             -13.061582\n",
       "25%                 0.923235               0.536752\n",
       "50%                 1.650425               1.415190\n",
       "75%                 2.360176               3.322591\n",
       "max                 4.946654               8.788992"
      ]
     },
     "execution_count": 25,
     "metadata": {},
     "output_type": "execute_result"
    }
   ],
   "source": [
    "x1 = res_VAR[mask1]['IQ_TOTAL_REV_VAR_targ']\n",
    "x2 = res_VAR[mask1]['IQ_TOTAL_REV_VAR_norm']\n",
    "title ='VAR prediction versus target'\n",
    "plot_predict_vs_target(x1,x2,title)\n",
    "\n",
    "res_VAR[mask1].describe()"
   ]
  },
  {
   "cell_type": "code",
   "execution_count": 26,
   "metadata": {},
   "outputs": [
    {
     "data": {
      "image/png": "[encoded data removed]",
      "text/plain": [
       "<Figure size 360x360 with 1 Axes>"
      ]
     },
     "metadata": {
      "needs_background": "light"
     },
     "output_type": "display_data"
    },
    {
     "data": {
      "text/html": [
       "<div>\n",
       "<style scoped>\n",
       "    .dataframe tbody tr th:only-of-type {\n",
       "        vertical-align: middle;\n",
       "    }\n",
       "\n",
       "    .dataframe tbody tr th {\n",
       "        vertical-align: top;\n",
       "    }\n",
       "\n",
       "    .dataframe thead th {\n",
       "        text-align: right;\n",
       "    }\n",
       "</style>\n",
       "<table border=\"1\" class=\"dataframe\">\n",
       "  <thead>\n",
       "    <tr style=\"text-align: right;\">\n",
       "      <th></th>\n",
       "      <th>IQ_TOTAL_REV_VAR_targ</th>\n",
       "      <th>IQ_TOTAL_REV_VAR_norm</th>\n",
       "    </tr>\n",
       "  </thead>\n",
       "  <tbody>\n",
       "    <tr>\n",
       "      <th>count</th>\n",
       "      <td>18.000000</td>\n",
       "      <td>18.000000</td>\n",
       "    </tr>\n",
       "    <tr>\n",
       "      <th>mean</th>\n",
       "      <td>7.410321</td>\n",
       "      <td>14.719333</td>\n",
       "    </tr>\n",
       "    <tr>\n",
       "      <th>std</th>\n",
       "      <td>1.351894</td>\n",
       "      <td>23.368841</td>\n",
       "    </tr>\n",
       "    <tr>\n",
       "      <th>min</th>\n",
       "      <td>5.737980</td>\n",
       "      <td>5.026068</td>\n",
       "    </tr>\n",
       "    <tr>\n",
       "      <th>25%</th>\n",
       "      <td>6.152281</td>\n",
       "      <td>6.703203</td>\n",
       "    </tr>\n",
       "    <tr>\n",
       "      <th>50%</th>\n",
       "      <td>7.117845</td>\n",
       "      <td>8.424409</td>\n",
       "    </tr>\n",
       "    <tr>\n",
       "      <th>75%</th>\n",
       "      <td>8.514919</td>\n",
       "      <td>10.038034</td>\n",
       "    </tr>\n",
       "    <tr>\n",
       "      <th>max</th>\n",
       "      <td>9.796964</td>\n",
       "      <td>106.296506</td>\n",
       "    </tr>\n",
       "  </tbody>\n",
       "</table>\n",
       "</div>"
      ],
      "text/plain": [
       "       IQ_TOTAL_REV_VAR_targ  IQ_TOTAL_REV_VAR_norm\n",
       "count              18.000000              18.000000\n",
       "mean                7.410321              14.719333\n",
       "std                 1.351894              23.368841\n",
       "min                 5.737980               5.026068\n",
       "25%                 6.152281               6.703203\n",
       "50%                 7.117845               8.424409\n",
       "75%                 8.514919              10.038034\n",
       "max                 9.796964             106.296506"
      ]
     },
     "execution_count": 26,
     "metadata": {},
     "output_type": "execute_result"
    }
   ],
   "source": [
    "x1 = res_VAR[mask2]['IQ_TOTAL_REV_VAR_targ']\n",
    "x2 = res_VAR[mask2]['IQ_TOTAL_REV_VAR_norm']\n",
    "title ='VAR prediction versus target'\n",
    "plot_predict_vs_target(x1,x2,title)\n",
    "\n",
    "res_VAR[mask2].describe()"
   ]
  },
  {
   "cell_type": "code",
   "execution_count": 27,
   "metadata": {},
   "outputs": [
    {
     "data": {
      "image/png": "[encoded data removed]",
      "text/plain": [
       "<Figure size 360x360 with 1 Axes>"
      ]
     },
     "metadata": {
      "needs_background": "light"
     },
     "output_type": "display_data"
    },
    {
     "data": {
      "text/html": [
       "<div>\n",
       "<style scoped>\n",
       "    .dataframe tbody tr th:only-of-type {\n",
       "        vertical-align: middle;\n",
       "    }\n",
       "\n",
       "    .dataframe tbody tr th {\n",
       "        vertical-align: top;\n",
       "    }\n",
       "\n",
       "    .dataframe thead th {\n",
       "        text-align: right;\n",
       "    }\n",
       "</style>\n",
       "<table border=\"1\" class=\"dataframe\">\n",
       "  <thead>\n",
       "    <tr style=\"text-align: right;\">\n",
       "      <th></th>\n",
       "      <th>IQ_TOTAL_REV_VAR_targ</th>\n",
       "      <th>IQ_TOTAL_REV_VAR_norm</th>\n",
       "    </tr>\n",
       "  </thead>\n",
       "  <tbody>\n",
       "    <tr>\n",
       "      <th>count</th>\n",
       "      <td>38.000000</td>\n",
       "      <td>38.000000</td>\n",
       "    </tr>\n",
       "    <tr>\n",
       "      <th>mean</th>\n",
       "      <td>1375.567665</td>\n",
       "      <td>1283.429380</td>\n",
       "    </tr>\n",
       "    <tr>\n",
       "      <th>std</th>\n",
       "      <td>2526.898531</td>\n",
       "      <td>2398.636620</td>\n",
       "    </tr>\n",
       "    <tr>\n",
       "      <th>min</th>\n",
       "      <td>101.301290</td>\n",
       "      <td>75.809162</td>\n",
       "    </tr>\n",
       "    <tr>\n",
       "      <th>25%</th>\n",
       "      <td>178.689898</td>\n",
       "      <td>159.653473</td>\n",
       "    </tr>\n",
       "    <tr>\n",
       "      <th>50%</th>\n",
       "      <td>355.943070</td>\n",
       "      <td>331.672089</td>\n",
       "    </tr>\n",
       "    <tr>\n",
       "      <th>75%</th>\n",
       "      <td>736.909650</td>\n",
       "      <td>856.321939</td>\n",
       "    </tr>\n",
       "    <tr>\n",
       "      <th>max</th>\n",
       "      <td>11949.044000</td>\n",
       "      <td>11381.244060</td>\n",
       "    </tr>\n",
       "  </tbody>\n",
       "</table>\n",
       "</div>"
      ],
      "text/plain": [
       "       IQ_TOTAL_REV_VAR_targ  IQ_TOTAL_REV_VAR_norm\n",
       "count              38.000000              38.000000\n",
       "mean             1375.567665            1283.429380\n",
       "std              2526.898531            2398.636620\n",
       "min               101.301290              75.809162\n",
       "25%               178.689898             159.653473\n",
       "50%               355.943070             331.672089\n",
       "75%               736.909650             856.321939\n",
       "max             11949.044000           11381.244060"
      ]
     },
     "execution_count": 27,
     "metadata": {},
     "output_type": "execute_result"
    }
   ],
   "source": [
    "x1 = res_VAR[mask3]['IQ_TOTAL_REV_VAR_targ']\n",
    "x2 = res_VAR[mask3]['IQ_TOTAL_REV_VAR_norm']\n",
    "title ='VAR prediction versus target'\n",
    "plot_predict_vs_target(x1,x2,title)\n",
    "\n",
    "res_VAR[mask4].describe()"
   ]
  },
  {
   "cell_type": "code",
   "execution_count": 28,
   "metadata": {},
   "outputs": [],
   "source": [
    "res        = res_VAR\n",
    "masks      = [mask1,mask2,mask3,mask4]\n",
    "loc_target = 1\n",
    "loc_res    = 2\n",
    "columns = ['Model','Segment','Target_Mean','Target_Std','MAE','MSE','MAE_25','MAE_50','MAE_75']\n",
    "feature_target  = 'IQ_TOTAL_REV_VAR_targ'\n",
    "model = 'VAR'\n",
    "#segment_summary = pd.DataFrame(columns=columns)\n",
    "\n",
    "for idx,mask in enumerate(masks):\n",
    "    segment     = idx+1\n",
    "    #\n",
    "    target_mean = np.mean(res[mask])\n",
    "    target_std  = np.std(res[mask])\n",
    "    #\n",
    "    MAE = mae(res[mask].iloc[:,loc_target],res[mask].iloc[:,loc_res]) \n",
    "    MSE = mse(res[mask].iloc[:,loc_target],res[mask].iloc[:,loc_res])\n",
    "    #\n",
    "    q25 = res[mask][feature_target].quantile(0.25)\n",
    "    q50 = res[mask][feature_target].quantile(0.50)\n",
    "    q75 = res[mask][feature_target].quantile(0.75)\n",
    "    #\n",
    "    q25_mask = res[mask][feature_target] < q25\n",
    "    q50_mask = (res[mask][feature_target] >= q25) & (res[mask][feature_target] < q50)\n",
    "    q75_mask = res[mask][feature_target] < q75\n",
    "    #\n",
    "    res_25 = res[mask][q25_mask]\n",
    "    res_50 = res[mask][q50_mask]\n",
    "    res_75 = res[mask][q75_mask]\n",
    "    #\n",
    "    MAE_25 = mae(res_25.iloc[:,loc_target],res_25.iloc[:,loc_res])\n",
    "    MAE_50 = mae(res_50.iloc[:,loc_target],res_50.iloc[:,loc_res])\n",
    "    MAE_75 = mae(res_75.iloc[:,loc_target],res_75.iloc[:,loc_res]) \n",
    "    row = pd.Series([model,segment,target_mean[1],target_std[1],MAE,MSE,MAE_25,MAE_50,MAE_75],index=columns)\n",
    "    segment_summary = segment_summary.append(row,ignore_index=True)"
   ]
  },
  {
   "cell_type": "code",
   "execution_count": 29,
   "metadata": {},
   "outputs": [
    {
     "data": {
      "text/html": [
       "<div>\n",
       "<style scoped>\n",
       "    .dataframe tbody tr th:only-of-type {\n",
       "        vertical-align: middle;\n",
       "    }\n",
       "\n",
       "    .dataframe tbody tr th {\n",
       "        vertical-align: top;\n",
       "    }\n",
       "\n",
       "    .dataframe thead th {\n",
       "        text-align: right;\n",
       "    }\n",
       "</style>\n",
       "<table border=\"1\" class=\"dataframe\">\n",
       "  <thead>\n",
       "    <tr style=\"text-align: right;\">\n",
       "      <th></th>\n",
       "      <th></th>\n",
       "      <th>Target_Mean</th>\n",
       "      <th>Target_Std</th>\n",
       "      <th>MAE</th>\n",
       "      <th>MSE</th>\n",
       "      <th>MAE_25</th>\n",
       "      <th>MAE_50</th>\n",
       "      <th>MAE_75</th>\n",
       "    </tr>\n",
       "    <tr>\n",
       "      <th>Model</th>\n",
       "      <th>Segment</th>\n",
       "      <th></th>\n",
       "      <th></th>\n",
       "      <th></th>\n",
       "      <th></th>\n",
       "      <th></th>\n",
       "      <th></th>\n",
       "      <th></th>\n",
       "    </tr>\n",
       "  </thead>\n",
       "  <tbody>\n",
       "    <tr>\n",
       "      <th rowspan=\"4\" valign=\"top\">OLS</th>\n",
       "      <th>1</th>\n",
       "      <td>5.059745</td>\n",
       "      <td>2.025380</td>\n",
       "      <td>3.545482</td>\n",
       "      <td>15.455050</td>\n",
       "      <td>3.606545</td>\n",
       "      <td>3.739035</td>\n",
       "      <td>3.623962</td>\n",
       "    </tr>\n",
       "    <tr>\n",
       "      <th>2</th>\n",
       "      <td>10.567211</td>\n",
       "      <td>1.959413</td>\n",
       "      <td>3.478314</td>\n",
       "      <td>13.956624</td>\n",
       "      <td>3.399631</td>\n",
       "      <td>3.323840</td>\n",
       "      <td>3.475098</td>\n",
       "    </tr>\n",
       "    <tr>\n",
       "      <th>3</th>\n",
       "      <td>42.141538</td>\n",
       "      <td>29.521905</td>\n",
       "      <td>6.026492</td>\n",
       "      <td>148.636787</td>\n",
       "      <td>3.846132</td>\n",
       "      <td>4.636195</td>\n",
       "      <td>4.488516</td>\n",
       "    </tr>\n",
       "    <tr>\n",
       "      <th>4</th>\n",
       "      <td>1199.859748</td>\n",
       "      <td>2201.222794</td>\n",
       "      <td>72.663423</td>\n",
       "      <td>25731.901592</td>\n",
       "      <td>22.659710</td>\n",
       "      <td>16.790111</td>\n",
       "      <td>21.964588</td>\n",
       "    </tr>\n",
       "    <tr>\n",
       "      <th rowspan=\"4\" valign=\"top\">VAR</th>\n",
       "      <th>1</th>\n",
       "      <td>1.705682</td>\n",
       "      <td>3.030390</td>\n",
       "      <td>1.454688</td>\n",
       "      <td>7.295992</td>\n",
       "      <td>0.974498</td>\n",
       "      <td>2.415159</td>\n",
       "      <td>1.513237</td>\n",
       "    </tr>\n",
       "    <tr>\n",
       "      <th>2</th>\n",
       "      <td>14.719333</td>\n",
       "      <td>22.710431</td>\n",
       "      <td>7.917414</td>\n",
       "      <td>544.616668</td>\n",
       "      <td>0.873985</td>\n",
       "      <td>2.008704</td>\n",
       "      <td>3.284158</td>\n",
       "    </tr>\n",
       "    <tr>\n",
       "      <th>3</th>\n",
       "      <td>36.813944</td>\n",
       "      <td>33.242042</td>\n",
       "      <td>12.913705</td>\n",
       "      <td>459.756297</td>\n",
       "      <td>4.244235</td>\n",
       "      <td>3.093441</td>\n",
       "      <td>9.128441</td>\n",
       "    </tr>\n",
       "    <tr>\n",
       "      <th>4</th>\n",
       "      <td>1283.429380</td>\n",
       "      <td>2366.865196</td>\n",
       "      <td>177.967934</td>\n",
       "      <td>137481.348762</td>\n",
       "      <td>12.906341</td>\n",
       "      <td>110.265986</td>\n",
       "      <td>51.937763</td>\n",
       "    </tr>\n",
       "  </tbody>\n",
       "</table>\n",
       "</div>"
      ],
      "text/plain": [
       "               Target_Mean   Target_Std         MAE            MSE     MAE_25  \\\n",
       "Model Segment                                                                   \n",
       "OLS   1           5.059745     2.025380    3.545482      15.455050   3.606545   \n",
       "      2          10.567211     1.959413    3.478314      13.956624   3.399631   \n",
       "      3          42.141538    29.521905    6.026492     148.636787   3.846132   \n",
       "      4        1199.859748  2201.222794   72.663423   25731.901592  22.659710   \n",
       "VAR   1           1.705682     3.030390    1.454688       7.295992   0.974498   \n",
       "      2          14.719333    22.710431    7.917414     544.616668   0.873985   \n",
       "      3          36.813944    33.242042   12.913705     459.756297   4.244235   \n",
       "      4        1283.429380  2366.865196  177.967934  137481.348762  12.906341   \n",
       "\n",
       "                   MAE_50     MAE_75  \n",
       "Model Segment                         \n",
       "OLS   1          3.739035   3.623962  \n",
       "      2          3.323840   3.475098  \n",
       "      3          4.636195   4.488516  \n",
       "      4         16.790111  21.964588  \n",
       "VAR   1          2.415159   1.513237  \n",
       "      2          2.008704   3.284158  \n",
       "      3          3.093441   9.128441  \n",
       "      4        110.265986  51.937763  "
      ]
     },
     "execution_count": 29,
     "metadata": {},
     "output_type": "execute_result"
    }
   ],
   "source": [
    "segment_summary.set_index(['Model','Segment'])"
   ]
  }
 ],
 "metadata": {
  "kernelspec": {
   "display_name": "Python 3",
   "language": "python",
   "name": "python3"
  },
  "language_info": {
   "codemirror_mode": {
    "name": "ipython",
    "version": 3
   },
   "file_extension": ".py",
   "mimetype": "text/x-python",
   "name": "python",
   "nbconvert_exporter": "python",
   "pygments_lexer": "ipython3",
   "version": "3.7.3"
  }
 },
 "nbformat": 4,
 "nbformat_minor": 2
}
