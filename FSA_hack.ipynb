{
 "cells": [
  {
   "cell_type": "code",
   "execution_count": 1,
   "metadata": {},
   "outputs": [],
   "source": [
    "import pandas as pd\n",
    "import matplotlib.pyplot as plt\n",
    "import seaborn as sns\n",
    "from sklearn.preprocessing import LabelEncoder\n",
    "from sklearn.preprocessing import OneHotEncoder"
   ]
  },
  {
   "cell_type": "code",
   "execution_count": 2,
   "metadata": {},
   "outputs": [
    {
     "data": {
      "text/html": [
       "<div>\n",
       "<style scoped>\n",
       "    .dataframe tbody tr th:only-of-type {\n",
       "        vertical-align: middle;\n",
       "    }\n",
       "\n",
       "    .dataframe tbody tr th {\n",
       "        vertical-align: top;\n",
       "    }\n",
       "\n",
       "    .dataframe thead th {\n",
       "        text-align: right;\n",
       "    }\n",
       "</style>\n",
       "<table border=\"1\" class=\"dataframe\">\n",
       "  <thead>\n",
       "    <tr style=\"text-align: right;\">\n",
       "      <th></th>\n",
       "      <th>DescriptionOfIncident</th>\n",
       "      <th>ActionTaken</th>\n",
       "      <th>RiskToConsumers</th>\n",
       "      <th>LinkToNotice</th>\n",
       "      <th>IssuedDate</th>\n",
       "    </tr>\n",
       "  </thead>\n",
       "  <tbody>\n",
       "    <tr>\n",
       "      <th>0</th>\n",
       "      <td>Fruit chutney - undeclared mustard in product.</td>\n",
       "      <td>Recalled</td>\n",
       "      <td>Possible adverse effects to allergy sufferers.</td>\n",
       "      <td>http://www.food.gov.uk/news-updates/news/2016/...</td>\n",
       "      <td>06/01/2016</td>\n",
       "    </tr>\n",
       "    <tr>\n",
       "      <th>1</th>\n",
       "      <td>After Dinner Mints - undeclared milk in product.</td>\n",
       "      <td>Withdrawn</td>\n",
       "      <td>Possible adverse effects to allergy sufferers.</td>\n",
       "      <td>http://www.food.gov.uk/news-updates/news/2016/...</td>\n",
       "      <td>08/01/2016</td>\n",
       "    </tr>\n",
       "    <tr>\n",
       "      <th>2</th>\n",
       "      <td>Chicken breasts with spicy sauce - undeclared ...</td>\n",
       "      <td>Recalled</td>\n",
       "      <td>Possible adverse effects to allergy sufferers.</td>\n",
       "      <td>http://www.food.gov.uk/news-updates/news/2016/...</td>\n",
       "      <td>21/01/2016</td>\n",
       "    </tr>\n",
       "    <tr>\n",
       "      <th>3</th>\n",
       "      <td>Pickling spice - undeclared mustard seeds in p...</td>\n",
       "      <td>Recalled</td>\n",
       "      <td>Possible adverse effects to allergy sufferers.</td>\n",
       "      <td>http://www.food.gov.uk/news-updates/news/2016/...</td>\n",
       "      <td>28/01/2016</td>\n",
       "    </tr>\n",
       "    <tr>\n",
       "      <th>4</th>\n",
       "      <td>Bread crumbs - ingredients not listed on the p...</td>\n",
       "      <td>Withdrawn</td>\n",
       "      <td>Possible adverse effects to allergy sufferers.</td>\n",
       "      <td>http://www.food.gov.uk/news-updates/news/2016/...</td>\n",
       "      <td>04/02/2016</td>\n",
       "    </tr>\n",
       "  </tbody>\n",
       "</table>\n",
       "</div>"
      ],
      "text/plain": [
       "                               DescriptionOfIncident ActionTaken  \\\n",
       "0    Fruit chutney - undeclared mustard in product.     Recalled   \n",
       "1  After Dinner Mints - undeclared milk in product.    Withdrawn   \n",
       "2  Chicken breasts with spicy sauce - undeclared ...    Recalled   \n",
       "3  Pickling spice - undeclared mustard seeds in p...    Recalled   \n",
       "4  Bread crumbs - ingredients not listed on the p...   Withdrawn   \n",
       "\n",
       "                                  RiskToConsumers  \\\n",
       "0  Possible adverse effects to allergy sufferers.   \n",
       "1  Possible adverse effects to allergy sufferers.   \n",
       "2  Possible adverse effects to allergy sufferers.   \n",
       "3  Possible adverse effects to allergy sufferers.   \n",
       "4  Possible adverse effects to allergy sufferers.   \n",
       "\n",
       "                                        LinkToNotice  IssuedDate  \n",
       "0  http://www.food.gov.uk/news-updates/news/2016/...  06/01/2016  \n",
       "1  http://www.food.gov.uk/news-updates/news/2016/...  08/01/2016  \n",
       "2  http://www.food.gov.uk/news-updates/news/2016/...  21/01/2016  \n",
       "3  http://www.food.gov.uk/news-updates/news/2016/...  28/01/2016  \n",
       "4  http://www.food.gov.uk/news-updates/news/2016/...  04/02/2016  "
      ]
     },
     "execution_count": 2,
     "metadata": {},
     "output_type": "execute_result"
    }
   ],
   "source": [
    "allergy_alerts = pd.read_csv('Core_data-Q1_Allergies/allergy_alerts_jan_2016_to_dec_2018.csv')\n",
    "allergy_alerts.head()"
   ]
  },
  {
   "cell_type": "code",
   "execution_count": 3,
   "metadata": {},
   "outputs": [
    {
     "name": "stderr",
     "output_type": "stream",
     "text": [
      "/anaconda3/lib/python3.7/site-packages/IPython/core/interactiveshell.py:3049: DtypeWarning: Columns (91) have mixed types. Specify dtype option on import or set low_memory=False.\n",
      "  interactivity=interactivity, compiler=compiler, result=result)\n"
     ]
    },
    {
     "data": {
      "text/html": [
       "<div>\n",
       "<style scoped>\n",
       "    .dataframe tbody tr th:only-of-type {\n",
       "        vertical-align: middle;\n",
       "    }\n",
       "\n",
       "    .dataframe tbody tr th {\n",
       "        vertical-align: top;\n",
       "    }\n",
       "\n",
       "    .dataframe thead th {\n",
       "        text-align: right;\n",
       "    }\n",
       "</style>\n",
       "<table border=\"1\" class=\"dataframe\">\n",
       "  <thead>\n",
       "    <tr style=\"text-align: right;\">\n",
       "      <th></th>\n",
       "      <th>serialno</th>\n",
       "      <th>age_dv</th>\n",
       "      <th>age_dv2</th>\n",
       "      <th>RespSex</th>\n",
       "      <th>marstat2</th>\n",
       "      <th>famtype</th>\n",
       "      <th>bhhsize</th>\n",
       "      <th>bhhsize2</th>\n",
       "      <th>below16</th>\n",
       "      <th>below6</th>\n",
       "      <th>...</th>\n",
       "      <th>Label</th>\n",
       "      <th>FdAuthAct_MC1</th>\n",
       "      <th>FdAuthAct_MC2</th>\n",
       "      <th>FdAuthAct_MC3</th>\n",
       "      <th>FdAuthAct_MC4</th>\n",
       "      <th>FdAuthAct_MC5</th>\n",
       "      <th>FdAuthAct_MC6</th>\n",
       "      <th>FdAuthAct_MC7</th>\n",
       "      <th>FdAuthAct_MC8</th>\n",
       "      <th>FdAuthAct_MC9</th>\n",
       "    </tr>\n",
       "  </thead>\n",
       "  <tbody>\n",
       "    <tr>\n",
       "      <th>0</th>\n",
       "      <td>5110101</td>\n",
       "      <td>45-54</td>\n",
       "      <td>45-54</td>\n",
       "      <td>Female</td>\n",
       "      <td>Married/Civil Partnership/Living with Partner</td>\n",
       "      <td>Married, with kids</td>\n",
       "      <td>Three</td>\n",
       "      <td>Three</td>\n",
       "      <td>Yes</td>\n",
       "      <td>No</td>\n",
       "      <td>...</td>\n",
       "      <td>Always</td>\n",
       "      <td>NaN</td>\n",
       "      <td>NaN</td>\n",
       "      <td>NaN</td>\n",
       "      <td>NaN</td>\n",
       "      <td>NaN</td>\n",
       "      <td>NaN</td>\n",
       "      <td>NaN</td>\n",
       "      <td>NaN</td>\n",
       "      <td>NaN</td>\n",
       "    </tr>\n",
       "    <tr>\n",
       "      <th>1</th>\n",
       "      <td>5110102</td>\n",
       "      <td>65-74</td>\n",
       "      <td>65-74</td>\n",
       "      <td>Male</td>\n",
       "      <td>Married/Civil Partnership/Living with Partner</td>\n",
       "      <td>Married, no kids</td>\n",
       "      <td>Two</td>\n",
       "      <td>Two</td>\n",
       "      <td>No</td>\n",
       "      <td>No</td>\n",
       "      <td>...</td>\n",
       "      <td>Most of the time</td>\n",
       "      <td>Not mentioned</td>\n",
       "      <td>Not mentioned</td>\n",
       "      <td>Not mentioned</td>\n",
       "      <td>Not mentioned</td>\n",
       "      <td>Not mentioned</td>\n",
       "      <td>Not mentioned</td>\n",
       "      <td>Not mentioned</td>\n",
       "      <td>Not mentioned</td>\n",
       "      <td>Mentioned</td>\n",
       "    </tr>\n",
       "    <tr>\n",
       "      <th>2</th>\n",
       "      <td>5110104</td>\n",
       "      <td>45-54</td>\n",
       "      <td>45-54</td>\n",
       "      <td>Female</td>\n",
       "      <td>Married/Civil Partnership/Living with Partner</td>\n",
       "      <td>Married, with kids</td>\n",
       "      <td>Four</td>\n",
       "      <td>Four or more</td>\n",
       "      <td>Yes</td>\n",
       "      <td>No</td>\n",
       "      <td>...</td>\n",
       "      <td>Most of the time</td>\n",
       "      <td>Not mentioned</td>\n",
       "      <td>Not mentioned</td>\n",
       "      <td>Not mentioned</td>\n",
       "      <td>Not mentioned</td>\n",
       "      <td>Not mentioned</td>\n",
       "      <td>Not mentioned</td>\n",
       "      <td>Not mentioned</td>\n",
       "      <td>Not mentioned</td>\n",
       "      <td>Mentioned</td>\n",
       "    </tr>\n",
       "    <tr>\n",
       "      <th>3</th>\n",
       "      <td>5110105</td>\n",
       "      <td>45-54</td>\n",
       "      <td>45-54</td>\n",
       "      <td>Female</td>\n",
       "      <td>Married/Civil Partnership/Living with Partner</td>\n",
       "      <td>Married, no kids</td>\n",
       "      <td>Three</td>\n",
       "      <td>Three</td>\n",
       "      <td>No</td>\n",
       "      <td>No</td>\n",
       "      <td>...</td>\n",
       "      <td>Most of the time</td>\n",
       "      <td>Not mentioned</td>\n",
       "      <td>Not mentioned</td>\n",
       "      <td>Not mentioned</td>\n",
       "      <td>Not mentioned</td>\n",
       "      <td>Not mentioned</td>\n",
       "      <td>Not mentioned</td>\n",
       "      <td>Not mentioned</td>\n",
       "      <td>Not mentioned</td>\n",
       "      <td>Mentioned</td>\n",
       "    </tr>\n",
       "    <tr>\n",
       "      <th>4</th>\n",
       "      <td>5110106</td>\n",
       "      <td>55-64</td>\n",
       "      <td>55-64</td>\n",
       "      <td>Female</td>\n",
       "      <td>Married/Civil Partnership/Living with Partner</td>\n",
       "      <td>Married, no kids</td>\n",
       "      <td>Two</td>\n",
       "      <td>Two</td>\n",
       "      <td>No</td>\n",
       "      <td>No</td>\n",
       "      <td>...</td>\n",
       "      <td>Most of the time</td>\n",
       "      <td>Not mentioned</td>\n",
       "      <td>Not mentioned</td>\n",
       "      <td>Not mentioned</td>\n",
       "      <td>Not mentioned</td>\n",
       "      <td>Not mentioned</td>\n",
       "      <td>Not mentioned</td>\n",
       "      <td>Not mentioned</td>\n",
       "      <td>Mentioned</td>\n",
       "      <td>Not mentioned</td>\n",
       "    </tr>\n",
       "  </tbody>\n",
       "</table>\n",
       "<p>5 rows × 653 columns</p>\n",
       "</div>"
      ],
      "text/plain": [
       "   serialno age_dv age_dv2 RespSex  \\\n",
       "0   5110101  45-54   45-54  Female   \n",
       "1   5110102  65-74   65-74    Male   \n",
       "2   5110104  45-54   45-54  Female   \n",
       "3   5110105  45-54   45-54  Female   \n",
       "4   5110106  55-64   55-64  Female   \n",
       "\n",
       "                                        marstat2             famtype bhhsize  \\\n",
       "0  Married/Civil Partnership/Living with Partner  Married, with kids   Three   \n",
       "1  Married/Civil Partnership/Living with Partner    Married, no kids     Two   \n",
       "2  Married/Civil Partnership/Living with Partner  Married, with kids    Four   \n",
       "3  Married/Civil Partnership/Living with Partner    Married, no kids   Three   \n",
       "4  Married/Civil Partnership/Living with Partner    Married, no kids     Two   \n",
       "\n",
       "       bhhsize2 below16 below6  ...             Label  FdAuthAct_MC1  \\\n",
       "0         Three     Yes     No  ...            Always            NaN   \n",
       "1           Two      No     No  ...  Most of the time  Not mentioned   \n",
       "2  Four or more     Yes     No  ...  Most of the time  Not mentioned   \n",
       "3         Three      No     No  ...  Most of the time  Not mentioned   \n",
       "4           Two      No     No  ...  Most of the time  Not mentioned   \n",
       "\n",
       "   FdAuthAct_MC2  FdAuthAct_MC3  FdAuthAct_MC4  FdAuthAct_MC5  FdAuthAct_MC6  \\\n",
       "0            NaN            NaN            NaN            NaN            NaN   \n",
       "1  Not mentioned  Not mentioned  Not mentioned  Not mentioned  Not mentioned   \n",
       "2  Not mentioned  Not mentioned  Not mentioned  Not mentioned  Not mentioned   \n",
       "3  Not mentioned  Not mentioned  Not mentioned  Not mentioned  Not mentioned   \n",
       "4  Not mentioned  Not mentioned  Not mentioned  Not mentioned  Not mentioned   \n",
       "\n",
       "   FdAuthAct_MC7  FdAuthAct_MC8  FdAuthAct_MC9  \n",
       "0            NaN            NaN            NaN  \n",
       "1  Not mentioned  Not mentioned      Mentioned  \n",
       "2  Not mentioned  Not mentioned      Mentioned  \n",
       "3  Not mentioned  Not mentioned      Mentioned  \n",
       "4  Not mentioned      Mentioned  Not mentioned  \n",
       "\n",
       "[5 rows x 653 columns]"
      ]
     },
     "execution_count": 3,
     "metadata": {},
     "output_type": "execute_result"
    }
   ],
   "source": [
    "food_and_you = pd.read_csv('Core_data-Q1_Allergies/food_and_you_wave_5.csv')\n",
    "food_and_you.head()"
   ]
  },
  {
   "cell_type": "code",
   "execution_count": 4,
   "metadata": {},
   "outputs": [
    {
     "data": {
      "text/plain": [
       "Index(['serialno', 'age_dv', 'age_dv2', 'RespSex', 'marstat2', 'famtype',\n",
       "       'bhhsize', 'bhhsize2', 'below16', 'below6',\n",
       "       ...\n",
       "       'Label', 'FdAuthAct_MC1', 'FdAuthAct_MC2', 'FdAuthAct_MC3',\n",
       "       'FdAuthAct_MC4', 'FdAuthAct_MC5', 'FdAuthAct_MC6', 'FdAuthAct_MC7',\n",
       "       'FdAuthAct_MC8', 'FdAuthAct_MC9'],\n",
       "      dtype='object', length=653)"
      ]
     },
     "execution_count": 4,
     "metadata": {},
     "output_type": "execute_result"
    }
   ],
   "source": [
    "food_and_you.columns"
   ]
  },
  {
   "cell_type": "code",
   "execution_count": 5,
   "metadata": {},
   "outputs": [],
   "source": [
    "food_and_you_key = food_and_you[['AdReac','AvoidFd','reacalle','reacint','reaccoe','reacnoc','reacglu','reaclac','reaccow','reacfpi','reacoth','reacno','clinaller','clinint','age_dv','age_dv2','Q2_19','Q6_1','Q6_2_W5','ons_lifesat','ons_worthw','ons_happy','ons_anxiety']]"
   ]
  },
  {
   "cell_type": "code",
   "execution_count": 6,
   "metadata": {},
   "outputs": [
    {
     "data": {
      "text/html": [
       "<div>\n",
       "<style scoped>\n",
       "    .dataframe tbody tr th:only-of-type {\n",
       "        vertical-align: middle;\n",
       "    }\n",
       "\n",
       "    .dataframe tbody tr th {\n",
       "        vertical-align: top;\n",
       "    }\n",
       "\n",
       "    .dataframe thead th {\n",
       "        text-align: right;\n",
       "    }\n",
       "</style>\n",
       "<table border=\"1\" class=\"dataframe\">\n",
       "  <thead>\n",
       "    <tr style=\"text-align: right;\">\n",
       "      <th></th>\n",
       "      <th>AdReac</th>\n",
       "      <th>AvoidFd</th>\n",
       "      <th>reacalle</th>\n",
       "      <th>reacint</th>\n",
       "      <th>reaccoe</th>\n",
       "      <th>reacnoc</th>\n",
       "      <th>reacglu</th>\n",
       "      <th>reaclac</th>\n",
       "      <th>reaccow</th>\n",
       "      <th>reacfpi</th>\n",
       "      <th>...</th>\n",
       "      <th>clinint</th>\n",
       "      <th>age_dv</th>\n",
       "      <th>age_dv2</th>\n",
       "      <th>Q2_19</th>\n",
       "      <th>Q6_1</th>\n",
       "      <th>Q6_2_W5</th>\n",
       "      <th>ons_lifesat</th>\n",
       "      <th>ons_worthw</th>\n",
       "      <th>ons_happy</th>\n",
       "      <th>ons_anxiety</th>\n",
       "    </tr>\n",
       "  </thead>\n",
       "  <tbody>\n",
       "    <tr>\n",
       "      <th>0</th>\n",
       "      <td>No</td>\n",
       "      <td>No</td>\n",
       "      <td>NaN</td>\n",
       "      <td>NaN</td>\n",
       "      <td>NaN</td>\n",
       "      <td>NaN</td>\n",
       "      <td>NaN</td>\n",
       "      <td>NaN</td>\n",
       "      <td>NaN</td>\n",
       "      <td>NaN</td>\n",
       "      <td>...</td>\n",
       "      <td>NaN</td>\n",
       "      <td>45-54</td>\n",
       "      <td>45-54</td>\n",
       "      <td>No</td>\n",
       "      <td>Good</td>\n",
       "      <td>No</td>\n",
       "      <td>High</td>\n",
       "      <td>High</td>\n",
       "      <td>High</td>\n",
       "      <td>Low</td>\n",
       "    </tr>\n",
       "    <tr>\n",
       "      <th>1</th>\n",
       "      <td>No</td>\n",
       "      <td>No</td>\n",
       "      <td>NaN</td>\n",
       "      <td>NaN</td>\n",
       "      <td>NaN</td>\n",
       "      <td>NaN</td>\n",
       "      <td>NaN</td>\n",
       "      <td>NaN</td>\n",
       "      <td>NaN</td>\n",
       "      <td>NaN</td>\n",
       "      <td>...</td>\n",
       "      <td>NaN</td>\n",
       "      <td>65-74</td>\n",
       "      <td>65-74</td>\n",
       "      <td>No</td>\n",
       "      <td>Fair</td>\n",
       "      <td>Yes</td>\n",
       "      <td>Very High</td>\n",
       "      <td>Very High</td>\n",
       "      <td>Very High</td>\n",
       "      <td>Very low</td>\n",
       "    </tr>\n",
       "    <tr>\n",
       "      <th>2</th>\n",
       "      <td>No</td>\n",
       "      <td>No</td>\n",
       "      <td>NaN</td>\n",
       "      <td>NaN</td>\n",
       "      <td>NaN</td>\n",
       "      <td>NaN</td>\n",
       "      <td>NaN</td>\n",
       "      <td>NaN</td>\n",
       "      <td>NaN</td>\n",
       "      <td>NaN</td>\n",
       "      <td>...</td>\n",
       "      <td>NaN</td>\n",
       "      <td>45-54</td>\n",
       "      <td>45-54</td>\n",
       "      <td>No</td>\n",
       "      <td>Very good</td>\n",
       "      <td>No</td>\n",
       "      <td>Medium</td>\n",
       "      <td>Medium</td>\n",
       "      <td>Medium</td>\n",
       "      <td>Very low</td>\n",
       "    </tr>\n",
       "    <tr>\n",
       "      <th>3</th>\n",
       "      <td>No</td>\n",
       "      <td>No</td>\n",
       "      <td>NaN</td>\n",
       "      <td>NaN</td>\n",
       "      <td>NaN</td>\n",
       "      <td>NaN</td>\n",
       "      <td>NaN</td>\n",
       "      <td>NaN</td>\n",
       "      <td>NaN</td>\n",
       "      <td>NaN</td>\n",
       "      <td>...</td>\n",
       "      <td>NaN</td>\n",
       "      <td>45-54</td>\n",
       "      <td>45-54</td>\n",
       "      <td>No</td>\n",
       "      <td>Good</td>\n",
       "      <td>No</td>\n",
       "      <td>Medium</td>\n",
       "      <td>High</td>\n",
       "      <td>Low</td>\n",
       "      <td>High</td>\n",
       "    </tr>\n",
       "    <tr>\n",
       "      <th>4</th>\n",
       "      <td>No</td>\n",
       "      <td>No</td>\n",
       "      <td>NaN</td>\n",
       "      <td>NaN</td>\n",
       "      <td>NaN</td>\n",
       "      <td>NaN</td>\n",
       "      <td>NaN</td>\n",
       "      <td>NaN</td>\n",
       "      <td>NaN</td>\n",
       "      <td>NaN</td>\n",
       "      <td>...</td>\n",
       "      <td>NaN</td>\n",
       "      <td>55-64</td>\n",
       "      <td>55-64</td>\n",
       "      <td>No</td>\n",
       "      <td>Very good</td>\n",
       "      <td>No</td>\n",
       "      <td>Very High</td>\n",
       "      <td>Very High</td>\n",
       "      <td>Very High</td>\n",
       "      <td>Very low</td>\n",
       "    </tr>\n",
       "  </tbody>\n",
       "</table>\n",
       "<p>5 rows × 23 columns</p>\n",
       "</div>"
      ],
      "text/plain": [
       "  AdReac AvoidFd reacalle reacint reaccoe reacnoc reacglu reaclac reaccow  \\\n",
       "0     No      No      NaN     NaN     NaN     NaN     NaN     NaN     NaN   \n",
       "1     No      No      NaN     NaN     NaN     NaN     NaN     NaN     NaN   \n",
       "2     No      No      NaN     NaN     NaN     NaN     NaN     NaN     NaN   \n",
       "3     No      No      NaN     NaN     NaN     NaN     NaN     NaN     NaN   \n",
       "4     No      No      NaN     NaN     NaN     NaN     NaN     NaN     NaN   \n",
       "\n",
       "  reacfpi  ... clinint age_dv age_dv2 Q2_19       Q6_1 Q6_2_W5 ons_lifesat  \\\n",
       "0     NaN  ...     NaN  45-54   45-54    No       Good      No        High   \n",
       "1     NaN  ...     NaN  65-74   65-74    No       Fair     Yes   Very High   \n",
       "2     NaN  ...     NaN  45-54   45-54    No  Very good      No      Medium   \n",
       "3     NaN  ...     NaN  45-54   45-54    No       Good      No      Medium   \n",
       "4     NaN  ...     NaN  55-64   55-64    No  Very good      No   Very High   \n",
       "\n",
       "  ons_worthw  ons_happy ons_anxiety  \n",
       "0       High       High         Low  \n",
       "1  Very High  Very High    Very low  \n",
       "2     Medium     Medium    Very low  \n",
       "3       High        Low        High  \n",
       "4  Very High  Very High    Very low  \n",
       "\n",
       "[5 rows x 23 columns]"
      ]
     },
     "execution_count": 6,
     "metadata": {},
     "output_type": "execute_result"
    }
   ],
   "source": [
    "food_and_you_key.head()"
   ]
  },
  {
   "cell_type": "code",
   "execution_count": 7,
   "metadata": {},
   "outputs": [
    {
     "data": {
      "text/plain": [
       "AdReac         3066\n",
       "AvoidFd        3068\n",
       "reacalle        694\n",
       "reacint         695\n",
       "reaccoe         694\n",
       "reacnoc         694\n",
       "reacglu         694\n",
       "reaclac         695\n",
       "reaccow         694\n",
       "reacfpi         694\n",
       "reacoth         696\n",
       "reacno         3060\n",
       "clinaller       151\n",
       "clinint         372\n",
       "age_dv         3060\n",
       "age_dv2        3060\n",
       "Q2_19          2090\n",
       "Q6_1           3060\n",
       "Q6_2_W5        3057\n",
       "ons_lifesat    3036\n",
       "ons_worthw     3029\n",
       "ons_happy      3036\n",
       "ons_anxiety    3032\n",
       "dtype: int64"
      ]
     },
     "execution_count": 7,
     "metadata": {},
     "output_type": "execute_result"
    }
   ],
   "source": [
    "food_and_you_key.count()"
   ]
  },
  {
   "cell_type": "code",
   "execution_count": 8,
   "metadata": {},
   "outputs": [],
   "source": [
    "food_and_you_broad = food_and_you_key[['AdReac','AvoidFd','age_dv','Q6_1','ons_lifesat','ons_worthw','ons_happy','ons_anxiety']]"
   ]
  },
  {
   "cell_type": "code",
   "execution_count": 9,
   "metadata": {},
   "outputs": [
    {
     "data": {
      "text/html": [
       "<div>\n",
       "<style scoped>\n",
       "    .dataframe tbody tr th:only-of-type {\n",
       "        vertical-align: middle;\n",
       "    }\n",
       "\n",
       "    .dataframe tbody tr th {\n",
       "        vertical-align: top;\n",
       "    }\n",
       "\n",
       "    .dataframe thead th {\n",
       "        text-align: right;\n",
       "    }\n",
       "</style>\n",
       "<table border=\"1\" class=\"dataframe\">\n",
       "  <thead>\n",
       "    <tr style=\"text-align: right;\">\n",
       "      <th></th>\n",
       "      <th>AdReac</th>\n",
       "      <th>AvoidFd</th>\n",
       "      <th>age_dv</th>\n",
       "      <th>Q6_1</th>\n",
       "      <th>ons_lifesat</th>\n",
       "      <th>ons_worthw</th>\n",
       "      <th>ons_happy</th>\n",
       "      <th>ons_anxiety</th>\n",
       "    </tr>\n",
       "  </thead>\n",
       "  <tbody>\n",
       "    <tr>\n",
       "      <th>0</th>\n",
       "      <td>No</td>\n",
       "      <td>No</td>\n",
       "      <td>45-54</td>\n",
       "      <td>Good</td>\n",
       "      <td>High</td>\n",
       "      <td>High</td>\n",
       "      <td>High</td>\n",
       "      <td>Low</td>\n",
       "    </tr>\n",
       "    <tr>\n",
       "      <th>1</th>\n",
       "      <td>No</td>\n",
       "      <td>No</td>\n",
       "      <td>65-74</td>\n",
       "      <td>Fair</td>\n",
       "      <td>Very High</td>\n",
       "      <td>Very High</td>\n",
       "      <td>Very High</td>\n",
       "      <td>Very low</td>\n",
       "    </tr>\n",
       "    <tr>\n",
       "      <th>2</th>\n",
       "      <td>No</td>\n",
       "      <td>No</td>\n",
       "      <td>45-54</td>\n",
       "      <td>Very good</td>\n",
       "      <td>Medium</td>\n",
       "      <td>Medium</td>\n",
       "      <td>Medium</td>\n",
       "      <td>Very low</td>\n",
       "    </tr>\n",
       "    <tr>\n",
       "      <th>3</th>\n",
       "      <td>No</td>\n",
       "      <td>No</td>\n",
       "      <td>45-54</td>\n",
       "      <td>Good</td>\n",
       "      <td>Medium</td>\n",
       "      <td>High</td>\n",
       "      <td>Low</td>\n",
       "      <td>High</td>\n",
       "    </tr>\n",
       "    <tr>\n",
       "      <th>4</th>\n",
       "      <td>No</td>\n",
       "      <td>No</td>\n",
       "      <td>55-64</td>\n",
       "      <td>Very good</td>\n",
       "      <td>Very High</td>\n",
       "      <td>Very High</td>\n",
       "      <td>Very High</td>\n",
       "      <td>Very low</td>\n",
       "    </tr>\n",
       "  </tbody>\n",
       "</table>\n",
       "</div>"
      ],
      "text/plain": [
       "  AdReac AvoidFd age_dv       Q6_1 ons_lifesat ons_worthw  ons_happy  \\\n",
       "0     No      No  45-54       Good        High       High       High   \n",
       "1     No      No  65-74       Fair   Very High  Very High  Very High   \n",
       "2     No      No  45-54  Very good      Medium     Medium     Medium   \n",
       "3     No      No  45-54       Good      Medium       High        Low   \n",
       "4     No      No  55-64  Very good   Very High  Very High  Very High   \n",
       "\n",
       "  ons_anxiety  \n",
       "0         Low  \n",
       "1    Very low  \n",
       "2    Very low  \n",
       "3        High  \n",
       "4    Very low  "
      ]
     },
     "execution_count": 9,
     "metadata": {},
     "output_type": "execute_result"
    }
   ],
   "source": [
    "food_and_you_broad.head()"
   ]
  },
  {
   "cell_type": "code",
   "execution_count": 10,
   "metadata": {},
   "outputs": [
    {
     "data": {
      "text/plain": [
       "AdReac          3\n",
       "AvoidFd         1\n",
       "age_dv          9\n",
       "Q6_1            9\n",
       "ons_lifesat    33\n",
       "ons_worthw     40\n",
       "ons_happy      33\n",
       "ons_anxiety    37\n",
       "dtype: int64"
      ]
     },
     "execution_count": 10,
     "metadata": {},
     "output_type": "execute_result"
    }
   ],
   "source": [
    "food_and_you_broad.isna().sum()"
   ]
  },
  {
   "cell_type": "code",
   "execution_count": 11,
   "metadata": {},
   "outputs": [
    {
     "data": {
      "text/plain": [
       "(3069, 8)"
      ]
     },
     "execution_count": 11,
     "metadata": {},
     "output_type": "execute_result"
    }
   ],
   "source": [
    "food_and_you_broad.shape"
   ]
  },
  {
   "cell_type": "code",
   "execution_count": 12,
   "metadata": {},
   "outputs": [],
   "source": [
    "food_and_you_broad = food_and_you_broad.dropna()"
   ]
  },
  {
   "cell_type": "code",
   "execution_count": 13,
   "metadata": {},
   "outputs": [
    {
     "data": {
      "text/plain": [
       "(3009, 8)"
      ]
     },
     "execution_count": 13,
     "metadata": {},
     "output_type": "execute_result"
    }
   ],
   "source": [
    "# Dropped 60 rows\n",
    "food_and_you_broad.shape"
   ]
  },
  {
   "cell_type": "code",
   "execution_count": 14,
   "metadata": {},
   "outputs": [
    {
     "data": {
      "text/html": [
       "<div>\n",
       "<style scoped>\n",
       "    .dataframe tbody tr th:only-of-type {\n",
       "        vertical-align: middle;\n",
       "    }\n",
       "\n",
       "    .dataframe tbody tr th {\n",
       "        vertical-align: top;\n",
       "    }\n",
       "\n",
       "    .dataframe thead th {\n",
       "        text-align: right;\n",
       "    }\n",
       "</style>\n",
       "<table border=\"1\" class=\"dataframe\">\n",
       "  <thead>\n",
       "    <tr style=\"text-align: right;\">\n",
       "      <th></th>\n",
       "      <th>AdReac</th>\n",
       "      <th>AvoidFd</th>\n",
       "      <th>age_dv</th>\n",
       "      <th>Q6_1</th>\n",
       "      <th>ons_lifesat</th>\n",
       "      <th>ons_worthw</th>\n",
       "      <th>ons_happy</th>\n",
       "      <th>ons_anxiety</th>\n",
       "    </tr>\n",
       "  </thead>\n",
       "  <tbody>\n",
       "    <tr>\n",
       "      <th>0</th>\n",
       "      <td>No</td>\n",
       "      <td>No</td>\n",
       "      <td>45-54</td>\n",
       "      <td>Good</td>\n",
       "      <td>High</td>\n",
       "      <td>High</td>\n",
       "      <td>High</td>\n",
       "      <td>Low</td>\n",
       "    </tr>\n",
       "    <tr>\n",
       "      <th>1</th>\n",
       "      <td>No</td>\n",
       "      <td>No</td>\n",
       "      <td>65-74</td>\n",
       "      <td>Fair</td>\n",
       "      <td>Very High</td>\n",
       "      <td>Very High</td>\n",
       "      <td>Very High</td>\n",
       "      <td>Very low</td>\n",
       "    </tr>\n",
       "    <tr>\n",
       "      <th>2</th>\n",
       "      <td>No</td>\n",
       "      <td>No</td>\n",
       "      <td>45-54</td>\n",
       "      <td>Very good</td>\n",
       "      <td>Medium</td>\n",
       "      <td>Medium</td>\n",
       "      <td>Medium</td>\n",
       "      <td>Very low</td>\n",
       "    </tr>\n",
       "    <tr>\n",
       "      <th>3</th>\n",
       "      <td>No</td>\n",
       "      <td>No</td>\n",
       "      <td>45-54</td>\n",
       "      <td>Good</td>\n",
       "      <td>Medium</td>\n",
       "      <td>High</td>\n",
       "      <td>Low</td>\n",
       "      <td>High</td>\n",
       "    </tr>\n",
       "    <tr>\n",
       "      <th>4</th>\n",
       "      <td>No</td>\n",
       "      <td>No</td>\n",
       "      <td>55-64</td>\n",
       "      <td>Very good</td>\n",
       "      <td>Very High</td>\n",
       "      <td>Very High</td>\n",
       "      <td>Very High</td>\n",
       "      <td>Very low</td>\n",
       "    </tr>\n",
       "  </tbody>\n",
       "</table>\n",
       "</div>"
      ],
      "text/plain": [
       "  AdReac AvoidFd age_dv       Q6_1 ons_lifesat ons_worthw  ons_happy  \\\n",
       "0     No      No  45-54       Good        High       High       High   \n",
       "1     No      No  65-74       Fair   Very High  Very High  Very High   \n",
       "2     No      No  45-54  Very good      Medium     Medium     Medium   \n",
       "3     No      No  45-54       Good      Medium       High        Low   \n",
       "4     No      No  55-64  Very good   Very High  Very High  Very High   \n",
       "\n",
       "  ons_anxiety  \n",
       "0         Low  \n",
       "1    Very low  \n",
       "2    Very low  \n",
       "3        High  \n",
       "4    Very low  "
      ]
     },
     "execution_count": 14,
     "metadata": {},
     "output_type": "execute_result"
    }
   ],
   "source": [
    "food_and_you_broad.head()"
   ]
  },
  {
   "cell_type": "code",
   "execution_count": 15,
   "metadata": {},
   "outputs": [],
   "source": [
    "le = LabelEncoder()"
   ]
  },
  {
   "cell_type": "code",
   "execution_count": 16,
   "metadata": {},
   "outputs": [],
   "source": [
    "food_and_you_broad[['AdReac','AvoidFd','age_dv']] = food_and_you_broad[['AdReac','AvoidFd','age_dv']].apply(lambda col: le.fit_transform(col))"
   ]
  },
  {
   "cell_type": "code",
   "execution_count": 17,
   "metadata": {},
   "outputs": [
    {
     "data": {
      "text/html": [
       "<div>\n",
       "<style scoped>\n",
       "    .dataframe tbody tr th:only-of-type {\n",
       "        vertical-align: middle;\n",
       "    }\n",
       "\n",
       "    .dataframe tbody tr th {\n",
       "        vertical-align: top;\n",
       "    }\n",
       "\n",
       "    .dataframe thead th {\n",
       "        text-align: right;\n",
       "    }\n",
       "</style>\n",
       "<table border=\"1\" class=\"dataframe\">\n",
       "  <thead>\n",
       "    <tr style=\"text-align: right;\">\n",
       "      <th></th>\n",
       "      <th>AdReac</th>\n",
       "      <th>AvoidFd</th>\n",
       "      <th>age_dv</th>\n",
       "      <th>Q6_1</th>\n",
       "      <th>ons_lifesat</th>\n",
       "      <th>ons_worthw</th>\n",
       "      <th>ons_happy</th>\n",
       "      <th>ons_anxiety</th>\n",
       "    </tr>\n",
       "  </thead>\n",
       "  <tbody>\n",
       "    <tr>\n",
       "      <th>0</th>\n",
       "      <td>0</td>\n",
       "      <td>0</td>\n",
       "      <td>3</td>\n",
       "      <td>Good</td>\n",
       "      <td>High</td>\n",
       "      <td>High</td>\n",
       "      <td>High</td>\n",
       "      <td>Low</td>\n",
       "    </tr>\n",
       "    <tr>\n",
       "      <th>1</th>\n",
       "      <td>0</td>\n",
       "      <td>0</td>\n",
       "      <td>5</td>\n",
       "      <td>Fair</td>\n",
       "      <td>Very High</td>\n",
       "      <td>Very High</td>\n",
       "      <td>Very High</td>\n",
       "      <td>Very low</td>\n",
       "    </tr>\n",
       "    <tr>\n",
       "      <th>2</th>\n",
       "      <td>0</td>\n",
       "      <td>0</td>\n",
       "      <td>3</td>\n",
       "      <td>Very good</td>\n",
       "      <td>Medium</td>\n",
       "      <td>Medium</td>\n",
       "      <td>Medium</td>\n",
       "      <td>Very low</td>\n",
       "    </tr>\n",
       "    <tr>\n",
       "      <th>3</th>\n",
       "      <td>0</td>\n",
       "      <td>0</td>\n",
       "      <td>3</td>\n",
       "      <td>Good</td>\n",
       "      <td>Medium</td>\n",
       "      <td>High</td>\n",
       "      <td>Low</td>\n",
       "      <td>High</td>\n",
       "    </tr>\n",
       "    <tr>\n",
       "      <th>4</th>\n",
       "      <td>0</td>\n",
       "      <td>0</td>\n",
       "      <td>4</td>\n",
       "      <td>Very good</td>\n",
       "      <td>Very High</td>\n",
       "      <td>Very High</td>\n",
       "      <td>Very High</td>\n",
       "      <td>Very low</td>\n",
       "    </tr>\n",
       "  </tbody>\n",
       "</table>\n",
       "</div>"
      ],
      "text/plain": [
       "   AdReac  AvoidFd  age_dv       Q6_1 ons_lifesat ons_worthw  ons_happy  \\\n",
       "0       0        0       3       Good        High       High       High   \n",
       "1       0        0       5       Fair   Very High  Very High  Very High   \n",
       "2       0        0       3  Very good      Medium     Medium     Medium   \n",
       "3       0        0       3       Good      Medium       High        Low   \n",
       "4       0        0       4  Very good   Very High  Very High  Very High   \n",
       "\n",
       "  ons_anxiety  \n",
       "0         Low  \n",
       "1    Very low  \n",
       "2    Very low  \n",
       "3        High  \n",
       "4    Very low  "
      ]
     },
     "execution_count": 17,
     "metadata": {},
     "output_type": "execute_result"
    }
   ],
   "source": [
    "food_and_you_broad.head()"
   ]
  },
  {
   "cell_type": "code",
   "execution_count": 18,
   "metadata": {},
   "outputs": [],
   "source": [
    "# 0-9\n",
    "Q6_1_dict = {'Good':6, 'Fair':4, 'Very good':9, 'Very bad':0, 'Bad':1}"
   ]
  },
  {
   "cell_type": "code",
   "execution_count": 19,
   "metadata": {},
   "outputs": [],
   "source": [
    "# 0-9\n",
    "ons_well_dict = {'Low':1, 'Medium':4, 'High':6, 'Very High':9}"
   ]
  },
  {
   "cell_type": "code",
   "execution_count": 20,
   "metadata": {},
   "outputs": [],
   "source": [
    "ons_anxiety_dict = {'Very low':1, 'Low':4, 'Medium':6, 'High':9}"
   ]
  },
  {
   "cell_type": "code",
   "execution_count": 21,
   "metadata": {},
   "outputs": [],
   "source": [
    "#Combine the well being questions into one feature and make a dict"
   ]
  },
  {
   "cell_type": "code",
   "execution_count": 22,
   "metadata": {},
   "outputs": [],
   "source": [
    "food_and_you_broad['Q6_1'] = food_and_you_broad['Q6_1'].map(Q6_1_dict)"
   ]
  },
  {
   "cell_type": "code",
   "execution_count": 23,
   "metadata": {},
   "outputs": [],
   "source": [
    "food_and_you_broad['ons_anxiety'] = food_and_you_broad['ons_anxiety'].map(ons_anxiety_dict)"
   ]
  },
  {
   "cell_type": "code",
   "execution_count": 24,
   "metadata": {},
   "outputs": [],
   "source": [
    "food_and_you_broad['ons_lifesat'] = food_and_you_broad['ons_lifesat'].map(ons_well_dict)"
   ]
  },
  {
   "cell_type": "code",
   "execution_count": 25,
   "metadata": {},
   "outputs": [],
   "source": [
    "food_and_you_broad['ons_worthw'] = food_and_you_broad['ons_worthw'].map(ons_well_dict)"
   ]
  },
  {
   "cell_type": "code",
   "execution_count": 26,
   "metadata": {},
   "outputs": [],
   "source": [
    "food_and_you_broad['ons_happy'] = food_and_you_broad['ons_happy'].map(ons_well_dict)"
   ]
  },
  {
   "cell_type": "code",
   "execution_count": 27,
   "metadata": {},
   "outputs": [
    {
     "data": {
      "text/html": [
       "<div>\n",
       "<style scoped>\n",
       "    .dataframe tbody tr th:only-of-type {\n",
       "        vertical-align: middle;\n",
       "    }\n",
       "\n",
       "    .dataframe tbody tr th {\n",
       "        vertical-align: top;\n",
       "    }\n",
       "\n",
       "    .dataframe thead th {\n",
       "        text-align: right;\n",
       "    }\n",
       "</style>\n",
       "<table border=\"1\" class=\"dataframe\">\n",
       "  <thead>\n",
       "    <tr style=\"text-align: right;\">\n",
       "      <th></th>\n",
       "      <th>AdReac</th>\n",
       "      <th>AvoidFd</th>\n",
       "      <th>age_dv</th>\n",
       "      <th>Q6_1</th>\n",
       "      <th>ons_lifesat</th>\n",
       "      <th>ons_worthw</th>\n",
       "      <th>ons_happy</th>\n",
       "      <th>ons_anxiety</th>\n",
       "    </tr>\n",
       "  </thead>\n",
       "  <tbody>\n",
       "    <tr>\n",
       "      <th>0</th>\n",
       "      <td>0</td>\n",
       "      <td>0</td>\n",
       "      <td>3</td>\n",
       "      <td>6</td>\n",
       "      <td>6</td>\n",
       "      <td>6</td>\n",
       "      <td>6</td>\n",
       "      <td>4</td>\n",
       "    </tr>\n",
       "    <tr>\n",
       "      <th>1</th>\n",
       "      <td>0</td>\n",
       "      <td>0</td>\n",
       "      <td>5</td>\n",
       "      <td>4</td>\n",
       "      <td>9</td>\n",
       "      <td>9</td>\n",
       "      <td>9</td>\n",
       "      <td>1</td>\n",
       "    </tr>\n",
       "    <tr>\n",
       "      <th>2</th>\n",
       "      <td>0</td>\n",
       "      <td>0</td>\n",
       "      <td>3</td>\n",
       "      <td>9</td>\n",
       "      <td>4</td>\n",
       "      <td>4</td>\n",
       "      <td>4</td>\n",
       "      <td>1</td>\n",
       "    </tr>\n",
       "    <tr>\n",
       "      <th>3</th>\n",
       "      <td>0</td>\n",
       "      <td>0</td>\n",
       "      <td>3</td>\n",
       "      <td>6</td>\n",
       "      <td>4</td>\n",
       "      <td>6</td>\n",
       "      <td>1</td>\n",
       "      <td>9</td>\n",
       "    </tr>\n",
       "    <tr>\n",
       "      <th>4</th>\n",
       "      <td>0</td>\n",
       "      <td>0</td>\n",
       "      <td>4</td>\n",
       "      <td>9</td>\n",
       "      <td>9</td>\n",
       "      <td>9</td>\n",
       "      <td>9</td>\n",
       "      <td>1</td>\n",
       "    </tr>\n",
       "  </tbody>\n",
       "</table>\n",
       "</div>"
      ],
      "text/plain": [
       "   AdReac  AvoidFd  age_dv  Q6_1  ons_lifesat  ons_worthw  ons_happy  \\\n",
       "0       0        0       3     6            6           6          6   \n",
       "1       0        0       5     4            9           9          9   \n",
       "2       0        0       3     9            4           4          4   \n",
       "3       0        0       3     6            4           6          1   \n",
       "4       0        0       4     9            9           9          9   \n",
       "\n",
       "   ons_anxiety  \n",
       "0            4  \n",
       "1            1  \n",
       "2            1  \n",
       "3            9  \n",
       "4            1  "
      ]
     },
     "execution_count": 27,
     "metadata": {},
     "output_type": "execute_result"
    }
   ],
   "source": [
    "food_and_you_broad.head()"
   ]
  },
  {
   "cell_type": "code",
   "execution_count": 28,
   "metadata": {},
   "outputs": [],
   "source": [
    "corr_food_and_you_broad = food_and_you_broad.corr()"
   ]
  },
  {
   "cell_type": "code",
   "execution_count": 29,
   "metadata": {},
   "outputs": [
    {
     "data": {
      "text/plain": [
       "<matplotlib.axes._subplots.AxesSubplot at 0x10f6a9588>"
      ]
     },
     "execution_count": 29,
     "metadata": {},
     "output_type": "execute_result"
    },
    {
     "data": {
      "image/png": "[encoded data removed]",
      "text/plain": [
       "<Figure size 648x648 with 2 Axes>"
      ]
     },
     "metadata": {
      "needs_background": "light"
     },
     "output_type": "display_data"
    }
   ],
   "source": [
    "fig, ax = plt.subplots(figsize=(9,9))\n",
    "sns.heatmap(corr_food_and_you_broad)"
   ]
  },
  {
   "cell_type": "code",
   "execution_count": 30,
   "metadata": {},
   "outputs": [],
   "source": [
    "food_and_you_broad['well_being'] = (food_and_you_broad['ons_lifesat'] + food_and_you_broad['ons_worthw'] + food_and_you_broad['ons_happy'] - food_and_you_broad['ons_anxiety'])/4"
   ]
  },
  {
   "cell_type": "code",
   "execution_count": 31,
   "metadata": {},
   "outputs": [
    {
     "data": {
      "text/html": [
       "<div>\n",
       "<style scoped>\n",
       "    .dataframe tbody tr th:only-of-type {\n",
       "        vertical-align: middle;\n",
       "    }\n",
       "\n",
       "    .dataframe tbody tr th {\n",
       "        vertical-align: top;\n",
       "    }\n",
       "\n",
       "    .dataframe thead th {\n",
       "        text-align: right;\n",
       "    }\n",
       "</style>\n",
       "<table border=\"1\" class=\"dataframe\">\n",
       "  <thead>\n",
       "    <tr style=\"text-align: right;\">\n",
       "      <th></th>\n",
       "      <th>AdReac</th>\n",
       "      <th>AvoidFd</th>\n",
       "      <th>age_dv</th>\n",
       "      <th>Q6_1</th>\n",
       "      <th>ons_lifesat</th>\n",
       "      <th>ons_worthw</th>\n",
       "      <th>ons_happy</th>\n",
       "      <th>ons_anxiety</th>\n",
       "      <th>well_being</th>\n",
       "    </tr>\n",
       "  </thead>\n",
       "  <tbody>\n",
       "    <tr>\n",
       "      <th>0</th>\n",
       "      <td>0</td>\n",
       "      <td>0</td>\n",
       "      <td>3</td>\n",
       "      <td>6</td>\n",
       "      <td>6</td>\n",
       "      <td>6</td>\n",
       "      <td>6</td>\n",
       "      <td>4</td>\n",
       "      <td>3.50</td>\n",
       "    </tr>\n",
       "    <tr>\n",
       "      <th>1</th>\n",
       "      <td>0</td>\n",
       "      <td>0</td>\n",
       "      <td>5</td>\n",
       "      <td>4</td>\n",
       "      <td>9</td>\n",
       "      <td>9</td>\n",
       "      <td>9</td>\n",
       "      <td>1</td>\n",
       "      <td>6.50</td>\n",
       "    </tr>\n",
       "    <tr>\n",
       "      <th>2</th>\n",
       "      <td>0</td>\n",
       "      <td>0</td>\n",
       "      <td>3</td>\n",
       "      <td>9</td>\n",
       "      <td>4</td>\n",
       "      <td>4</td>\n",
       "      <td>4</td>\n",
       "      <td>1</td>\n",
       "      <td>2.75</td>\n",
       "    </tr>\n",
       "    <tr>\n",
       "      <th>3</th>\n",
       "      <td>0</td>\n",
       "      <td>0</td>\n",
       "      <td>3</td>\n",
       "      <td>6</td>\n",
       "      <td>4</td>\n",
       "      <td>6</td>\n",
       "      <td>1</td>\n",
       "      <td>9</td>\n",
       "      <td>0.50</td>\n",
       "    </tr>\n",
       "    <tr>\n",
       "      <th>4</th>\n",
       "      <td>0</td>\n",
       "      <td>0</td>\n",
       "      <td>4</td>\n",
       "      <td>9</td>\n",
       "      <td>9</td>\n",
       "      <td>9</td>\n",
       "      <td>9</td>\n",
       "      <td>1</td>\n",
       "      <td>6.50</td>\n",
       "    </tr>\n",
       "  </tbody>\n",
       "</table>\n",
       "</div>"
      ],
      "text/plain": [
       "   AdReac  AvoidFd  age_dv  Q6_1  ons_lifesat  ons_worthw  ons_happy  \\\n",
       "0       0        0       3     6            6           6          6   \n",
       "1       0        0       5     4            9           9          9   \n",
       "2       0        0       3     9            4           4          4   \n",
       "3       0        0       3     6            4           6          1   \n",
       "4       0        0       4     9            9           9          9   \n",
       "\n",
       "   ons_anxiety  well_being  \n",
       "0            4        3.50  \n",
       "1            1        6.50  \n",
       "2            1        2.75  \n",
       "3            9        0.50  \n",
       "4            1        6.50  "
      ]
     },
     "execution_count": 31,
     "metadata": {},
     "output_type": "execute_result"
    }
   ],
   "source": [
    "food_and_you_broad.head()"
   ]
  },
  {
   "cell_type": "code",
   "execution_count": 32,
   "metadata": {},
   "outputs": [
    {
     "data": {
      "text/plain": [
       "array([ 3.5 ,  6.5 ,  2.75,  0.5 ,  3.  ,  2.  ,  4.25,  2.5 ,  3.75,\n",
       "        5.75,  1.75,  5.  ,  0.  ,  4.5 ,  1.25,  1.  ,  5.25,  4.  ,\n",
       "       -1.5 ,  3.25,  1.5 ,  0.75, -0.25,  2.25, -0.75])"
      ]
     },
     "execution_count": 32,
     "metadata": {},
     "output_type": "execute_result"
    }
   ],
   "source": [
    "food_and_you_broad.well_being.unique()"
   ]
  },
  {
   "cell_type": "code",
   "execution_count": 33,
   "metadata": {},
   "outputs": [],
   "source": [
    "food_and_you_filter = food_and_you_broad.drop(columns=['ons_lifesat','ons_worthw','ons_happy','ons_anxiety'])"
   ]
  },
  {
   "cell_type": "code",
   "execution_count": 34,
   "metadata": {},
   "outputs": [],
   "source": [
    "food_and_you_filter.rename(columns={'Q6_1':'health'}, inplace=True)"
   ]
  },
  {
   "cell_type": "code",
   "execution_count": 35,
   "metadata": {},
   "outputs": [
    {
     "data": {
      "text/html": [
       "<div>\n",
       "<style scoped>\n",
       "    .dataframe tbody tr th:only-of-type {\n",
       "        vertical-align: middle;\n",
       "    }\n",
       "\n",
       "    .dataframe tbody tr th {\n",
       "        vertical-align: top;\n",
       "    }\n",
       "\n",
       "    .dataframe thead th {\n",
       "        text-align: right;\n",
       "    }\n",
       "</style>\n",
       "<table border=\"1\" class=\"dataframe\">\n",
       "  <thead>\n",
       "    <tr style=\"text-align: right;\">\n",
       "      <th></th>\n",
       "      <th>AdReac</th>\n",
       "      <th>AvoidFd</th>\n",
       "      <th>age_dv</th>\n",
       "      <th>health</th>\n",
       "      <th>well_being</th>\n",
       "    </tr>\n",
       "  </thead>\n",
       "  <tbody>\n",
       "    <tr>\n",
       "      <th>0</th>\n",
       "      <td>0</td>\n",
       "      <td>0</td>\n",
       "      <td>3</td>\n",
       "      <td>6</td>\n",
       "      <td>3.50</td>\n",
       "    </tr>\n",
       "    <tr>\n",
       "      <th>1</th>\n",
       "      <td>0</td>\n",
       "      <td>0</td>\n",
       "      <td>5</td>\n",
       "      <td>4</td>\n",
       "      <td>6.50</td>\n",
       "    </tr>\n",
       "    <tr>\n",
       "      <th>2</th>\n",
       "      <td>0</td>\n",
       "      <td>0</td>\n",
       "      <td>3</td>\n",
       "      <td>9</td>\n",
       "      <td>2.75</td>\n",
       "    </tr>\n",
       "    <tr>\n",
       "      <th>3</th>\n",
       "      <td>0</td>\n",
       "      <td>0</td>\n",
       "      <td>3</td>\n",
       "      <td>6</td>\n",
       "      <td>0.50</td>\n",
       "    </tr>\n",
       "    <tr>\n",
       "      <th>4</th>\n",
       "      <td>0</td>\n",
       "      <td>0</td>\n",
       "      <td>4</td>\n",
       "      <td>9</td>\n",
       "      <td>6.50</td>\n",
       "    </tr>\n",
       "  </tbody>\n",
       "</table>\n",
       "</div>"
      ],
      "text/plain": [
       "   AdReac  AvoidFd  age_dv  health  well_being\n",
       "0       0        0       3       6        3.50\n",
       "1       0        0       5       4        6.50\n",
       "2       0        0       3       9        2.75\n",
       "3       0        0       3       6        0.50\n",
       "4       0        0       4       9        6.50"
      ]
     },
     "execution_count": 35,
     "metadata": {},
     "output_type": "execute_result"
    }
   ],
   "source": [
    "food_and_you_filter.head()"
   ]
  },
  {
   "cell_type": "code",
   "execution_count": 36,
   "metadata": {},
   "outputs": [],
   "source": [
    "corr_food_and_you_filter = food_and_you_filter.corr()"
   ]
  },
  {
   "cell_type": "code",
   "execution_count": 37,
   "metadata": {},
   "outputs": [
    {
     "data": {
      "text/plain": [
       "<matplotlib.axes._subplots.AxesSubplot at 0x1a230d9f98>"
      ]
     },
     "execution_count": 37,
     "metadata": {},
     "output_type": "execute_result"
    },
    {
     "data": {
      "image/png": "[encoded data removed]",
      "text/plain": [
       "<Figure size 648x648 with 2 Axes>"
      ]
     },
     "metadata": {
      "needs_background": "light"
     },
     "output_type": "display_data"
    }
   ],
   "source": [
    "fig, ax = plt.subplots(figsize=(9,9))\n",
    "sns.heatmap(corr_food_and_you_filter)"
   ]
  },
  {
   "cell_type": "code",
   "execution_count": 38,
   "metadata": {},
   "outputs": [
    {
     "data": {
      "text/plain": [
       "<matplotlib.axes._subplots.AxesSubplot at 0x1a230d9080>"
      ]
     },
     "execution_count": 38,
     "metadata": {},
     "output_type": "execute_result"
    },
    {
     "data": {
      "image/png": "[encoded data removed]",
      "text/plain": [
       "<Figure size 432x288 with 1 Axes>"
      ]
     },
     "metadata": {
      "needs_background": "light"
     },
     "output_type": "display_data"
    }
   ],
   "source": [
    "food_and_you_filter.age_dv.hist()"
   ]
  },
  {
   "cell_type": "code",
   "execution_count": 39,
   "metadata": {},
   "outputs": [
    {
     "data": {
      "text/plain": [
       "<matplotlib.axes._subplots.AxesSubplot at 0x1a23443320>"
      ]
     },
     "execution_count": 39,
     "metadata": {},
     "output_type": "execute_result"
    },
    {
     "data": {
      "image/png": "[encoded data removed]",
      "text/plain": [
       "<Figure size 432x288 with 1 Axes>"
      ]
     },
     "metadata": {
      "needs_background": "light"
     },
     "output_type": "display_data"
    }
   ],
   "source": [
    "food_and_you_filter.AvoidFd.hist(bins=2)"
   ]
  },
  {
   "cell_type": "code",
   "execution_count": 40,
   "metadata": {},
   "outputs": [
    {
     "data": {
      "text/plain": [
       "<matplotlib.axes._subplots.AxesSubplot at 0x1a243658d0>"
      ]
     },
     "execution_count": 40,
     "metadata": {},
     "output_type": "execute_result"
    },
    {
     "data": {
      "image/png": "[encoded data removed]",
      "text/plain": [
       "<Figure size 432x288 with 1 Axes>"
      ]
     },
     "metadata": {
      "needs_background": "light"
     },
     "output_type": "display_data"
    }
   ],
   "source": [
    "food_and_you_filter.AvoidFd.hist(bins=2)"
   ]
  },
  {
   "cell_type": "code",
   "execution_count": 41,
   "metadata": {},
   "outputs": [
    {
     "data": {
      "text/plain": [
       "array([0, 1])"
      ]
     },
     "execution_count": 41,
     "metadata": {},
     "output_type": "execute_result"
    }
   ],
   "source": [
    "food_and_you_broad['AdReac'].unique()"
   ]
  },
  {
   "cell_type": "code",
   "execution_count": 42,
   "metadata": {},
   "outputs": [],
   "source": [
    "cat_col1 = food_and_you_broad['AdReac'].tolist()"
   ]
  },
  {
   "cell_type": "markdown",
   "metadata": {},
   "source": [
    "## Specific allergies vs health and well-being"
   ]
  },
  {
   "cell_type": "code",
   "execution_count": 43,
   "metadata": {},
   "outputs": [
    {
     "data": {
      "text/plain": [
       "699"
      ]
     },
     "execution_count": 43,
     "metadata": {},
     "output_type": "execute_result"
    }
   ],
   "source": [
    "food_and_you.FdReac18.count()"
   ]
  },
  {
   "cell_type": "code",
   "execution_count": 44,
   "metadata": {},
   "outputs": [
    {
     "data": {
      "text/plain": [
       "1174"
      ]
     },
     "execution_count": 44,
     "metadata": {},
     "output_type": "execute_result"
    }
   ],
   "source": [
    "food_and_you.IllAff96.count()"
   ]
  },
  {
   "cell_type": "code",
   "execution_count": 45,
   "metadata": {},
   "outputs": [],
   "source": [
    "#IllAff1-96"
   ]
  },
  {
   "cell_type": "markdown",
   "metadata": {},
   "source": [
    "## Percentage allergies vs. health and well-being"
   ]
  },
  {
   "cell_type": "code",
   "execution_count": 46,
   "metadata": {},
   "outputs": [],
   "source": [
    "food_and_you_new = food_and_you[['AdReac','Q6_1','ons_lifesat','ons_worthw','ons_happy','ons_anxiety']]"
   ]
  },
  {
   "cell_type": "code",
   "execution_count": 47,
   "metadata": {},
   "outputs": [
    {
     "data": {
      "text/html": [
       "<div>\n",
       "<style scoped>\n",
       "    .dataframe tbody tr th:only-of-type {\n",
       "        vertical-align: middle;\n",
       "    }\n",
       "\n",
       "    .dataframe tbody tr th {\n",
       "        vertical-align: top;\n",
       "    }\n",
       "\n",
       "    .dataframe thead th {\n",
       "        text-align: right;\n",
       "    }\n",
       "</style>\n",
       "<table border=\"1\" class=\"dataframe\">\n",
       "  <thead>\n",
       "    <tr style=\"text-align: right;\">\n",
       "      <th></th>\n",
       "      <th>AdReac</th>\n",
       "      <th>Q6_1</th>\n",
       "      <th>ons_lifesat</th>\n",
       "      <th>ons_worthw</th>\n",
       "      <th>ons_happy</th>\n",
       "      <th>ons_anxiety</th>\n",
       "    </tr>\n",
       "  </thead>\n",
       "  <tbody>\n",
       "    <tr>\n",
       "      <th>0</th>\n",
       "      <td>No</td>\n",
       "      <td>Good</td>\n",
       "      <td>High</td>\n",
       "      <td>High</td>\n",
       "      <td>High</td>\n",
       "      <td>Low</td>\n",
       "    </tr>\n",
       "    <tr>\n",
       "      <th>1</th>\n",
       "      <td>No</td>\n",
       "      <td>Fair</td>\n",
       "      <td>Very High</td>\n",
       "      <td>Very High</td>\n",
       "      <td>Very High</td>\n",
       "      <td>Very low</td>\n",
       "    </tr>\n",
       "    <tr>\n",
       "      <th>2</th>\n",
       "      <td>No</td>\n",
       "      <td>Very good</td>\n",
       "      <td>Medium</td>\n",
       "      <td>Medium</td>\n",
       "      <td>Medium</td>\n",
       "      <td>Very low</td>\n",
       "    </tr>\n",
       "    <tr>\n",
       "      <th>3</th>\n",
       "      <td>No</td>\n",
       "      <td>Good</td>\n",
       "      <td>Medium</td>\n",
       "      <td>High</td>\n",
       "      <td>Low</td>\n",
       "      <td>High</td>\n",
       "    </tr>\n",
       "    <tr>\n",
       "      <th>4</th>\n",
       "      <td>No</td>\n",
       "      <td>Very good</td>\n",
       "      <td>Very High</td>\n",
       "      <td>Very High</td>\n",
       "      <td>Very High</td>\n",
       "      <td>Very low</td>\n",
       "    </tr>\n",
       "  </tbody>\n",
       "</table>\n",
       "</div>"
      ],
      "text/plain": [
       "  AdReac       Q6_1 ons_lifesat ons_worthw  ons_happy ons_anxiety\n",
       "0     No       Good        High       High       High         Low\n",
       "1     No       Fair   Very High  Very High  Very High    Very low\n",
       "2     No  Very good      Medium     Medium     Medium    Very low\n",
       "3     No       Good      Medium       High        Low        High\n",
       "4     No  Very good   Very High  Very High  Very High    Very low"
      ]
     },
     "execution_count": 47,
     "metadata": {},
     "output_type": "execute_result"
    }
   ],
   "source": [
    "food_and_you_new.head()"
   ]
  },
  {
   "cell_type": "code",
   "execution_count": 48,
   "metadata": {},
   "outputs": [],
   "source": [
    "food_and_you_lifesat = food_and_you[['AdReac','ons_lifesat']]"
   ]
  },
  {
   "cell_type": "code",
   "execution_count": 49,
   "metadata": {
    "scrolled": true
   },
   "outputs": [
    {
     "data": {
      "text/html": [
       "<div>\n",
       "<style scoped>\n",
       "    .dataframe tbody tr th:only-of-type {\n",
       "        vertical-align: middle;\n",
       "    }\n",
       "\n",
       "    .dataframe tbody tr th {\n",
       "        vertical-align: top;\n",
       "    }\n",
       "\n",
       "    .dataframe thead th {\n",
       "        text-align: right;\n",
       "    }\n",
       "</style>\n",
       "<table border=\"1\" class=\"dataframe\">\n",
       "  <thead>\n",
       "    <tr style=\"text-align: right;\">\n",
       "      <th></th>\n",
       "      <th>AdReac</th>\n",
       "      <th>ons_lifesat</th>\n",
       "    </tr>\n",
       "  </thead>\n",
       "  <tbody>\n",
       "    <tr>\n",
       "      <th>0</th>\n",
       "      <td>No</td>\n",
       "      <td>High</td>\n",
       "    </tr>\n",
       "    <tr>\n",
       "      <th>1</th>\n",
       "      <td>No</td>\n",
       "      <td>Very High</td>\n",
       "    </tr>\n",
       "    <tr>\n",
       "      <th>2</th>\n",
       "      <td>No</td>\n",
       "      <td>Medium</td>\n",
       "    </tr>\n",
       "    <tr>\n",
       "      <th>3</th>\n",
       "      <td>No</td>\n",
       "      <td>Medium</td>\n",
       "    </tr>\n",
       "    <tr>\n",
       "      <th>4</th>\n",
       "      <td>No</td>\n",
       "      <td>Very High</td>\n",
       "    </tr>\n",
       "  </tbody>\n",
       "</table>\n",
       "</div>"
      ],
      "text/plain": [
       "  AdReac ons_lifesat\n",
       "0     No        High\n",
       "1     No   Very High\n",
       "2     No      Medium\n",
       "3     No      Medium\n",
       "4     No   Very High"
      ]
     },
     "execution_count": 49,
     "metadata": {},
     "output_type": "execute_result"
    }
   ],
   "source": [
    "food_and_you_lifesat.head()"
   ]
  },
  {
   "cell_type": "code",
   "execution_count": 50,
   "metadata": {},
   "outputs": [],
   "source": [
    "food_and_you_lifesat_group = food_and_you_lifesat.groupby(['ons_lifesat','AdReac']).size().to_frame('count').reset_index()"
   ]
  },
  {
   "cell_type": "code",
   "execution_count": 51,
   "metadata": {},
   "outputs": [],
   "source": [
    "food_and_you_lifesat_group2 = food_and_you_lifesat.groupby(['AdReac','ons_lifesat']).size().to_frame('count').reset_index()"
   ]
  },
  {
   "cell_type": "code",
   "execution_count": 52,
   "metadata": {},
   "outputs": [
    {
     "data": {
      "text/html": [
       "<div>\n",
       "<style scoped>\n",
       "    .dataframe tbody tr th:only-of-type {\n",
       "        vertical-align: middle;\n",
       "    }\n",
       "\n",
       "    .dataframe tbody tr th {\n",
       "        vertical-align: top;\n",
       "    }\n",
       "\n",
       "    .dataframe thead th {\n",
       "        text-align: right;\n",
       "    }\n",
       "</style>\n",
       "<table border=\"1\" class=\"dataframe\">\n",
       "  <thead>\n",
       "    <tr style=\"text-align: right;\">\n",
       "      <th></th>\n",
       "      <th>AdReac</th>\n",
       "      <th>ons_lifesat</th>\n",
       "      <th>count</th>\n",
       "    </tr>\n",
       "  </thead>\n",
       "  <tbody>\n",
       "    <tr>\n",
       "      <th>0</th>\n",
       "      <td>No</td>\n",
       "      <td>High</td>\n",
       "      <td>1143</td>\n",
       "    </tr>\n",
       "    <tr>\n",
       "      <th>1</th>\n",
       "      <td>No</td>\n",
       "      <td>Low</td>\n",
       "      <td>113</td>\n",
       "    </tr>\n",
       "    <tr>\n",
       "      <th>2</th>\n",
       "      <td>No</td>\n",
       "      <td>Medium</td>\n",
       "      <td>310</td>\n",
       "    </tr>\n",
       "    <tr>\n",
       "      <th>3</th>\n",
       "      <td>No</td>\n",
       "      <td>Very High</td>\n",
       "      <td>947</td>\n",
       "    </tr>\n",
       "    <tr>\n",
       "      <th>4</th>\n",
       "      <td>Yes</td>\n",
       "      <td>High</td>\n",
       "      <td>237</td>\n",
       "    </tr>\n",
       "    <tr>\n",
       "      <th>5</th>\n",
       "      <td>Yes</td>\n",
       "      <td>Low</td>\n",
       "      <td>33</td>\n",
       "    </tr>\n",
       "    <tr>\n",
       "      <th>6</th>\n",
       "      <td>Yes</td>\n",
       "      <td>Medium</td>\n",
       "      <td>80</td>\n",
       "    </tr>\n",
       "    <tr>\n",
       "      <th>7</th>\n",
       "      <td>Yes</td>\n",
       "      <td>Very High</td>\n",
       "      <td>172</td>\n",
       "    </tr>\n",
       "  </tbody>\n",
       "</table>\n",
       "</div>"
      ],
      "text/plain": [
       "  AdReac ons_lifesat  count\n",
       "0     No        High   1143\n",
       "1     No         Low    113\n",
       "2     No      Medium    310\n",
       "3     No   Very High    947\n",
       "4    Yes        High    237\n",
       "5    Yes         Low     33\n",
       "6    Yes      Medium     80\n",
       "7    Yes   Very High    172"
      ]
     },
     "execution_count": 52,
     "metadata": {},
     "output_type": "execute_result"
    }
   ],
   "source": [
    "food_and_you_lifesat_group2"
   ]
  },
  {
   "cell_type": "code",
   "execution_count": 53,
   "metadata": {},
   "outputs": [],
   "source": [
    "food_and_you_lifesat_group['percent'] = [82.82608695652173,17.17391304347826,77.3972602739726,22.602739726027394,79.48717948717949,20.51282051282051,84.62913315460231,15.370866845397677\n",
    "]"
   ]
  },
  {
   "cell_type": "code",
   "execution_count": 54,
   "metadata": {},
   "outputs": [
    {
     "data": {
      "text/html": [
       "<div>\n",
       "<style scoped>\n",
       "    .dataframe tbody tr th:only-of-type {\n",
       "        vertical-align: middle;\n",
       "    }\n",
       "\n",
       "    .dataframe tbody tr th {\n",
       "        vertical-align: top;\n",
       "    }\n",
       "\n",
       "    .dataframe thead th {\n",
       "        text-align: right;\n",
       "    }\n",
       "</style>\n",
       "<table border=\"1\" class=\"dataframe\">\n",
       "  <thead>\n",
       "    <tr style=\"text-align: right;\">\n",
       "      <th></th>\n",
       "      <th>ons_lifesat</th>\n",
       "      <th>AdReac</th>\n",
       "      <th>count</th>\n",
       "      <th>percent</th>\n",
       "    </tr>\n",
       "  </thead>\n",
       "  <tbody>\n",
       "    <tr>\n",
       "      <th>0</th>\n",
       "      <td>High</td>\n",
       "      <td>No</td>\n",
       "      <td>1143</td>\n",
       "      <td>82.826087</td>\n",
       "    </tr>\n",
       "    <tr>\n",
       "      <th>1</th>\n",
       "      <td>High</td>\n",
       "      <td>Yes</td>\n",
       "      <td>237</td>\n",
       "      <td>17.173913</td>\n",
       "    </tr>\n",
       "    <tr>\n",
       "      <th>2</th>\n",
       "      <td>Low</td>\n",
       "      <td>No</td>\n",
       "      <td>113</td>\n",
       "      <td>77.397260</td>\n",
       "    </tr>\n",
       "    <tr>\n",
       "      <th>3</th>\n",
       "      <td>Low</td>\n",
       "      <td>Yes</td>\n",
       "      <td>33</td>\n",
       "      <td>22.602740</td>\n",
       "    </tr>\n",
       "    <tr>\n",
       "      <th>4</th>\n",
       "      <td>Medium</td>\n",
       "      <td>No</td>\n",
       "      <td>310</td>\n",
       "      <td>79.487179</td>\n",
       "    </tr>\n",
       "    <tr>\n",
       "      <th>5</th>\n",
       "      <td>Medium</td>\n",
       "      <td>Yes</td>\n",
       "      <td>80</td>\n",
       "      <td>20.512821</td>\n",
       "    </tr>\n",
       "    <tr>\n",
       "      <th>6</th>\n",
       "      <td>Very High</td>\n",
       "      <td>No</td>\n",
       "      <td>947</td>\n",
       "      <td>84.629133</td>\n",
       "    </tr>\n",
       "    <tr>\n",
       "      <th>7</th>\n",
       "      <td>Very High</td>\n",
       "      <td>Yes</td>\n",
       "      <td>172</td>\n",
       "      <td>15.370867</td>\n",
       "    </tr>\n",
       "  </tbody>\n",
       "</table>\n",
       "</div>"
      ],
      "text/plain": [
       "  ons_lifesat AdReac  count    percent\n",
       "0        High     No   1143  82.826087\n",
       "1        High    Yes    237  17.173913\n",
       "2         Low     No    113  77.397260\n",
       "3         Low    Yes     33  22.602740\n",
       "4      Medium     No    310  79.487179\n",
       "5      Medium    Yes     80  20.512821\n",
       "6   Very High     No    947  84.629133\n",
       "7   Very High    Yes    172  15.370867"
      ]
     },
     "execution_count": 54,
     "metadata": {},
     "output_type": "execute_result"
    }
   ],
   "source": [
    "food_and_you_lifesat_group"
   ]
  },
  {
   "cell_type": "code",
   "execution_count": 55,
   "metadata": {},
   "outputs": [
    {
     "data": {
      "text/plain": [
       "<matplotlib.axes._subplots.AxesSubplot at 0x1a2457b2b0>"
      ]
     },
     "execution_count": 55,
     "metadata": {},
     "output_type": "execute_result"
    },
    {
     "data": {
      "image/png": "[encoded data removed]",
      "text/plain": [
       "<Figure size 432x288 with 1 Axes>"
      ]
     },
     "metadata": {
      "needs_background": "light"
     },
     "output_type": "display_data"
    }
   ],
   "source": [
    "sns.barplot(x='ons_lifesat',y='percent',data=food_and_you_lifesat_group,hue='AdReac')"
   ]
  },
  {
   "cell_type": "code",
   "execution_count": 56,
   "metadata": {},
   "outputs": [
    {
     "data": {
      "text/plain": [
       "<matplotlib.axes._subplots.AxesSubplot at 0x1a24678128>"
      ]
     },
     "execution_count": 56,
     "metadata": {},
     "output_type": "execute_result"
    },
    {
     "data": {
      "image/png": "[encoded data removed]",
      "text/plain": [
       "<Figure size 432x288 with 1 Axes>"
      ]
     },
     "metadata": {
      "needs_background": "light"
     },
     "output_type": "display_data"
    }
   ],
   "source": [
    "sns.barplot(x='AdReac',y='percent',data=food_and_you_lifesat_group,hue='ons_lifesat')"
   ]
  },
  {
   "cell_type": "code",
   "execution_count": 57,
   "metadata": {},
   "outputs": [],
   "source": [
    "food_and_you_lifesat_group2['percent'] = [45.48,4.50,12.34,37.68,45.40,6.32,15.32,32.95]"
   ]
  },
  {
   "cell_type": "code",
   "execution_count": 58,
   "metadata": {},
   "outputs": [
    {
     "data": {
      "text/html": [
       "<div>\n",
       "<style scoped>\n",
       "    .dataframe tbody tr th:only-of-type {\n",
       "        vertical-align: middle;\n",
       "    }\n",
       "\n",
       "    .dataframe tbody tr th {\n",
       "        vertical-align: top;\n",
       "    }\n",
       "\n",
       "    .dataframe thead th {\n",
       "        text-align: right;\n",
       "    }\n",
       "</style>\n",
       "<table border=\"1\" class=\"dataframe\">\n",
       "  <thead>\n",
       "    <tr style=\"text-align: right;\">\n",
       "      <th></th>\n",
       "      <th>AdReac</th>\n",
       "      <th>ons_lifesat</th>\n",
       "      <th>count</th>\n",
       "      <th>percent</th>\n",
       "    </tr>\n",
       "  </thead>\n",
       "  <tbody>\n",
       "    <tr>\n",
       "      <th>0</th>\n",
       "      <td>No</td>\n",
       "      <td>High</td>\n",
       "      <td>1143</td>\n",
       "      <td>45.48</td>\n",
       "    </tr>\n",
       "    <tr>\n",
       "      <th>1</th>\n",
       "      <td>No</td>\n",
       "      <td>Low</td>\n",
       "      <td>113</td>\n",
       "      <td>4.50</td>\n",
       "    </tr>\n",
       "    <tr>\n",
       "      <th>2</th>\n",
       "      <td>No</td>\n",
       "      <td>Medium</td>\n",
       "      <td>310</td>\n",
       "      <td>12.34</td>\n",
       "    </tr>\n",
       "    <tr>\n",
       "      <th>3</th>\n",
       "      <td>No</td>\n",
       "      <td>Very High</td>\n",
       "      <td>947</td>\n",
       "      <td>37.68</td>\n",
       "    </tr>\n",
       "    <tr>\n",
       "      <th>4</th>\n",
       "      <td>Yes</td>\n",
       "      <td>High</td>\n",
       "      <td>237</td>\n",
       "      <td>45.40</td>\n",
       "    </tr>\n",
       "    <tr>\n",
       "      <th>5</th>\n",
       "      <td>Yes</td>\n",
       "      <td>Low</td>\n",
       "      <td>33</td>\n",
       "      <td>6.32</td>\n",
       "    </tr>\n",
       "    <tr>\n",
       "      <th>6</th>\n",
       "      <td>Yes</td>\n",
       "      <td>Medium</td>\n",
       "      <td>80</td>\n",
       "      <td>15.32</td>\n",
       "    </tr>\n",
       "    <tr>\n",
       "      <th>7</th>\n",
       "      <td>Yes</td>\n",
       "      <td>Very High</td>\n",
       "      <td>172</td>\n",
       "      <td>32.95</td>\n",
       "    </tr>\n",
       "  </tbody>\n",
       "</table>\n",
       "</div>"
      ],
      "text/plain": [
       "  AdReac ons_lifesat  count  percent\n",
       "0     No        High   1143    45.48\n",
       "1     No         Low    113     4.50\n",
       "2     No      Medium    310    12.34\n",
       "3     No   Very High    947    37.68\n",
       "4    Yes        High    237    45.40\n",
       "5    Yes         Low     33     6.32\n",
       "6    Yes      Medium     80    15.32\n",
       "7    Yes   Very High    172    32.95"
      ]
     },
     "execution_count": 58,
     "metadata": {},
     "output_type": "execute_result"
    }
   ],
   "source": [
    "food_and_you_lifesat_group2"
   ]
  },
  {
   "cell_type": "code",
   "execution_count": 59,
   "metadata": {},
   "outputs": [
    {
     "data": {
      "text/plain": [
       "Text(0, 0.5, 'Percentage of people with a hypersensitivity')"
      ]
     },
     "execution_count": 59,
     "metadata": {},
     "output_type": "execute_result"
    },
    {
     "data": {
      "image/png": "[encoded data removed]",
      "text/plain": [
       "<Figure size 432x288 with 1 Axes>"
      ]
     },
     "metadata": {
      "needs_background": "light"
     },
     "output_type": "display_data"
    }
   ],
   "source": [
    "sns.barplot(x='ons_lifesat',y='percent',data=food_and_you_lifesat_group2,hue='AdReac')\n",
    "plt.xlabel(\"Life Satisfaction\")\n",
    "plt.ylabel(\"Percentage of people with a hypersensitivity\")\n",
    "#fig1.set_axis_labels('Life Satisfaction','Percentage of people with a hypersensitivity')\n",
    "#fig1.set(xlabel='Life_Satisfaction', ylabel='Percentage_of_people_with_a_hypersensitivity)"
   ]
  },
  {
   "cell_type": "code",
   "execution_count": 60,
   "metadata": {},
   "outputs": [],
   "source": [
    "#food_and_you_lifesat_group = food_and_you_lifesat_group.pivot_table(index=['ons_lifesat'],columns='AdReac',values='count')"
   ]
  },
  {
   "cell_type": "code",
   "execution_count": 61,
   "metadata": {},
   "outputs": [],
   "source": [
    "def barplot(feature):\n",
    "    food_and_you_feature = food_and_you[['AdReac',feature]]\n",
    "    food_and_you_feature_group2 = food_and_you_feature.groupby(['AdReac',feature]).size().to_frame('count').reset_index()\n",
    "    return food_and_you_feature_group2"
   ]
  },
  {
   "cell_type": "code",
   "execution_count": 62,
   "metadata": {},
   "outputs": [],
   "source": [
    "food_and_you_health_group = barplot('Q6_1')"
   ]
  },
  {
   "cell_type": "code",
   "execution_count": 63,
   "metadata": {},
   "outputs": [
    {
     "data": {
      "text/html": [
       "<div>\n",
       "<style scoped>\n",
       "    .dataframe tbody tr th:only-of-type {\n",
       "        vertical-align: middle;\n",
       "    }\n",
       "\n",
       "    .dataframe tbody tr th {\n",
       "        vertical-align: top;\n",
       "    }\n",
       "\n",
       "    .dataframe thead th {\n",
       "        text-align: right;\n",
       "    }\n",
       "</style>\n",
       "<table border=\"1\" class=\"dataframe\">\n",
       "  <thead>\n",
       "    <tr style=\"text-align: right;\">\n",
       "      <th></th>\n",
       "      <th>AdReac</th>\n",
       "      <th>Q6_1</th>\n",
       "      <th>count</th>\n",
       "    </tr>\n",
       "  </thead>\n",
       "  <tbody>\n",
       "    <tr>\n",
       "      <th>0</th>\n",
       "      <td>No</td>\n",
       "      <td>Bad</td>\n",
       "      <td>118</td>\n",
       "    </tr>\n",
       "    <tr>\n",
       "      <th>1</th>\n",
       "      <td>No</td>\n",
       "      <td>Fair</td>\n",
       "      <td>457</td>\n",
       "    </tr>\n",
       "    <tr>\n",
       "      <th>2</th>\n",
       "      <td>No</td>\n",
       "      <td>Good</td>\n",
       "      <td>1039</td>\n",
       "    </tr>\n",
       "    <tr>\n",
       "      <th>3</th>\n",
       "      <td>No</td>\n",
       "      <td>Very bad</td>\n",
       "      <td>36</td>\n",
       "    </tr>\n",
       "    <tr>\n",
       "      <th>4</th>\n",
       "      <td>No</td>\n",
       "      <td>Very good</td>\n",
       "      <td>882</td>\n",
       "    </tr>\n",
       "    <tr>\n",
       "      <th>5</th>\n",
       "      <td>Yes</td>\n",
       "      <td>Bad</td>\n",
       "      <td>37</td>\n",
       "    </tr>\n",
       "    <tr>\n",
       "      <th>6</th>\n",
       "      <td>Yes</td>\n",
       "      <td>Fair</td>\n",
       "      <td>129</td>\n",
       "    </tr>\n",
       "    <tr>\n",
       "      <th>7</th>\n",
       "      <td>Yes</td>\n",
       "      <td>Good</td>\n",
       "      <td>220</td>\n",
       "    </tr>\n",
       "    <tr>\n",
       "      <th>8</th>\n",
       "      <td>Yes</td>\n",
       "      <td>Very bad</td>\n",
       "      <td>10</td>\n",
       "    </tr>\n",
       "    <tr>\n",
       "      <th>9</th>\n",
       "      <td>Yes</td>\n",
       "      <td>Very good</td>\n",
       "      <td>129</td>\n",
       "    </tr>\n",
       "  </tbody>\n",
       "</table>\n",
       "</div>"
      ],
      "text/plain": [
       "  AdReac       Q6_1  count\n",
       "0     No        Bad    118\n",
       "1     No       Fair    457\n",
       "2     No       Good   1039\n",
       "3     No   Very bad     36\n",
       "4     No  Very good    882\n",
       "5    Yes        Bad     37\n",
       "6    Yes       Fair    129\n",
       "7    Yes       Good    220\n",
       "8    Yes   Very bad     10\n",
       "9    Yes  Very good    129"
      ]
     },
     "execution_count": 63,
     "metadata": {},
     "output_type": "execute_result"
    }
   ],
   "source": [
    "food_and_you_health_group"
   ]
  },
  {
   "cell_type": "code",
   "execution_count": 64,
   "metadata": {},
   "outputs": [],
   "source": [
    "food_and_you_health_group['percent'] = [4.66,18.05,41.03,1.42,34.83,7.05,24.57,41.90,1.90,24.57]"
   ]
  },
  {
   "cell_type": "code",
   "execution_count": 65,
   "metadata": {},
   "outputs": [
    {
     "data": {
      "text/plain": [
       "Text(0, 0.5, 'Percentage of people with a hypersensitivity')"
      ]
     },
     "execution_count": 65,
     "metadata": {},
     "output_type": "execute_result"
    },
    {
     "data": {
      "image/png": "[encoded data removed]",
      "text/plain": [
       "<Figure size 432x288 with 1 Axes>"
      ]
     },
     "metadata": {
      "needs_background": "light"
     },
     "output_type": "display_data"
    }
   ],
   "source": [
    "sns.barplot(x='Q6_1',y='percent',data=food_and_you_health_group,hue='AdReac')\n",
    "plt.xlabel(\"General health\")\n",
    "plt.ylabel(\"Percentage of people with a hypersensitivity\")"
   ]
  },
  {
   "cell_type": "code",
   "execution_count": 66,
   "metadata": {},
   "outputs": [],
   "source": [
    "food_and_you_health_agg = food_and_you_health_group.groupby('Q6_1').agg({'count':'sum'})"
   ]
  },
  {
   "cell_type": "code",
   "execution_count": 67,
   "metadata": {},
   "outputs": [
    {
     "data": {
      "text/html": [
       "<div>\n",
       "<style scoped>\n",
       "    .dataframe tbody tr th:only-of-type {\n",
       "        vertical-align: middle;\n",
       "    }\n",
       "\n",
       "    .dataframe tbody tr th {\n",
       "        vertical-align: top;\n",
       "    }\n",
       "\n",
       "    .dataframe thead th {\n",
       "        text-align: right;\n",
       "    }\n",
       "</style>\n",
       "<table border=\"1\" class=\"dataframe\">\n",
       "  <thead>\n",
       "    <tr style=\"text-align: right;\">\n",
       "      <th></th>\n",
       "      <th>count</th>\n",
       "    </tr>\n",
       "    <tr>\n",
       "      <th>Q6_1</th>\n",
       "      <th></th>\n",
       "    </tr>\n",
       "  </thead>\n",
       "  <tbody>\n",
       "    <tr>\n",
       "      <th>Bad</th>\n",
       "      <td>155</td>\n",
       "    </tr>\n",
       "    <tr>\n",
       "      <th>Fair</th>\n",
       "      <td>586</td>\n",
       "    </tr>\n",
       "    <tr>\n",
       "      <th>Good</th>\n",
       "      <td>1259</td>\n",
       "    </tr>\n",
       "    <tr>\n",
       "      <th>Very bad</th>\n",
       "      <td>46</td>\n",
       "    </tr>\n",
       "    <tr>\n",
       "      <th>Very good</th>\n",
       "      <td>1011</td>\n",
       "    </tr>\n",
       "  </tbody>\n",
       "</table>\n",
       "</div>"
      ],
      "text/plain": [
       "           count\n",
       "Q6_1            \n",
       "Bad          155\n",
       "Fair         586\n",
       "Good        1259\n",
       "Very bad      46\n",
       "Very good   1011"
      ]
     },
     "execution_count": 67,
     "metadata": {},
     "output_type": "execute_result"
    }
   ],
   "source": [
    "food_and_you_health_agg"
   ]
  },
  {
   "cell_type": "code",
   "execution_count": 68,
   "metadata": {},
   "outputs": [
    {
     "data": {
      "text/plain": [
       "{'count': {'Bad': 155,\n",
       "  'Fair': 586,\n",
       "  'Good': 1259,\n",
       "  'Very bad': 46,\n",
       "  'Very good': 1011}}"
      ]
     },
     "execution_count": 68,
     "metadata": {},
     "output_type": "execute_result"
    }
   ],
   "source": [
    "food_and_you_health_agg.to_dict()"
   ]
  },
  {
   "cell_type": "code",
   "execution_count": 69,
   "metadata": {},
   "outputs": [],
   "source": [
    "food_and_you_worth_group = barplot('ons_worthw')"
   ]
  },
  {
   "cell_type": "code",
   "execution_count": 70,
   "metadata": {},
   "outputs": [
    {
     "data": {
      "text/html": [
       "<div>\n",
       "<style scoped>\n",
       "    .dataframe tbody tr th:only-of-type {\n",
       "        vertical-align: middle;\n",
       "    }\n",
       "\n",
       "    .dataframe tbody tr th {\n",
       "        vertical-align: top;\n",
       "    }\n",
       "\n",
       "    .dataframe thead th {\n",
       "        text-align: right;\n",
       "    }\n",
       "</style>\n",
       "<table border=\"1\" class=\"dataframe\">\n",
       "  <thead>\n",
       "    <tr style=\"text-align: right;\">\n",
       "      <th></th>\n",
       "      <th>AdReac</th>\n",
       "      <th>ons_worthw</th>\n",
       "      <th>count</th>\n",
       "    </tr>\n",
       "  </thead>\n",
       "  <tbody>\n",
       "    <tr>\n",
       "      <th>0</th>\n",
       "      <td>No</td>\n",
       "      <td>High</td>\n",
       "      <td>1115</td>\n",
       "    </tr>\n",
       "    <tr>\n",
       "      <th>1</th>\n",
       "      <td>No</td>\n",
       "      <td>Low</td>\n",
       "      <td>84</td>\n",
       "    </tr>\n",
       "    <tr>\n",
       "      <th>2</th>\n",
       "      <td>No</td>\n",
       "      <td>Medium</td>\n",
       "      <td>247</td>\n",
       "    </tr>\n",
       "    <tr>\n",
       "      <th>3</th>\n",
       "      <td>No</td>\n",
       "      <td>Very High</td>\n",
       "      <td>1060</td>\n",
       "    </tr>\n",
       "    <tr>\n",
       "      <th>4</th>\n",
       "      <td>Yes</td>\n",
       "      <td>High</td>\n",
       "      <td>221</td>\n",
       "    </tr>\n",
       "    <tr>\n",
       "      <th>5</th>\n",
       "      <td>Yes</td>\n",
       "      <td>Low</td>\n",
       "      <td>20</td>\n",
       "    </tr>\n",
       "    <tr>\n",
       "      <th>6</th>\n",
       "      <td>Yes</td>\n",
       "      <td>Medium</td>\n",
       "      <td>58</td>\n",
       "    </tr>\n",
       "    <tr>\n",
       "      <th>7</th>\n",
       "      <td>Yes</td>\n",
       "      <td>Very High</td>\n",
       "      <td>223</td>\n",
       "    </tr>\n",
       "  </tbody>\n",
       "</table>\n",
       "</div>"
      ],
      "text/plain": [
       "  AdReac ons_worthw  count\n",
       "0     No       High   1115\n",
       "1     No        Low     84\n",
       "2     No     Medium    247\n",
       "3     No  Very High   1060\n",
       "4    Yes       High    221\n",
       "5    Yes        Low     20\n",
       "6    Yes     Medium     58\n",
       "7    Yes  Very High    223"
      ]
     },
     "execution_count": 70,
     "metadata": {},
     "output_type": "execute_result"
    }
   ],
   "source": [
    "food_and_you_worth_group"
   ]
  },
  {
   "cell_type": "code",
   "execution_count": 71,
   "metadata": {},
   "outputs": [],
   "source": [
    "food_and_you_worth_group['percent'] = [44.49,3.35,9.85,42.30,42.33,3.83,11.11,42.72]"
   ]
  },
  {
   "cell_type": "code",
   "execution_count": 85,
   "metadata": {},
   "outputs": [
    {
     "data": {
      "text/plain": [
       "Text(0, 0.5, 'Percentage of people with a hypersensitivity')"
      ]
     },
     "execution_count": 85,
     "metadata": {},
     "output_type": "execute_result"
    },
    {
     "data": {
      "image/png": "[encoded data removed]",
      "text/plain": [
       "<Figure size 432x288 with 1 Axes>"
      ]
     },
     "metadata": {
      "needs_background": "light"
     },
     "output_type": "display_data"
    }
   ],
   "source": [
    "sns.barplot(x='ons_worthw',y='percent',data=food_and_you_worth_group,hue='AdReac')\n",
    "plt.xlabel(\"Worthwhile\")\n",
    "plt.ylabel(\"Percentage of people with a hypersensitivity\")"
   ]
  },
  {
   "cell_type": "code",
   "execution_count": null,
   "metadata": {},
   "outputs": [],
   "source": []
  },
  {
   "cell_type": "code",
   "execution_count": 73,
   "metadata": {},
   "outputs": [],
   "source": [
    "food_and_you_happy_group = barplot('ons_happy')"
   ]
  },
  {
   "cell_type": "code",
   "execution_count": 74,
   "metadata": {},
   "outputs": [
    {
     "data": {
      "text/html": [
       "<div>\n",
       "<style scoped>\n",
       "    .dataframe tbody tr th:only-of-type {\n",
       "        vertical-align: middle;\n",
       "    }\n",
       "\n",
       "    .dataframe tbody tr th {\n",
       "        vertical-align: top;\n",
       "    }\n",
       "\n",
       "    .dataframe thead th {\n",
       "        text-align: right;\n",
       "    }\n",
       "</style>\n",
       "<table border=\"1\" class=\"dataframe\">\n",
       "  <thead>\n",
       "    <tr style=\"text-align: right;\">\n",
       "      <th></th>\n",
       "      <th>AdReac</th>\n",
       "      <th>ons_happy</th>\n",
       "      <th>count</th>\n",
       "    </tr>\n",
       "  </thead>\n",
       "  <tbody>\n",
       "    <tr>\n",
       "      <th>0</th>\n",
       "      <td>No</td>\n",
       "      <td>High</td>\n",
       "      <td>974</td>\n",
       "    </tr>\n",
       "    <tr>\n",
       "      <th>1</th>\n",
       "      <td>No</td>\n",
       "      <td>Low</td>\n",
       "      <td>172</td>\n",
       "    </tr>\n",
       "    <tr>\n",
       "      <th>2</th>\n",
       "      <td>No</td>\n",
       "      <td>Medium</td>\n",
       "      <td>317</td>\n",
       "    </tr>\n",
       "    <tr>\n",
       "      <th>3</th>\n",
       "      <td>No</td>\n",
       "      <td>Very High</td>\n",
       "      <td>1051</td>\n",
       "    </tr>\n",
       "    <tr>\n",
       "      <th>4</th>\n",
       "      <td>Yes</td>\n",
       "      <td>High</td>\n",
       "      <td>193</td>\n",
       "    </tr>\n",
       "    <tr>\n",
       "      <th>5</th>\n",
       "      <td>Yes</td>\n",
       "      <td>Low</td>\n",
       "      <td>55</td>\n",
       "    </tr>\n",
       "    <tr>\n",
       "      <th>6</th>\n",
       "      <td>Yes</td>\n",
       "      <td>Medium</td>\n",
       "      <td>72</td>\n",
       "    </tr>\n",
       "    <tr>\n",
       "      <th>7</th>\n",
       "      <td>Yes</td>\n",
       "      <td>Very High</td>\n",
       "      <td>200</td>\n",
       "    </tr>\n",
       "  </tbody>\n",
       "</table>\n",
       "</div>"
      ],
      "text/plain": [
       "  AdReac  ons_happy  count\n",
       "0     No       High    974\n",
       "1     No        Low    172\n",
       "2     No     Medium    317\n",
       "3     No  Very High   1051\n",
       "4    Yes       High    193\n",
       "5    Yes        Low     55\n",
       "6    Yes     Medium     72\n",
       "7    Yes  Very High    200"
      ]
     },
     "execution_count": 74,
     "metadata": {},
     "output_type": "execute_result"
    }
   ],
   "source": [
    "food_and_you_happy_group"
   ]
  },
  {
   "cell_type": "code",
   "execution_count": 75,
   "metadata": {},
   "outputs": [],
   "source": [
    "food_and_you_happy_group['percent'] = [38.74,6.84,12.6,41.8,37.12,10.58,13.85,38.46]"
   ]
  },
  {
   "cell_type": "code",
   "execution_count": 76,
   "metadata": {},
   "outputs": [
    {
     "data": {
      "text/plain": [
       "Text(0, 0.5, 'Percentage of people with a hypersensitivity')"
      ]
     },
     "execution_count": 76,
     "metadata": {},
     "output_type": "execute_result"
    },
    {
     "data": {
      "image/png": "[encoded data removed]",
      "text/plain": [
       "<Figure size 432x288 with 1 Axes>"
      ]
     },
     "metadata": {
      "needs_background": "light"
     },
     "output_type": "display_data"
    }
   ],
   "source": [
    "sns.barplot(x='ons_happy',y='percent',data=food_and_you_happy_group,hue='AdReac')\n",
    "plt.xlabel(\"Happy\")\n",
    "plt.ylabel(\"Percentage of people with a hypersensitivity\")"
   ]
  },
  {
   "cell_type": "code",
   "execution_count": 77,
   "metadata": {},
   "outputs": [],
   "source": [
    "food_and_you_anxiety_group = barplot('ons_anxiety')"
   ]
  },
  {
   "cell_type": "code",
   "execution_count": 78,
   "metadata": {},
   "outputs": [
    {
     "data": {
      "text/html": [
       "<div>\n",
       "<style scoped>\n",
       "    .dataframe tbody tr th:only-of-type {\n",
       "        vertical-align: middle;\n",
       "    }\n",
       "\n",
       "    .dataframe tbody tr th {\n",
       "        vertical-align: top;\n",
       "    }\n",
       "\n",
       "    .dataframe thead th {\n",
       "        text-align: right;\n",
       "    }\n",
       "</style>\n",
       "<table border=\"1\" class=\"dataframe\">\n",
       "  <thead>\n",
       "    <tr style=\"text-align: right;\">\n",
       "      <th></th>\n",
       "      <th>AdReac</th>\n",
       "      <th>ons_anxiety</th>\n",
       "      <th>count</th>\n",
       "    </tr>\n",
       "  </thead>\n",
       "  <tbody>\n",
       "    <tr>\n",
       "      <th>0</th>\n",
       "      <td>No</td>\n",
       "      <td>High</td>\n",
       "      <td>479</td>\n",
       "    </tr>\n",
       "    <tr>\n",
       "      <th>1</th>\n",
       "      <td>No</td>\n",
       "      <td>Low</td>\n",
       "      <td>503</td>\n",
       "    </tr>\n",
       "    <tr>\n",
       "      <th>2</th>\n",
       "      <td>No</td>\n",
       "      <td>Medium</td>\n",
       "      <td>340</td>\n",
       "    </tr>\n",
       "    <tr>\n",
       "      <th>3</th>\n",
       "      <td>No</td>\n",
       "      <td>Very low</td>\n",
       "      <td>1188</td>\n",
       "    </tr>\n",
       "    <tr>\n",
       "      <th>4</th>\n",
       "      <td>Yes</td>\n",
       "      <td>High</td>\n",
       "      <td>126</td>\n",
       "    </tr>\n",
       "    <tr>\n",
       "      <th>5</th>\n",
       "      <td>Yes</td>\n",
       "      <td>Low</td>\n",
       "      <td>105</td>\n",
       "    </tr>\n",
       "    <tr>\n",
       "      <th>6</th>\n",
       "      <td>Yes</td>\n",
       "      <td>Medium</td>\n",
       "      <td>79</td>\n",
       "    </tr>\n",
       "    <tr>\n",
       "      <th>7</th>\n",
       "      <td>Yes</td>\n",
       "      <td>Very low</td>\n",
       "      <td>211</td>\n",
       "    </tr>\n",
       "  </tbody>\n",
       "</table>\n",
       "</div>"
      ],
      "text/plain": [
       "  AdReac ons_anxiety  count\n",
       "0     No        High    479\n",
       "1     No         Low    503\n",
       "2     No      Medium    340\n",
       "3     No    Very low   1188\n",
       "4    Yes        High    126\n",
       "5    Yes         Low    105\n",
       "6    Yes      Medium     79\n",
       "7    Yes    Very low    211"
      ]
     },
     "execution_count": 78,
     "metadata": {},
     "output_type": "execute_result"
    }
   ],
   "source": [
    "food_and_you_anxiety_group"
   ]
  },
  {
   "cell_type": "code",
   "execution_count": 79,
   "metadata": {},
   "outputs": [],
   "source": [
    "food_and_you_anxiety_group['percent'] = [19.08,20.04,13.55,47.33,24.18,20.15,15.16,40.49]"
   ]
  },
  {
   "cell_type": "code",
   "execution_count": 80,
   "metadata": {},
   "outputs": [
    {
     "data": {
      "text/plain": [
       "Text(0, 0.5, 'Percentage of people with a hypersensitivity')"
      ]
     },
     "execution_count": 80,
     "metadata": {},
     "output_type": "execute_result"
    },
    {
     "data": {
      "image/png": "[encoded data removed]",
      "text/plain": [
       "<Figure size 432x288 with 1 Axes>"
      ]
     },
     "metadata": {
      "needs_background": "light"
     },
     "output_type": "display_data"
    }
   ],
   "source": [
    "sns.barplot(x='ons_anxiety',y='percent',data=food_and_you_anxiety_group,hue='AdReac')\n",
    "plt.xlabel(\"Anxiety\")\n",
    "plt.ylabel(\"Percentage of people with a hypersensitivity\")"
   ]
  },
  {
   "cell_type": "markdown",
   "metadata": {},
   "source": [
    "## Other data"
   ]
  },
  {
   "cell_type": "code",
   "execution_count": 81,
   "metadata": {},
   "outputs": [],
   "source": [
    "#'Q6_4a','Q6_4b','Q6_4c','Q6_4d'"
   ]
  },
  {
   "cell_type": "code",
   "execution_count": 82,
   "metadata": {},
   "outputs": [
    {
     "data": {
      "text/html": [
       "<div>\n",
       "<style scoped>\n",
       "    .dataframe tbody tr th:only-of-type {\n",
       "        vertical-align: middle;\n",
       "    }\n",
       "\n",
       "    .dataframe tbody tr th {\n",
       "        vertical-align: top;\n",
       "    }\n",
       "\n",
       "    .dataframe thead th {\n",
       "        text-align: right;\n",
       "    }\n",
       "</style>\n",
       "<table border=\"1\" class=\"dataframe\">\n",
       "  <thead>\n",
       "    <tr style=\"text-align: right;\">\n",
       "      <th></th>\n",
       "      <th>Respondent ID</th>\n",
       "      <th>Collector ID</th>\n",
       "      <th>How old are you?Response</th>\n",
       "      <th>Have you ever had a reaction after eating certain foods?Response</th>\n",
       "      <th>How would you best describe your problem with this/these food(s)?FoodAllergy</th>\n",
       "      <th>How would you best describe your problem with this/these food(s)?FoodIntolerance</th>\n",
       "      <th>How would you best describe your problem with this/these food(s)?CoeliacDisease</th>\n",
       "      <th>How would you best describe your problem with this/these food(s)?NonCoeliacGlutenSensitivity</th>\n",
       "      <th>How would you best describe your problem with this/these food(s)?Other</th>\n",
       "      <th>Has this condition been diagnosed?Response</th>\n",
       "      <th>...</th>\n",
       "      <th>WhenYouEatOutOrOrderATakeawayFoodOnlineWithoutSupportHowWorriedAreYouAboutAnyOfTheFollowing?AllergenInformationNotBeingEasyToFind</th>\n",
       "      <th>WhenYouEatOutOrOrderATakeawayFoodOnlineWithoutSupportHowWorriedAreYouAboutAnyOfTheFollowing?HavingToAskForAllergenInformation</th>\n",
       "      <th>AgainWhenEatingOutOrOrderingATakeawayFoodOnlineWithoutSupportWouldAnyOfTheFollowingHelpInTheManagementOfYourCondition?SeparateMenusForPeopleWithFoodAllergiesIntolerances</th>\n",
       "      <th>AgainWhenEatingOutOrOrderingATakeawayFoodOnlineWithoutSupportWouldAnyOfTheFollowingHelpInTheManagementOfYourCondition?AllergenInformationListedNextToDishesOnTheMenu</th>\n",
       "      <th>AgainWhenEatingOutOrOrderingATakeawayFoodOnlineWithoutSupportWouldAnyOfTheFollowingHelpInTheManagementOfYourCondition?SymbolsRepresentingAllergensListedNextToDishesOnTheMenu</th>\n",
       "      <th>AgainWhenEatingOutOrOrderingATakeawayFoodOnlineWithoutSupportWouldAnyOfTheFollowingHelpInTheManagementOfYourCondition?SignsEncouragingPeopleWithFoodAllergiesIntolerancesToAskForAllergenInformation</th>\n",
       "      <th>AgainWhenEatingOutOrOrderingATakeawayFoodOnlineWithoutSupportWouldAnyOfTheFollowingHelpInTheManagementOfYourCondition?WaitingStaffPro-ActivelyAskingIfAnyoneOnTheTableHasFoodAllergyOrIntoleranceNeedsWhenTakingYourReservationOrYourFoodOrder</th>\n",
       "      <th>AgainWhenEatingOutOrOrderingATakeawayFoodOnlineWithoutSupportWouldAnyOfTheFollowingHelpInTheManagementOfYourCondition?NoneOfTheAbove</th>\n",
       "      <th>ThinkingAboutYourMainResidenceWhereDoYouCurrentlyLive?Response</th>\n",
       "      <th>WhichBestDescribesYourCurrentStatus?Response</th>\n",
       "    </tr>\n",
       "  </thead>\n",
       "  <tbody>\n",
       "    <tr>\n",
       "      <th>0</th>\n",
       "      <td>10135679567</td>\n",
       "      <td>213575351</td>\n",
       "      <td>16 - 18 years old</td>\n",
       "      <td>Yes</td>\n",
       "      <td>Food allergy</td>\n",
       "      <td>NaN</td>\n",
       "      <td>NaN</td>\n",
       "      <td>NaN</td>\n",
       "      <td>NaN</td>\n",
       "      <td>Yes</td>\n",
       "      <td>...</td>\n",
       "      <td>A little worried</td>\n",
       "      <td>Not at all worried</td>\n",
       "      <td>NaN</td>\n",
       "      <td>Allergen information listed next to dishes on ...</td>\n",
       "      <td>NaN</td>\n",
       "      <td>NaN</td>\n",
       "      <td>NaN</td>\n",
       "      <td>NaN</td>\n",
       "      <td>South East</td>\n",
       "      <td>Full time student/at school</td>\n",
       "    </tr>\n",
       "    <tr>\n",
       "      <th>1</th>\n",
       "      <td>10135285347</td>\n",
       "      <td>213575351</td>\n",
       "      <td>16 - 18 years old</td>\n",
       "      <td>Yes</td>\n",
       "      <td>Food allergy</td>\n",
       "      <td>NaN</td>\n",
       "      <td>NaN</td>\n",
       "      <td>NaN</td>\n",
       "      <td>NaN</td>\n",
       "      <td>Yes</td>\n",
       "      <td>...</td>\n",
       "      <td>A little worried</td>\n",
       "      <td>Not at all worried</td>\n",
       "      <td>NaN</td>\n",
       "      <td>Allergen information listed next to dishes on ...</td>\n",
       "      <td>Symbols representing allergens listed next to ...</td>\n",
       "      <td>NaN</td>\n",
       "      <td>Waiting staff pro-actively asking if anyone on...</td>\n",
       "      <td>NaN</td>\n",
       "      <td>London</td>\n",
       "      <td>Full time student/at school</td>\n",
       "    </tr>\n",
       "    <tr>\n",
       "      <th>2</th>\n",
       "      <td>10135219567</td>\n",
       "      <td>213575351</td>\n",
       "      <td>16 - 18 years old</td>\n",
       "      <td>Yes</td>\n",
       "      <td>Food allergy</td>\n",
       "      <td>NaN</td>\n",
       "      <td>NaN</td>\n",
       "      <td>NaN</td>\n",
       "      <td>NaN</td>\n",
       "      <td>Yes</td>\n",
       "      <td>...</td>\n",
       "      <td>NaN</td>\n",
       "      <td>NaN</td>\n",
       "      <td>NaN</td>\n",
       "      <td>NaN</td>\n",
       "      <td>NaN</td>\n",
       "      <td>NaN</td>\n",
       "      <td>NaN</td>\n",
       "      <td>NaN</td>\n",
       "      <td>West Midlands</td>\n",
       "      <td>Full time student/at school</td>\n",
       "    </tr>\n",
       "    <tr>\n",
       "      <th>3</th>\n",
       "      <td>10135156891</td>\n",
       "      <td>213575351</td>\n",
       "      <td>19 - 21 years old</td>\n",
       "      <td>Yes</td>\n",
       "      <td>Food allergy</td>\n",
       "      <td>NaN</td>\n",
       "      <td>NaN</td>\n",
       "      <td>NaN</td>\n",
       "      <td>NaN</td>\n",
       "      <td>Yes</td>\n",
       "      <td>...</td>\n",
       "      <td>Very worried</td>\n",
       "      <td>Not at all worried</td>\n",
       "      <td>Separate menus for people with food allergies/...</td>\n",
       "      <td>Allergen information listed next to dishes on ...</td>\n",
       "      <td>NaN</td>\n",
       "      <td>Signs encouraging people with food allergies/i...</td>\n",
       "      <td>Waiting staff pro-actively asking if anyone on...</td>\n",
       "      <td>NaN</td>\n",
       "      <td>East of England</td>\n",
       "      <td>Full time student/at school</td>\n",
       "    </tr>\n",
       "    <tr>\n",
       "      <th>4</th>\n",
       "      <td>10135132918</td>\n",
       "      <td>213575351</td>\n",
       "      <td>22 - 24 years old</td>\n",
       "      <td>Yes</td>\n",
       "      <td>Food allergy</td>\n",
       "      <td>NaN</td>\n",
       "      <td>NaN</td>\n",
       "      <td>NaN</td>\n",
       "      <td>NaN</td>\n",
       "      <td>Yes</td>\n",
       "      <td>...</td>\n",
       "      <td>Very worried</td>\n",
       "      <td>Not at all worried</td>\n",
       "      <td>NaN</td>\n",
       "      <td>Allergen information listed next to dishes on ...</td>\n",
       "      <td>Symbols representing allergens listed next to ...</td>\n",
       "      <td>NaN</td>\n",
       "      <td>Waiting staff pro-actively asking if anyone on...</td>\n",
       "      <td>NaN</td>\n",
       "      <td>London</td>\n",
       "      <td>Employed full-time</td>\n",
       "    </tr>\n",
       "  </tbody>\n",
       "</table>\n",
       "<p>5 rows × 75 columns</p>\n",
       "</div>"
      ],
      "text/plain": [
       "   Respondent ID  Collector ID How old are you?Response  \\\n",
       "0    10135679567     213575351        16 - 18 years old   \n",
       "1    10135285347     213575351        16 - 18 years old   \n",
       "2    10135219567     213575351        16 - 18 years old   \n",
       "3    10135156891     213575351        19 - 21 years old   \n",
       "4    10135132918     213575351        22 - 24 years old   \n",
       "\n",
       "  Have you ever had a reaction after eating certain foods?Response  \\\n",
       "0                                                Yes                 \n",
       "1                                                Yes                 \n",
       "2                                                Yes                 \n",
       "3                                                Yes                 \n",
       "4                                                Yes                 \n",
       "\n",
       "  How would you best describe your problem with this/these food(s)?FoodAllergy  \\\n",
       "0                                       Food allergy                             \n",
       "1                                       Food allergy                             \n",
       "2                                       Food allergy                             \n",
       "3                                       Food allergy                             \n",
       "4                                       Food allergy                             \n",
       "\n",
       "  How would you best describe your problem with this/these food(s)?FoodIntolerance  \\\n",
       "0                                                NaN                                 \n",
       "1                                                NaN                                 \n",
       "2                                                NaN                                 \n",
       "3                                                NaN                                 \n",
       "4                                                NaN                                 \n",
       "\n",
       "  How would you best describe your problem with this/these food(s)?CoeliacDisease  \\\n",
       "0                                                NaN                                \n",
       "1                                                NaN                                \n",
       "2                                                NaN                                \n",
       "3                                                NaN                                \n",
       "4                                                NaN                                \n",
       "\n",
       "  How would you best describe your problem with this/these food(s)?NonCoeliacGlutenSensitivity  \\\n",
       "0                                                NaN                                             \n",
       "1                                                NaN                                             \n",
       "2                                                NaN                                             \n",
       "3                                                NaN                                             \n",
       "4                                                NaN                                             \n",
       "\n",
       "  How would you best describe your problem with this/these food(s)?Other  \\\n",
       "0                                                NaN                       \n",
       "1                                                NaN                       \n",
       "2                                                NaN                       \n",
       "3                                                NaN                       \n",
       "4                                                NaN                       \n",
       "\n",
       "  Has this condition been diagnosed?Response  ...  \\\n",
       "0                                        Yes  ...   \n",
       "1                                        Yes  ...   \n",
       "2                                        Yes  ...   \n",
       "3                                        Yes  ...   \n",
       "4                                        Yes  ...   \n",
       "\n",
       "  WhenYouEatOutOrOrderATakeawayFoodOnlineWithoutSupportHowWorriedAreYouAboutAnyOfTheFollowing?AllergenInformationNotBeingEasyToFind  \\\n",
       "0                                   A little worried                                                                                  \n",
       "1                                   A little worried                                                                                  \n",
       "2                                                NaN                                                                                  \n",
       "3                                       Very worried                                                                                  \n",
       "4                                       Very worried                                                                                  \n",
       "\n",
       "  WhenYouEatOutOrOrderATakeawayFoodOnlineWithoutSupportHowWorriedAreYouAboutAnyOfTheFollowing?HavingToAskForAllergenInformation  \\\n",
       "0                                 Not at all worried                                                                              \n",
       "1                                 Not at all worried                                                                              \n",
       "2                                                NaN                                                                              \n",
       "3                                 Not at all worried                                                                              \n",
       "4                                 Not at all worried                                                                              \n",
       "\n",
       "  AgainWhenEatingOutOrOrderingATakeawayFoodOnlineWithoutSupportWouldAnyOfTheFollowingHelpInTheManagementOfYourCondition?SeparateMenusForPeopleWithFoodAllergiesIntolerances  \\\n",
       "0                                                NaN                                                                                                                          \n",
       "1                                                NaN                                                                                                                          \n",
       "2                                                NaN                                                                                                                          \n",
       "3  Separate menus for people with food allergies/...                                                                                                                          \n",
       "4                                                NaN                                                                                                                          \n",
       "\n",
       "  AgainWhenEatingOutOrOrderingATakeawayFoodOnlineWithoutSupportWouldAnyOfTheFollowingHelpInTheManagementOfYourCondition?AllergenInformationListedNextToDishesOnTheMenu  \\\n",
       "0  Allergen information listed next to dishes on ...                                                                                                                     \n",
       "1  Allergen information listed next to dishes on ...                                                                                                                     \n",
       "2                                                NaN                                                                                                                     \n",
       "3  Allergen information listed next to dishes on ...                                                                                                                     \n",
       "4  Allergen information listed next to dishes on ...                                                                                                                     \n",
       "\n",
       "  AgainWhenEatingOutOrOrderingATakeawayFoodOnlineWithoutSupportWouldAnyOfTheFollowingHelpInTheManagementOfYourCondition?SymbolsRepresentingAllergensListedNextToDishesOnTheMenu  \\\n",
       "0                                                NaN                                                                                                                              \n",
       "1  Symbols representing allergens listed next to ...                                                                                                                              \n",
       "2                                                NaN                                                                                                                              \n",
       "3                                                NaN                                                                                                                              \n",
       "4  Symbols representing allergens listed next to ...                                                                                                                              \n",
       "\n",
       "  AgainWhenEatingOutOrOrderingATakeawayFoodOnlineWithoutSupportWouldAnyOfTheFollowingHelpInTheManagementOfYourCondition?SignsEncouragingPeopleWithFoodAllergiesIntolerancesToAskForAllergenInformation  \\\n",
       "0                                                NaN                                                                                                                                                     \n",
       "1                                                NaN                                                                                                                                                     \n",
       "2                                                NaN                                                                                                                                                     \n",
       "3  Signs encouraging people with food allergies/i...                                                                                                                                                     \n",
       "4                                                NaN                                                                                                                                                     \n",
       "\n",
       "  AgainWhenEatingOutOrOrderingATakeawayFoodOnlineWithoutSupportWouldAnyOfTheFollowingHelpInTheManagementOfYourCondition?WaitingStaffPro-ActivelyAskingIfAnyoneOnTheTableHasFoodAllergyOrIntoleranceNeedsWhenTakingYourReservationOrYourFoodOrder  \\\n",
       "0                                                NaN                                                                                                                                                                                               \n",
       "1  Waiting staff pro-actively asking if anyone on...                                                                                                                                                                                               \n",
       "2                                                NaN                                                                                                                                                                                               \n",
       "3  Waiting staff pro-actively asking if anyone on...                                                                                                                                                                                               \n",
       "4  Waiting staff pro-actively asking if anyone on...                                                                                                                                                                                               \n",
       "\n",
       "  AgainWhenEatingOutOrOrderingATakeawayFoodOnlineWithoutSupportWouldAnyOfTheFollowingHelpInTheManagementOfYourCondition?NoneOfTheAbove  \\\n",
       "0                                                NaN                                                                                     \n",
       "1                                                NaN                                                                                     \n",
       "2                                                NaN                                                                                     \n",
       "3                                                NaN                                                                                     \n",
       "4                                                NaN                                                                                     \n",
       "\n",
       "  ThinkingAboutYourMainResidenceWhereDoYouCurrentlyLive?Response  \\\n",
       "0                                         South East               \n",
       "1                                             London               \n",
       "2                                      West Midlands               \n",
       "3                                    East of England               \n",
       "4                                             London               \n",
       "\n",
       "  WhichBestDescribesYourCurrentStatus?Response  \n",
       "0                  Full time student/at school  \n",
       "1                  Full time student/at school  \n",
       "2                  Full time student/at school  \n",
       "3                  Full time student/at school  \n",
       "4                           Employed full-time  \n",
       "\n",
       "[5 rows x 75 columns]"
      ]
     },
     "execution_count": 82,
     "metadata": {},
     "output_type": "execute_result"
    }
   ],
   "source": [
    "young_people = pd.read_csv('Core_data-Q1_Allergies/young-people-and-food-allergies-intolerances-2018.csv')\n",
    "young_people.head()"
   ]
  },
  {
   "cell_type": "code",
   "execution_count": 83,
   "metadata": {},
   "outputs": [
    {
     "data": {
      "text/html": [
       "<div>\n",
       "<style scoped>\n",
       "    .dataframe tbody tr th:only-of-type {\n",
       "        vertical-align: middle;\n",
       "    }\n",
       "\n",
       "    .dataframe tbody tr th {\n",
       "        vertical-align: top;\n",
       "    }\n",
       "\n",
       "    .dataframe thead th {\n",
       "        text-align: right;\n",
       "    }\n",
       "</style>\n",
       "<table border=\"1\" class=\"dataframe\">\n",
       "  <thead>\n",
       "    <tr style=\"text-align: right;\">\n",
       "      <th></th>\n",
       "      <th>SubscriptionName</th>\n",
       "      <th>TotalSubscriptionsToDate</th>\n",
       "      <th>NewSubscriptionsToDate</th>\n",
       "      <th>NewSubscriptionsThisPeriod</th>\n",
       "      <th>DeletedSubscriptionsToDate</th>\n",
       "      <th>DeletedSubscriptionsThisPeriod</th>\n",
       "      <th>BulletinsSentThisPeriod</th>\n",
       "      <th>TotalBulletinsSentToDate</th>\n",
       "    </tr>\n",
       "  </thead>\n",
       "  <tbody>\n",
       "    <tr>\n",
       "      <th>0</th>\n",
       "      <td>News</td>\n",
       "      <td>13126</td>\n",
       "      <td>37985</td>\n",
       "      <td>0</td>\n",
       "      <td>24859</td>\n",
       "      <td>906</td>\n",
       "      <td>5</td>\n",
       "      <td>598</td>\n",
       "    </tr>\n",
       "    <tr>\n",
       "      <th>1</th>\n",
       "      <td>Cylchlythyr Rheoleiddio ein Dyfodol (Cymraeg) ...</td>\n",
       "      <td>2484</td>\n",
       "      <td>3273</td>\n",
       "      <td>2849</td>\n",
       "      <td>789</td>\n",
       "      <td>719</td>\n",
       "      <td>7</td>\n",
       "      <td>10</td>\n",
       "    </tr>\n",
       "    <tr>\n",
       "      <th>2</th>\n",
       "      <td>Regulating our Future newsletter</td>\n",
       "      <td>3983</td>\n",
       "      <td>4770</td>\n",
       "      <td>3845</td>\n",
       "      <td>787</td>\n",
       "      <td>707</td>\n",
       "      <td>7</td>\n",
       "      <td>9</td>\n",
       "    </tr>\n",
       "    <tr>\n",
       "      <th>3</th>\n",
       "      <td>Lupin SMS</td>\n",
       "      <td>23932</td>\n",
       "      <td>45694</td>\n",
       "      <td>38044</td>\n",
       "      <td>21762</td>\n",
       "      <td>14865</td>\n",
       "      <td>1</td>\n",
       "      <td>3</td>\n",
       "    </tr>\n",
       "    <tr>\n",
       "      <th>4</th>\n",
       "      <td>Soya SMS</td>\n",
       "      <td>23960</td>\n",
       "      <td>45554</td>\n",
       "      <td>38022</td>\n",
       "      <td>21594</td>\n",
       "      <td>14845</td>\n",
       "      <td>18</td>\n",
       "      <td>37</td>\n",
       "    </tr>\n",
       "  </tbody>\n",
       "</table>\n",
       "</div>"
      ],
      "text/plain": [
       "                                    SubscriptionName  \\\n",
       "0                                               News   \n",
       "1  Cylchlythyr Rheoleiddio ein Dyfodol (Cymraeg) ...   \n",
       "2                   Regulating our Future newsletter   \n",
       "3                                          Lupin SMS   \n",
       "4                                           Soya SMS   \n",
       "\n",
       "   TotalSubscriptionsToDate  NewSubscriptionsToDate  \\\n",
       "0                     13126                   37985   \n",
       "1                      2484                    3273   \n",
       "2                      3983                    4770   \n",
       "3                     23932                   45694   \n",
       "4                     23960                   45554   \n",
       "\n",
       "   NewSubscriptionsThisPeriod  DeletedSubscriptionsToDate  \\\n",
       "0                           0                       24859   \n",
       "1                        2849                         789   \n",
       "2                        3845                         787   \n",
       "3                       38044                       21762   \n",
       "4                       38022                       21594   \n",
       "\n",
       "   DeletedSubscriptionsThisPeriod  BulletinsSentThisPeriod  \\\n",
       "0                             906                        5   \n",
       "1                             719                        7   \n",
       "2                             707                        7   \n",
       "3                           14865                        1   \n",
       "4                           14845                       18   \n",
       "\n",
       "   TotalBulletinsSentToDate  \n",
       "0                       598  \n",
       "1                        10  \n",
       "2                         9  \n",
       "3                         3  \n",
       "4                        37  "
      ]
     },
     "execution_count": 83,
     "metadata": {},
     "output_type": "execute_result"
    }
   ],
   "source": [
    "email_2017 = pd.read_csv('Core_data-Q1_Allergies/email-sms-subscribers2017.csv')\n",
    "email_2017.head()"
   ]
  },
  {
   "cell_type": "code",
   "execution_count": 84,
   "metadata": {},
   "outputs": [
    {
     "data": {
      "text/html": [
       "<div>\n",
       "<style scoped>\n",
       "    .dataframe tbody tr th:only-of-type {\n",
       "        vertical-align: middle;\n",
       "    }\n",
       "\n",
       "    .dataframe tbody tr th {\n",
       "        vertical-align: top;\n",
       "    }\n",
       "\n",
       "    .dataframe thead th {\n",
       "        text-align: right;\n",
       "    }\n",
       "</style>\n",
       "<table border=\"1\" class=\"dataframe\">\n",
       "  <thead>\n",
       "    <tr style=\"text-align: right;\">\n",
       "      <th></th>\n",
       "      <th>SubscriptionID</th>\n",
       "      <th>Name</th>\n",
       "      <th>NumberSubscribersSince31March2019</th>\n",
       "    </tr>\n",
       "  </thead>\n",
       "  <tbody>\n",
       "    <tr>\n",
       "      <th>0</th>\n",
       "      <td>0</td>\n",
       "      <td>All subscribers</td>\n",
       "      <td>34095</td>\n",
       "    </tr>\n",
       "    <tr>\n",
       "      <th>1</th>\n",
       "      <td>0</td>\n",
       "      <td>Users with at least one allergy alert subscrip...</td>\n",
       "      <td>20105</td>\n",
       "    </tr>\n",
       "    <tr>\n",
       "      <th>2</th>\n",
       "      <td>62</td>\n",
       "      <td>Nuts</td>\n",
       "      <td>17336</td>\n",
       "    </tr>\n",
       "    <tr>\n",
       "      <th>3</th>\n",
       "      <td>63</td>\n",
       "      <td>Fish</td>\n",
       "      <td>16340</td>\n",
       "    </tr>\n",
       "    <tr>\n",
       "      <th>4</th>\n",
       "      <td>64</td>\n",
       "      <td>Milk</td>\n",
       "      <td>17236</td>\n",
       "    </tr>\n",
       "  </tbody>\n",
       "</table>\n",
       "</div>"
      ],
      "text/plain": [
       "   SubscriptionID                                               Name  \\\n",
       "0               0                                    All subscribers   \n",
       "1               0  Users with at least one allergy alert subscrip...   \n",
       "2              62                                               Nuts   \n",
       "3              63                                               Fish   \n",
       "4              64                                               Milk   \n",
       "\n",
       "   NumberSubscribersSince31March2019  \n",
       "0                              34095  \n",
       "1                              20105  \n",
       "2                              17336  \n",
       "3                              16340  \n",
       "4                              17236  "
      ]
     },
     "execution_count": 84,
     "metadata": {},
     "output_type": "execute_result"
    }
   ],
   "source": [
    "email_2018 = pd.read_csv('Core_data-Q1_Allergies/email-sms-subscribers2018.csv')\n",
    "email_2018.head()"
   ]
  },
  {
   "cell_type": "code",
   "execution_count": null,
   "metadata": {},
   "outputs": [],
   "source": []
  }
 ],
 "metadata": {
  "kernelspec": {
   "display_name": "Python 3",
   "language": "python",
   "name": "python3"
  },
  "language_info": {
   "codemirror_mode": {
    "name": "ipython",
    "version": 3
   },
   "file_extension": ".py",
   "mimetype": "text/x-python",
   "name": "python",
   "nbconvert_exporter": "python",
   "pygments_lexer": "ipython3",
   "version": "3.7.0"
  }
 },
 "nbformat": 4,
 "nbformat_minor": 2
}
